{
  "nbformat": 4,
  "nbformat_minor": 0,
  "metadata": {
    "colab": {
      "name": "A-25_task4.ipynb",
      "provenance": [],
      "collapsed_sections": []
    },
    "kernelspec": {
      "name": "python3",
      "display_name": "Python 3"
    },
    "language_info": {
      "name": "python"
    }
  },
  "cells": [
    {
      "cell_type": "markdown",
      "metadata": {
        "id": "hfZ4aZwx6abX"
      },
      "source": [
        "Name : Srushti Dhakate"
      ]
    },
    {
      "cell_type": "markdown",
      "source": [
        "Batch : A2"
      ],
      "metadata": {
        "id": "dCpoox3BRzTE"
      }
    },
    {
      "cell_type": "markdown",
      "source": [
        "Roll No : A-25"
      ],
      "metadata": {
        "id": "GbB9iOY8R2K8"
      }
    },
    {
      "cell_type": "markdown",
      "source": [
        "# **PRACTICAL 4 : STRINGS IN PYTHON**"
      ],
      "metadata": {
        "id": "2mCrGiWLR6Qv"
      }
    },
    {
      "cell_type": "markdown",
      "metadata": {
        "id": "EqP_hvrN6gbc"
      },
      "source": [
        "(i) String Operations and Indexing to slice the string."
      ]
    },
    {
      "cell_type": "code",
      "metadata": {
        "id": "PWVuQTsV6XSD",
        "colab": {
          "base_uri": "https://localhost:8080/"
        },
        "outputId": "ba3e935b-50a2-43f7-ae73-559b7e1ade25"
      },
      "source": [
        "a = \"Hello srushti,lucky and mike!\"\n",
        "b=\"Whats up?\"\n",
        "print(a)\n",
        "print(a[-1])\n",
        "print(len(a))\n",
        "print(a.upper())\n",
        "print(a.lower())\n",
        "print(a.find(\"e\"))\n",
        "print(a.replace(\"H\", \"m\"))\n",
        "print(a.split(\",\"))\n",
        "c=a+b\n",
        "print(c)\n",
        "print(a[1:7])\n",
        "print(a[:5])\n",
        "print(a[3:])\n",
        "print(a[-6:-2])"
      ],
      "execution_count": 3,
      "outputs": [
        {
          "output_type": "stream",
          "name": "stdout",
          "text": [
            "Hello srushti,lucky and mike!\n",
            "!\n",
            "29\n",
            "HELLO SRUSHTI,LUCKY AND MIKE!\n",
            "hello srushti,lucky and mike!\n",
            "1\n",
            "mello srushti,lucky and mike!\n",
            "['Hello srushti', 'lucky and mike!']\n",
            "Hello srushti,lucky and mike!Whats up?\n",
            "ello s\n",
            "Hello\n",
            "lo srushti,lucky and mike!\n",
            " mik\n"
          ]
        }
      ]
    },
    {
      "cell_type": "markdown",
      "metadata": {
        "id": "7CBk1qZg6mIm"
      },
      "source": [
        "(ii)Write a program to count the number of Vowels, Consonants, Digits and Special\n",
        "character in a string."
      ]
    },
    {
      "cell_type": "code",
      "metadata": {
        "colab": {
          "base_uri": "https://localhost:8080/"
        },
        "id": "tuLVDMYj6pSo",
        "outputId": "98811ef8-7db8-462d-b4ac-fb215c28dcbc"
      },
      "source": [
        "def count_string(string):\n",
        "\n",
        "    vowels = 0\n",
        "    consonant = 0\n",
        "    special_char = 0\n",
        "    spaces =0\n",
        "    digit = 0\n",
        "    for i in range(0, len(string)):\n",
        "         _a = string[i]\n",
        " \n",
        "         if ( (_a >= 'a' and _a <= 'z') or (_a >= 'A' and _a <= 'Z') ):\n",
        "            \n",
        "              _a = _a.lower()\n",
        "              if (_a == 'a' or _a == 'e' or _a == 'i' or _a == 'o' or _a == 'u'):\n",
        "                  vowels += 1\n",
        "              else:\n",
        "                  consonant += 1\n",
        "         \n",
        "         elif (_a >= '0' and _a <= '9'):\n",
        "             digit += 1\n",
        "         elif(_a == ' '):\n",
        "             spaces += 1\n",
        "         else:\n",
        "            special_char += 1\n",
        "     \n",
        "    print(\"Vowels:\", vowels)\n",
        "    print(\"Consonants:\", consonant)\n",
        "    print(\"Special Characters:\", special_char)\n",
        "    print(\"White Spaces:\", spaces)\n",
        "    print(\"Digits:\", digit)\n",
        "    \n",
        "a = input(\"enter a string of ur choice: \")\n",
        "count_string(a)\n",
        " "
      ],
      "execution_count": 5,
      "outputs": [
        {
          "output_type": "stream",
          "name": "stdout",
          "text": [
            "enter a string of ur choice: $rushti2210\n",
            "Vowels: 2\n",
            "Consonants: 4\n",
            "Special Characters: 1\n",
            "White Spaces: 0\n",
            "Digits: 4\n"
          ]
        }
      ]
    },
    {
      "cell_type": "markdown",
      "metadata": {
        "id": "8gxkP90o6qBt"
      },
      "source": [
        "(iii)Write a program that takes two strings as input and checks the common letter\n",
        "present in both the strings."
      ]
    },
    {
      "cell_type": "code",
      "metadata": {
        "id": "4-zd7sR96twZ",
        "colab": {
          "base_uri": "https://localhost:8080/"
        },
        "outputId": "c75f77b7-6ea7-4bd2-be7a-9916fa3731f5"
      },
      "source": [
        "str1=input(\"enter first string: \")\n",
        "str2=input(\"enter second string: \")\n",
        "a=list(set(str1)&set(str2))\n",
        "print(\"the common letters in both the strings are: \")\n",
        "for i in (a):\n",
        "  print(i)"
      ],
      "execution_count": 6,
      "outputs": [
        {
          "output_type": "stream",
          "name": "stdout",
          "text": [
            "enter first string: sakshi\n",
            "enter second string: krutika\n",
            "the common letters in both the strings are: \n",
            "i\n",
            "k\n",
            "a\n"
          ]
        }
      ]
    },
    {
      "cell_type": "markdown",
      "metadata": {
        "id": "gPELvLlQ6uVG"
      },
      "source": [
        "(iv) Write a program takes two strings and displays which letters are present in both\n",
        "the strings."
      ]
    },
    {
      "cell_type": "code",
      "metadata": {
        "id": "GDKGhrqU6yBY",
        "colab": {
          "base_uri": "https://localhost:8080/"
        },
        "outputId": "6ff20003-bc87-470e-a84b-b6aa9dc91cfe"
      },
      "source": [
        "s1=input(\"Enter first string:\")\n",
        "s2=input(\"Enter second string:\")\n",
        "a=list(set(s1)|set(s2))\n",
        "print(\"The letters are:\")\n",
        "for i in a:\n",
        "    print(i)"
      ],
      "execution_count": 7,
      "outputs": [
        {
          "output_type": "stream",
          "name": "stdout",
          "text": [
            "Enter first string:ramdeobaba\n",
            "Enter second string:college\n",
            "The letters are:\n",
            "r\n",
            "g\n",
            "m\n",
            "c\n",
            "e\n",
            "l\n",
            "b\n",
            "a\n",
            "o\n",
            "d\n"
          ]
        }
      ]
    },
    {
      "cell_type": "markdown",
      "metadata": {
        "id": "P_8WVRWr6yo4"
      },
      "source": [
        "(v)Write a program to check whether two strings are palindrome or not."
      ]
    },
    {
      "cell_type": "code",
      "metadata": {
        "colab": {
          "base_uri": "https://localhost:8080/"
        },
        "id": "I06NMfb862br",
        "outputId": "e42d4c63-c1c9-49ea-8bfc-e09a2e1f251c"
      },
      "source": [
        "def check_Palindrome(str):\n",
        " \n",
        "    \n",
        "    for i in range(0, int(len(str)/2)):\n",
        "        if str[i] != str[len(str)-i-1]:\n",
        "            return False\n",
        "        else :\n",
        "            return True\n",
        " \n",
        "a= input(\"enter a string: \")\n",
        "output = check_Palindrome(a)\n",
        " \n",
        "if (output):\n",
        "    print(\"The given string is palindrome\")\n",
        "else:\n",
        "    print(\"The given string is not palindrome\")\n"
      ],
      "execution_count": 8,
      "outputs": [
        {
          "output_type": "stream",
          "name": "stdout",
          "text": [
            "enter a string: kanak\n",
            "The given string is palindrome\n"
          ]
        }
      ]
    },
    {
      "cell_type": "markdown",
      "source": [
        "(vi) Write a python program to check whether two strings are Anagram or not."
      ],
      "metadata": {
        "id": "6rKsTAnWT6Gh"
      }
    },
    {
      "cell_type": "code",
      "source": [
        "s1=input(\"enter first string:\")\n",
        "s2=input(\"enter another string: \")\n",
        "print(\"OUTPUT:\")\n",
        "if(sorted(s1)==sorted(s2)):\n",
        "  print(\"the strings are anagrams\")\n",
        "else:\n",
        "    print(\"the strings are not anagrams\")"
      ],
      "metadata": {
        "id": "IZ_aT8w7T7qV",
        "colab": {
          "base_uri": "https://localhost:8080/"
        },
        "outputId": "b9c3a67c-d3b9-4288-9e79-c82f71961fa1"
      },
      "execution_count": 9,
      "outputs": [
        {
          "output_type": "stream",
          "name": "stdout",
          "text": [
            "enter first string:race\n",
            "enter another string: care\n",
            "OUTPUT:\n",
            "the strings are anagrams\n"
          ]
        }
      ]
    }
  ]
}