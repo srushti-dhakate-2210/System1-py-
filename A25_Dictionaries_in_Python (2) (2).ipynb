{
  "nbformat": 4,
  "nbformat_minor": 0,
  "metadata": {
    "colab": {
      "name": "A25_Dictionaries_in_Python.ipynb",
      "provenance": [],
      "collapsed_sections": []
    },
    "kernelspec": {
      "name": "python3",
      "display_name": "Python 3"
    },
    "language_info": {
      "name": "python"
    }
  },
  "cells": [
    {
      "cell_type": "markdown",
      "source": [
        "\n",
        "\n",
        "\n",
        "\n",
        "*   Name: Srushti Dhakate\n",
        "\n",
        "*   Roll No.: A25\n",
        "\n",
        "\n",
        "*   task 7\n",
        "*   Systems Lab\n",
        "\n",
        "\n",
        "\n",
        "\n",
        "\n"
      ],
      "metadata": {
        "id": "KxaY5F8Et3SU"
      }
    },
    {
      "cell_type": "code",
      "execution_count": null,
      "metadata": {
        "colab": {
          "base_uri": "https://localhost:8080/"
        },
        "id": "-X0h765Fquh0",
        "outputId": "12b07ab7-3c17-4052-fd9c-b9e85c77b9b0"
      },
      "outputs": [
        {
          "output_type": "stream",
          "name": "stdout",
          "text": [
            "original:  {1: 'srushti', 2: 'is', 3: 'good'}\n",
            "srushti\n",
            "dict_keys([1, 2, 3])\n",
            "dict_values(['srushti', 'is', 'good'])\n",
            "dict_items([(1, 'srushti'), (2, 'is'), (3, 'good')])\n"
          ]
        }
      ],
      "source": [
        "#que (i) Dictionary operations and Methods.\n",
        "dic = {1:'srushti', 2:'is', 3:'good'}\n",
        "print('original: ', dic)\n",
        "\n",
        "# Accessing value for key\n",
        "print(dic.get(1))\n",
        "\n",
        "# Accessing keys for the dictionary\n",
        "print(dic.keys())\n",
        "\n",
        "# Accessing keys for the dictionary\n",
        "print(dic.values())\n",
        "\n",
        "# Printing all the items of the Dictionary\n",
        "print(dic.items())\n"
      ]
    },
    {
      "cell_type": "code",
      "source": [
        "#que2\n",
        "# Create a dictionary in python and append elements in the dictionary. \n",
        "my_dict = {\"Name\":[],\"Address\":[],\"Age\":[]} \n",
        "               #OR    \n",
        "my_dict = {\"Name\":[],\"Address\":[],\"Age\":[]};\n",
        "\n",
        "my_dict[\"Name\"].append(\"Guru\")\n",
        "my_dict[\"Address\"].append(\"Mumbai\")\n",
        "my_dict[\"Age\"].append(30)\t\n",
        "print(my_dict)"
      ],
      "metadata": {
        "colab": {
          "base_uri": "https://localhost:8080/"
        },
        "id": "cIVj5hDwrmY-",
        "outputId": "c6a6ebae-dc38-4da0-c679-4444398ce0f2"
      },
      "execution_count": null,
      "outputs": [
        {
          "output_type": "stream",
          "name": "stdout",
          "text": [
            "{'Name': ['Guru'], 'Address': ['Mumbai'], 'Age': [30]}\n"
          ]
        }
      ]
    },
    {
      "cell_type": "code",
      "source": [
        "#que3\n",
        "#Write a python program to Concatenate two Dictionaries into one.\n",
        "\n",
        "s1={'Aarti':1,'Bina':2,}\n",
        "s2={'Cary':3,'Bina':5}\n",
        "s1.update(s2)\n",
        "print(\"Concatenated dictionary is:\")\n",
        "print(s1)"
      ],
      "metadata": {
        "colab": {
          "base_uri": "https://localhost:8080/"
        },
        "id": "OHrCMeowsEWE",
        "outputId": "d1f8f096-98b4-4196-fb0d-2f8cd6f12af3"
      },
      "execution_count": null,
      "outputs": [
        {
          "output_type": "stream",
          "name": "stdout",
          "text": [
            "Concatenated dictionary is:\n",
            "{'Aarti': 1, 'Bina': 5, 'Cary': 3}\n"
          ]
        }
      ]
    },
    {
      "cell_type": "code",
      "source": [
        "#que4\n",
        "#Write a python program to concatenate three Dictionaries into one empty dictionary.\n",
        "s1={'Aarti':1,'Bina':2,}\n",
        "s2={'Cary':3,'danny':5}\n",
        "s3={'Ramma':9}\n",
        "s4 = {}\n",
        "for d in (s1, s2, s3):\n",
        " s4.update(d)\n",
        "print(s4)"
      ],
      "metadata": {
        "colab": {
          "base_uri": "https://localhost:8080/"
        },
        "id": "dAGt0MDTv8xf",
        "outputId": "404b36aa-4324-477a-8630-8a0228d89317"
      },
      "execution_count": null,
      "outputs": [
        {
          "output_type": "stream",
          "name": "stdout",
          "text": [
            "{'Aarti': 1, 'Bina': 2, 'Cary': 3, 'danny': 5, 'Ramma': 9}\n"
          ]
        }
      ]
    },
    {
      "cell_type": "code",
      "source": [
        "#que5\n",
        "# Write a python program to remove the given Key from a Dictionary.\n",
        "fruit = {'apple':1,'banana':2,'cherry':3,'nuts':4}\n",
        "print(\"dictionary detail are as follows:\")\n",
        "print(fruit)\n",
        " \n",
        "key=input(\"Enter the key to delete:\")\n",
        "if key in fruit: \n",
        "    del fruit[key]\n",
        "else:\n",
        "    print(\"Sorry!Key not found in the dictionary!\")\n",
        "\n",
        "print(\"Updated fruit dictionary\")\n",
        "print(fruit)\n",
        "if key in fruit: \n",
        "    del fruit[key]\n",
        "else:\n",
        "    print(\"Sorry!Key not found in the dictionary!\")\n",
        "\n",
        "print(\"Updated fruit dictionary\")\n",
        "print(fruit)\n"
      ],
      "metadata": {
        "colab": {
          "base_uri": "https://localhost:8080/"
        },
        "id": "iVAv9_LlwDf7",
        "outputId": "4c1687c4-ebe1-4d73-8dc4-280917d98929"
      },
      "execution_count": null,
      "outputs": [
        {
          "output_type": "stream",
          "name": "stdout",
          "text": [
            "dictionary detail are as follows:\n",
            "{'apple': 1, 'banana': 2, 'cherry': 3, 'nuts': 4}\n",
            "Enter the key to delete:3\n",
            "Sorry!Key not found in the dictionary!\n",
            "Updated fruit dictionary\n",
            "{'apple': 1, 'banana': 2, 'cherry': 3, 'nuts': 4}\n",
            "Sorry!Key not found in the dictionary!\n",
            "Updated fruit dictionary\n",
            "{'apple': 1, 'banana': 2, 'cherry': 3, 'nuts': 4}\n"
          ]
        }
      ]
    },
    {
      "cell_type": "code",
      "source": [
        "#que (vi)Write a program to input your friend’s names and their Phone Numbers\n",
        "# and store them in the dictionary as the key-value pair.\n",
        "n = int(input(\"Enter how many names you want to enter: \"))\n",
        "# initialize empty dictionary\n",
        "names={}\n",
        "for i in range(n):\n",
        "    name=input(\"Enter name of friend: \")\n",
        "    number=input(\"Enter phone number: \")\n",
        "    names[name]=number #add name number to dictionary\n",
        "print(names)\n",
        "names[\"Arun\"]=\"9877666234\" #add new item\n",
        "print(\"Modified dictionary \",names)\n",
        "del names[\"Arun\"] #delete an item\n",
        "for name in names: #modify first key value\n",
        "    names[name] = \"9456356344\"\n",
        "    break\n",
        "print(\"Amit\" in names)\n",
        "print(\"dictionary in sorted order\")\n",
        "for i in sorted (names) : #sort the dictionary\n",
        "    print((i, names[i]), end =\" \")\n"
      ],
      "metadata": {
        "colab": {
          "base_uri": "https://localhost:8080/"
        },
        "id": "3VAdtELxwlxU",
        "outputId": "4b8f6ece-d4dd-4489-c95a-0c260a014ddc"
      },
      "execution_count": null,
      "outputs": [
        {
          "output_type": "stream",
          "name": "stdout",
          "text": [
            "Enter how many names you want to enter: 5\n",
            "Enter name of friend: ram\n",
            "Enter phone number: 1234\n",
            "Enter name of friend: shyam\n",
            "Enter phone number: 3456\n",
            "Enter name of friend: ritu\n",
            "Enter phone number: 4523\n",
            "Enter name of friend: kat\n",
            "Enter phone number: 3980\n",
            "Enter name of friend: joe\n",
            "Enter phone number: 3217\n",
            "{'ram': '1234', 'shyam': '3456', 'ritu': '4523', 'kat': '3980', 'joe': '3217'}\n",
            "Modified dictionary  {'ram': '1234', 'shyam': '3456', 'ritu': '4523', 'kat': '3980', 'joe': '3217', 'Arun': '9877666234'}\n",
            "False\n",
            "dictionary in sorted order\n",
            "('joe', '3217') ('kat', '3980') ('ram', '9456356344') ('ritu', '4523') ('shyam', '3456') "
          ]
        }
      ]
    },
    {
      "cell_type": "code",
      "source": [
        "#(vii)Create a dictionary (in your file) of names and birthdays. When you run \n",
        "#your program it should ask the user to enter a name, and return the birthday of\n",
        "# that person back to them.\n",
        "import time\n",
        "Birthdays ={\n",
        "    \"RAM KUMAR\": \"14/3/1989\",\n",
        "    \"SUNDAR PICHAI\": \"10/6/1972\",\n",
        "    \"STEVE JOBS\": \"24/2/1955\",\n",
        "}\n",
        "print(\"Welcome to the Birthday game ! We have the birthdays to:\")\n",
        "time.sleep(1)\n",
        "for x in Birthdays:\n",
        "    print(x)\n",
        "    time.sleep(0.7)\n",
        "choice= input(\"\\nWho's birthday do you want to look up?\")\n",
        "\n",
        "if choice in Birthdays:\n",
        "    print(\"The birthday of {} is: \".format(choice))\n",
        "    print(Birthdays[choice])\n"
      ],
      "metadata": {
        "colab": {
          "base_uri": "https://localhost:8080/"
        },
        "id": "2NsPCoVezlPS",
        "outputId": "4614fb18-7763-4bba-a965-0372711178c4"
      },
      "execution_count": null,
      "outputs": [
        {
          "output_type": "stream",
          "name": "stdout",
          "text": [
            "Welcome to the Birthday game ! We have the birthdays to:\n",
            "RAM KUMAR\n",
            "SUNDAR PICHAI\n",
            "STEVE JOBS\n",
            "\n",
            "Who's birthday do you want to look up?STEVE JOBS\n",
            "The birthday of STEVE JOBS is: \n",
            "24/2/1955\n"
          ]
        }
      ]
    },
    {
      "cell_type": "code",
      "source": [
        "#que 8 Using **kwargs to unpack dictionaries.\n",
        "student_dict1 = {'Srush': 1, 'Arun': 2, }\n",
        "student_dict2 = {'Rachel': 5, 'Sakshi': 6}\n",
        "student_dict3 = {'Nancy': 7, 'Perry': 9}\n",
        "\n",
        "# join three dictionaries \n",
        "student_dict = {**student_dict1, **student_dict2, **student_dict3}\n",
        "\n",
        "# printing the final Merged dictionary\n",
        "print(student_dict)"
      ],
      "metadata": {
        "colab": {
          "base_uri": "https://localhost:8080/"
        },
        "id": "JlFRYiaIvVZt",
        "outputId": "f9dbc0d2-067a-4d17-822f-ee03e60788fd"
      },
      "execution_count": 1,
      "outputs": [
        {
          "output_type": "stream",
          "name": "stdout",
          "text": [
            "{'Srush': 1, 'Arun': 2, 'Rachel': 5, 'Sakshi': 6, 'Nancy': 7, 'Perry': 9}\n"
          ]
        }
      ]
    },
    {
      "cell_type": "code",
      "source": [
        "#que (ix) Write a python program to demonstrate nested dictionaries.\n",
        "# address dictionary to store person address\n",
        "address = {\"state\": \"Texas\", 'city': 'Houston'}\n",
        "\n",
        "# dictionary to store person details with address as a nested dictionary\n",
        "person = {'name': 'Jessa', 'company': 'Google', 'address': address}\n",
        "\n",
        "# Display dictionary\n",
        "print(\"person Details:\", person)\n",
        "\n",
        "# Get nested dictionary key 'city'\n",
        "print(\"City:\", person['address']['city'])\n",
        "\n",
        "# Get nested dictionar key state\n",
        "print(\"state:\",person['address']['state'])\n",
        "\n",
        "# Iterating outer dictionary\n",
        "print(\"Person details\")\n",
        "for key, value in person.items():\n",
        "    if key == 'address':\n",
        "        # Iterating through nested dictionary\n",
        "        print(\"Person Address\")\n",
        "        for nested_key, nested_value in address.items():\n",
        "            print(nested_key, ':', nested_value)\n",
        "    else:\n",
        "        print(key, ':', value)"
      ],
      "metadata": {
        "colab": {
          "base_uri": "https://localhost:8080/"
        },
        "id": "CTmHL4cVw9K8",
        "outputId": "0665d04a-368a-4501-bec6-11cd10bd3219"
      },
      "execution_count": 2,
      "outputs": [
        {
          "output_type": "stream",
          "name": "stdout",
          "text": [
            "person Details: {'name': 'Jessa', 'company': 'Google', 'address': {'state': 'Texas', 'city': 'Houston'}}\n",
            "City: Houston\n",
            "state: Texas\n",
            "Person details\n",
            "name : Jessa\n",
            "company : Google\n",
            "Person Address\n",
            "state : Texas\n",
            "city : Houston\n"
          ]
        }
      ]
    },
    {
      "cell_type": "code",
      "source": [
        "# que (x) Write a python program to demonstrate dictionary comprehension.\n",
        "# calculate the square of each even number from a list and store in dict\n",
        "numbers = [1, 3, 5, 2, 8]\n",
        "even_squares = {x: x ** 2 for x in numbers if x % 2 == 0}\n",
        "print(even_squares)"
      ],
      "metadata": {
        "colab": {
          "base_uri": "https://localhost:8080/"
        },
        "id": "6GMwx-E8xRY6",
        "outputId": "77e0f54c-dbe8-465f-ed6a-2b5b54434e00"
      },
      "execution_count": 4,
      "outputs": [
        {
          "output_type": "stream",
          "name": "stdout",
          "text": [
            "{2: 4, 8: 64}\n"
          ]
        }
      ]
    },
    {
      "cell_type": "code",
      "source": [
        "telephone_book = [1178, 4020, 5786]\n",
        "persons = ['Jessa', 'Emma', 'Kelly']\n",
        "\n",
        "\n",
        "telephone_Directory = {key: value for key, value in zip(persons, telephone_book)}\n",
        "print(telephone_Directory)"
      ],
      "metadata": {
        "colab": {
          "base_uri": "https://localhost:8080/"
        },
        "id": "3Mpmmb4AxgcW",
        "outputId": "4cfa431a-af5d-42af-b1f0-a7a22d18e862"
      },
      "execution_count": 5,
      "outputs": [
        {
          "output_type": "stream",
          "name": "stdout",
          "text": [
            "{'Jessa': 1178, 'Emma': 4020, 'Kelly': 5786}\n"
          ]
        }
      ]
    }
  ]
}