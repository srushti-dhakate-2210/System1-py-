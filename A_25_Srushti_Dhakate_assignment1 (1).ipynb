{
  "nbformat": 4,
  "nbformat_minor": 0,
  "metadata": {
    "colab": {
      "name": "25_Srushti_Dhakate_(Assignment1).ipynb",
      "provenance": [],
      "collapsed_sections": []
    },
    "kernelspec": {
      "name": "python3",
      "display_name": "Python 3"
    },
    "language_info": {
      "name": "python"
    }
  },
  "cells": [
    {
      "cell_type": "markdown",
      "source": [
        "Q1. Write a program to print the following using for loop\n",
        "\n",
        "1. First 10 Even numbers \n",
        "2. First 10 Odd numbers\n",
        "3. First 10 Natural numbers\n",
        "4. First 10 Whole numbers\n"
      ],
      "metadata": {
        "id": "oJvPtWtsU_9h"
      }
    },
    {
      "cell_type": "code",
      "execution_count": null,
      "metadata": {
        "colab": {
          "base_uri": "https://localhost:8080/"
        },
        "id": "ZsBjVRJLUzC3",
        "outputId": "a38f1e44-9e47-4ae9-9d8a-3ea3097d5ff4"
      },
      "outputs": [
        {
          "output_type": "stream",
          "name": "stdout",
          "text": [
            "First 10 Even numbers are:\n",
            "2 4 6 8 10 12 14 16 18 20 \n",
            "\n",
            "First 10 Odd numbers are:\n",
            "1 3 5 7 9 11 13 15 17 19 \n",
            "\n",
            "First 10 Natural numbers are:\n",
            "1 2 3 4 5 6 7 8 9 10 \n",
            "\n",
            "First 10 Whole numbers are:\n",
            "0 1 2 3 4 5 6 7 8 9 \n",
            "\n"
          ]
        }
      ],
      "source": [
        "print(\"First 10 Even numbers are:\")\n",
        "for number in range (2, 21):\n",
        "  if number % 2 == 0:\n",
        "    print(number, end=' ')\n",
        "print(\"\\n\")\n",
        "\n",
        "print(\"First 10 Odd numbers are:\")\n",
        "for number in range (1, 20):\n",
        "  if number % 2 != 0:\n",
        "    print(number,end=' ')\n",
        "print(\"\\n\")\n",
        "\n",
        "print(\"First 10 Natural numbers are:\")\n",
        "for number in range (1, 11):\n",
        "  print(number,end=' ')\n",
        "print(\"\\n\")\n",
        "\n",
        "print(\"First 10 Whole numbers are:\")\n",
        "for number in range (0, 10):\n",
        "  print(number,end=' ')\n",
        "print(\"\\n\")"
      ]
    },
    {
      "cell_type": "markdown",
      "source": [
        "Q2. Write a program to display the number names of the digits of a number entered by user,\n",
        "for example if the number is 541 then output should be Five Four One."
      ],
      "metadata": {
        "id": "FVVLHbrdjPa6"
      }
    },
    {
      "cell_type": "code",
      "source": [
        "def Name(digit):\n",
        "  if digit == \"0\":\n",
        "    print(\"Zero \", end = \" \")\n",
        "  elif digit == \"1\":\n",
        "    print(\"One \", end = \" \")\n",
        "  elif digit == \"2\":\n",
        "    print(\"Two \", end = \" \")\n",
        "  elif digit == \"3\":\n",
        "    print(\"Three \", end = \" \")\n",
        "  elif digit == \"4\":\n",
        "    print(\"Four \", end = \" \")\n",
        "  elif digit == \"5\":\n",
        "    print(\"Five \", end = \" \")\n",
        "  elif digit == \"6\":\n",
        "    print(\"Six \", end = \" \")\n",
        "  elif digit == \"7\":\n",
        "    print(\"Seven \", end = \" \")\n",
        "  elif digit == \"8\":\n",
        "    print(\"Eight \", end = \" \")\n",
        "  elif digit == \"9\":\n",
        "    print(\"Nine \", end = \" \")\n",
        "\n",
        "number = input(\"Enter a number:\")\n",
        "\n",
        "i = 0;\n",
        "\n",
        "while i < len(number):\n",
        "  Name(number[i])\n",
        "  i+=1"
      ],
      "metadata": {
        "colab": {
          "base_uri": "https://localhost:8080/"
        },
        "id": "xVsO6wIj_zsm",
        "outputId": "5a9b1e69-2623-4c2e-eaea-c2ee62c1ca39"
      },
      "execution_count": 5,
      "outputs": [
        {
          "output_type": "stream",
          "name": "stdout",
          "text": [
            "Enter a number:987\n",
            "Nine  Eight  Seven  "
          ]
        }
      ]
    },
    {
      "cell_type": "markdown",
      "source": [
        "Q3. Write a program to add first n terms of the following series using a for loop:\n",
        "\n",
        "1/1! + 1/2! + 1/3! + …….. + 1/n!"
      ],
      "metadata": {
        "id": "KChqhUudA_Qk"
      }
    },
    {
      "cell_type": "code",
      "source": [
        "def factorial(n):\n",
        "  fact = 1\n",
        "  for i in range(2, n+1):\n",
        "    fact *= i\n",
        "  return fact\n",
        "\n",
        "def sum(n):\n",
        "  totalSum = 0.0\n",
        "  for i in range(1, n+1):\n",
        "    totalSum += (1.0 / factorial(i))\n",
        "  return totalSum\n",
        "\n",
        "n = int(input(\"Enter the value of n:\"))\n",
        "print(sum(n))"
      ],
      "metadata": {
        "id": "zFghZIOFAiXH",
        "colab": {
          "base_uri": "https://localhost:8080/"
        },
        "outputId": "3b1841f2-fd13-473d-aae2-a80fca95adb0"
      },
      "execution_count": 4,
      "outputs": [
        {
          "output_type": "stream",
          "name": "stdout",
          "text": [
            "Enter the value of n:7\n",
            "1.7182539682539684\n"
          ]
        }
      ]
    },
    {
      "cell_type": "markdown",
      "source": [
        "Q4. Write a program to display sum of odd numbers and even numbers separately that fall\n",
        "between two numbers accepted from the user. (Including both numbers)."
      ],
      "metadata": {
        "id": "7UmzA6eyrBEJ"
      }
    },
    {
      "cell_type": "code",
      "source": [
        "num1 = int(input(\"Enter the first number:\"))\n",
        "num2 = int(input(\"Enter the second number:\"))\n",
        "\n",
        "even_total = 0\n",
        "odd_total = 0\n",
        "\n",
        "for i in range (num1, num2+1):\n",
        "  if(i%2 == 0):\n",
        "    even_total += i\n",
        "  else:\n",
        "    odd_total += i\n",
        "\n",
        "print(\"The sum of even numbers is\", even_total)\n",
        "print(\"The sum of odd numbers is\", odd_total)"
      ],
      "metadata": {
        "colab": {
          "base_uri": "https://localhost:8080/"
        },
        "id": "lXUZrAU3qty3",
        "outputId": "7e66c59f-8d3f-4f2c-e3c0-4550411de442"
      },
      "execution_count": 3,
      "outputs": [
        {
          "output_type": "stream",
          "name": "stdout",
          "text": [
            "Enter the first number:25\n",
            "Enter the second number:75\n",
            "The sum of even numbers is 1250\n",
            "The sum of odd numbers is 1300\n"
          ]
        }
      ]
    },
    {
      "cell_type": "markdown",
      "source": [
        "Q5. Write a program to display all the numbers which are divisible by 13 but not by 3\n",
        "between 100 and 500."
      ],
      "metadata": {
        "id": "rTPBbvNPvyuw"
      }
    },
    {
      "cell_type": "code",
      "source": [
        "print(\"Numbers that are divisible by 13 but not by 3 are :\")\n",
        "for number in range(100, 501):\n",
        "  if number % 13 == 0 and number % 3 != 0:\n",
        "    print(number,end=\"  \")\n",
        "\n"
      ],
      "metadata": {
        "colab": {
          "base_uri": "https://localhost:8080/"
        },
        "id": "M-AW-ZUqt-gA",
        "outputId": "7f0cf6c4-5fd3-42b2-8737-274ab05e9a4d"
      },
      "execution_count": null,
      "outputs": [
        {
          "output_type": "stream",
          "name": "stdout",
          "text": [
            "Numbers that are divisible by 13 but not by 3 are :\n",
            "104  130  143  169  182  208  221  247  260  286  299  325  338  364  377  403  416  442  455  481  494  "
          ]
        }
      ]
    },
    {
      "cell_type": "markdown",
      "source": [
        "Q6. Write a Program to print all the characters in the string ‘PYTHON PROGRAMMING’\n",
        "using a for loop."
      ],
      "metadata": {
        "id": "59bYa0oMwy-z"
      }
    },
    {
      "cell_type": "code",
      "source": [
        "string = \"PYTHON PROGRAMMING\" \n",
        "\n",
        "for i in range(len(string)):\n",
        "  print(string[i])"
      ],
      "metadata": {
        "colab": {
          "base_uri": "https://localhost:8080/"
        },
        "id": "kZq9hx6Zwcti",
        "outputId": "7edabbb2-7ef9-475d-c44d-87d0e6cb2b3e"
      },
      "execution_count": null,
      "outputs": [
        {
          "output_type": "stream",
          "name": "stdout",
          "text": [
            "P\n",
            "Y\n",
            "T\n",
            "H\n",
            "O\n",
            "N\n",
            " \n",
            "P\n",
            "R\n",
            "O\n",
            "G\n",
            "R\n",
            "A\n",
            "M\n",
            "M\n",
            "I\n",
            "N\n",
            "G\n"
          ]
        }
      ]
    },
    {
      "cell_type": "markdown",
      "source": [
        "Q7. Write a program to print all the factors of a number using a for loop."
      ],
      "metadata": {
        "id": "2THOslFYxSDf"
      }
    },
    {
      "cell_type": "code",
      "source": [
        "num = int(input(\"Enter a number:\"))\n",
        "\n",
        "print(\"The factors of the number are:\")\n",
        "for i in range (1, num+1):\n",
        "  if num % i == 0:\n",
        "    print(i,end=\" \")"
      ],
      "metadata": {
        "colab": {
          "base_uri": "https://localhost:8080/"
        },
        "id": "JnOsSMJsxIi_",
        "outputId": "54eda939-7788-4aa5-d984-98fba15cad71"
      },
      "execution_count": 2,
      "outputs": [
        {
          "output_type": "stream",
          "name": "stdout",
          "text": [
            "Enter a number:1000\n",
            "The factors of the number are:\n",
            "1 2 4 5 8 10 20 25 40 50 100 125 200 250 500 1000 "
          ]
        }
      ]
    },
    {
      "cell_type": "markdown",
      "source": [
        "Q8. Write a program to print the following series till n terms.\n",
        "\n",
        "1 4 9 16 25 _ _ _ _ _ n terms"
      ],
      "metadata": {
        "id": "fwPRJ_N6yQOE"
      }
    },
    {
      "cell_type": "code",
      "source": [
        "num = int(input(\"Enter a number:\"))\n",
        "\n",
        "for i in range(1, num+1):\n",
        "  print(i*i, end = \" \")\n",
        "  i += 1"
      ],
      "metadata": {
        "colab": {
          "base_uri": "https://localhost:8080/"
        },
        "id": "NHLk0GpexvoM",
        "outputId": "b9267ec3-4626-44a5-c805-f1fbcc681bde"
      },
      "execution_count": 12,
      "outputs": [
        {
          "output_type": "stream",
          "name": "stdout",
          "text": [
            "Enter a number:30\n",
            "1 4 9 16 25 36 49 64 81 100 121 144 169 196 225 256 289 324 361 400 441 484 529 576 625 676 729 784 841 900 "
          ]
        }
      ]
    },
    {
      "cell_type": "markdown",
      "source": [
        "Q9. Write a program to check whether the given inputted number is prime or not."
      ],
      "metadata": {
        "id": "4Yasy-hEz-0P"
      }
    },
    {
      "cell_type": "code",
      "source": [
        "num = int(input(\"Enter a number: \"))\n",
        "\n",
        "temp = False\n",
        "\n",
        "if num > 1:\n",
        "  for i in range (2, int(num/2)+1):\n",
        "    if num % i == 0:\n",
        "      temp = True\n",
        "      break\n",
        "\n",
        "if (temp == True):\n",
        "  print(num, \": NOT a Prime Number.\")\n",
        "else:\n",
        "  print(num, \": Prime Number.\")"
      ],
      "metadata": {
        "colab": {
          "base_uri": "https://localhost:8080/"
        },
        "id": "fgI7YpSjz3kX",
        "outputId": "e8832e4e-0248-4e73-f374-4a0d55498da2"
      },
      "execution_count": 11,
      "outputs": [
        {
          "output_type": "stream",
          "name": "stdout",
          "text": [
            "Enter a number: 53\n",
            "53 : Prime Number.\n"
          ]
        }
      ]
    },
    {
      "cell_type": "markdown",
      "source": [
        "Q10. Write a Python program to construct the following pattern, using a nested for loop."
      ],
      "metadata": {
        "id": "xGkRiFw82mIT"
      }
    },
    {
      "cell_type": "code",
      "source": [
        "n=5;\n",
        "for i in range(n):\n",
        "    for j in range(i):\n",
        "        print ('* ', end=\"\") #gives space\n",
        "    print('') #starts a new line\n",
        "\n",
        "for i in range(n,0,-1):\n",
        "    for j in range(i):\n",
        "        print('* ', end=\"\")\n",
        "    print('')\n",
        "\t"
      ],
      "metadata": {
        "colab": {
          "base_uri": "https://localhost:8080/"
        },
        "id": "UsK2pgl22Scd",
        "outputId": "e4ac1ffb-d715-4f46-9641-5db68de4e0f6"
      },
      "execution_count": null,
      "outputs": [
        {
          "output_type": "stream",
          "name": "stdout",
          "text": [
            "\n",
            "* \n",
            "* * \n",
            "* * * \n",
            "* * * * \n",
            "* * * * * \n",
            "* * * * \n",
            "* * * \n",
            "* * \n",
            "* \n"
          ]
        }
      ]
    },
    {
      "cell_type": "markdown",
      "source": [
        "Q11. Write a program to print the grade card of a student. Accept marks of 5 subjects for a\n",
        "student, compute the % of marks and print the grade.\n",
        "\n",
        "* If the percentage is greater than 80 then grade A\n",
        "* If between 60-79 then B,\n",
        "* If between 40-50 then C, otherwise F."
      ],
      "metadata": {
        "id": "akU-vqrv6jBG"
      }
    },
    {
      "cell_type": "code",
      "source": [
        "marks1 = int(input(\"Enter the marks of Subject 1:\"))\n",
        "marks2 = int(input(\"Enter the marks of Subject 2:\"))\n",
        "marks3 = int(input(\"Enter the marks of Subject 3:\"))\n",
        "marks4 = int(input(\"Enter the marks of Subject 4:\"))\n",
        "marks5 = int(input(\"Enter the marks of Subject 5:\"))\n",
        "\n",
        "percentage = float(((marks1 + marks2 + marks3 + marks4 + marks5)/500) * 100)\n",
        "print(\"You Got\",end=\" \")\n",
        "if percentage >= 80.0:\n",
        "  print(\"Grade A\")\n",
        "elif percentage >= 60.0 or percentage <= 79.0:\n",
        "  print(\"Grade B\")\n",
        "elif percentage >= 40.0 or percentage <= 50.0:\n",
        "  print(\"Grade C\")\n",
        "else:\n",
        "  print(\"Grade F\")"
      ],
      "metadata": {
        "colab": {
          "base_uri": "https://localhost:8080/"
        },
        "id": "o5r7jtuO4FqA",
        "outputId": "6b83c54d-1754-44d7-e3be-738f4d74551d"
      },
      "execution_count": 10,
      "outputs": [
        {
          "output_type": "stream",
          "name": "stdout",
          "text": [
            "Enter the marks of Subject 1:85\n",
            "Enter the marks of Subject 2:75\n",
            "Enter the marks of Subject 3:65\n",
            "Enter the marks of Subject 4:95\n",
            "Enter the marks of Subject 5:90\n",
            "You Got Grade A\n"
          ]
        }
      ]
    },
    {
      "cell_type": "markdown",
      "source": [
        "Q12. Write a program to perform the following task:\n",
        "\n",
        "* Accept the name of subject and marks information for two subjects\n",
        "* If subject is maths or science then add the marks and print\n",
        "* If the subject is English or social then find the percentage of marks."
      ],
      "metadata": {
        "id": "y36NIb2A6dAg"
      }
    },
    {
      "cell_type": "code",
      "source": [
        "print(\"Available subjects: Maths & Science or English & Social\")\n",
        "\n",
        "sub1 = input(\"Enter the name of subject 1:\")\n",
        "marks1 = float(input(\"Enter the marks:\"))\n",
        "sub2 = input(\"Enter the name of subject 2:\")\n",
        "marks2 = float(input(\"Enter the marks:\"))\n",
        "\n",
        "if ((sub1 == \"Maths\" and sub2 == \"Science\") or (sub1 == \"Science\" and sub2 == \"Maths\")):\n",
        "  print(\"The sum of the marks is\", marks1 + marks2)\n",
        "elif ((sub1 == \"English\" and sub2 == \"Social\") or (sub1 == \"Social\" and sub2 == \"English\")):\n",
        "  print(\"The percentage of marks is\", (marks1+marks2)/2)\n",
        "else:\n",
        "  print(\"ERROR!\")\n"
      ],
      "metadata": {
        "colab": {
          "base_uri": "https://localhost:8080/"
        },
        "id": "J7aCyb6G575D",
        "outputId": "89d2f8ac-d59a-4ea9-e598-2fa9ae973957"
      },
      "execution_count": null,
      "outputs": [
        {
          "output_type": "stream",
          "name": "stdout",
          "text": [
            "Available subjects: Maths & Science or English & Social\n",
            "Enter the name of subject 1:English\n",
            "Enter the marks:68\n",
            "Enter the name of subject 2:Social\n",
            "Enter the marks:98\n",
            "The percentage of marks is 83.0\n"
          ]
        }
      ]
    },
    {
      "cell_type": "markdown",
      "source": [
        "Q13. Write a program to accept 10 numbers in tuple and find the largest element and smallest\n",
        "with index."
      ],
      "metadata": {
        "id": "Qim65QvP94tE"
      }
    },
    {
      "cell_type": "code",
      "source": [
        "tup = []\n",
        "\n",
        "for i in range(10):\n",
        "  tup.append(int(input(\"Enter a number:\")))\n",
        "\n",
        "tup = tuple(tup)\n",
        "\n",
        "print(\"Tuple Items are as follows:\")\n",
        "print(tup)\n",
        "\n",
        "tup_largest = tup[0]\n",
        "tup_smallest = tup[0]\n",
        "\n",
        "for i in range(10):\n",
        "  if tup_largest < tup[i]:\n",
        "    tup_largest = tup[i]\n",
        "  if tup_smallest > tup[i]:\n",
        "    tup_smallest = tup[i]\n",
        "\n",
        "print(\"The largest element in the tuple is\", tup_largest)\n",
        "print(\"The smallest element in the tupl is\", tup_smallest)\n",
        "\n"
      ],
      "metadata": {
        "colab": {
          "base_uri": "https://localhost:8080/"
        },
        "id": "J9G1ROw68y0v",
        "outputId": "6aeb45ac-7ad2-473d-db1c-1cf610ab3afe"
      },
      "execution_count": 9,
      "outputs": [
        {
          "output_type": "stream",
          "name": "stdout",
          "text": [
            "Enter a number:1\n",
            "Enter a number:8\n",
            "Enter a number:9\n",
            "Enter a number:2\n",
            "Enter a number:100\n",
            "Enter a number:1000\n",
            "Enter a number:590\n",
            "Enter a number:950\n",
            "Enter a number:460\n",
            "Enter a number:640\n",
            "Tuple Items are as follows:\n",
            "(1, 8, 9, 2, 100, 1000, 590, 950, 460, 640)\n",
            "The largest element in the tuple is 1000\n",
            "The smallest element in the tupl is 1\n"
          ]
        }
      ]
    },
    {
      "cell_type": "markdown",
      "source": [
        "Q14. Write a Python program to convert character of a string to a list containing their ascii\n",
        "value."
      ],
      "metadata": {
        "id": "xTErbG2iCJh4"
      }
    },
    {
      "cell_type": "code",
      "source": [
        "string = input(\"Enter a string :\")\n",
        "\n",
        "ascii = []\n",
        "\n",
        "for i in string:\n",
        "  ascii.append(ord(i)) \n",
        "\n",
        "print(ascii)"
      ],
      "metadata": {
        "colab": {
          "base_uri": "https://localhost:8080/"
        },
        "id": "YxARozNn_biI",
        "outputId": "8404c506-80c1-401f-dee7-cd0299e98da5"
      },
      "execution_count": 6,
      "outputs": [
        {
          "output_type": "stream",
          "name": "stdout",
          "text": [
            "Enter a string :SRUSHTI\n",
            "[83, 82, 85, 83, 72, 84, 73]\n"
          ]
        }
      ]
    },
    {
      "cell_type": "markdown",
      "source": [
        "Q15. Python Program to Concatenate two list of lists Row-wise. Given two list, write a Python program to add elements to each row.\n",
        "* Input: test_list1 = [[1, 2, 3], [1, 2, 3], [3, 7, 4]],\n",
        "* test_list2 = [[4, 5], [9, 3, 5, 7], [8]]\n",
        "* Output: [[1, 2, 3, 4,5], [1, 2, 3, 9, 3, 5, 7], [3, 7, 4, 8]]\n",
        "* Hint: Use Enumerate function"
      ],
      "metadata": {
        "id": "pufQ5cr7Ekh6"
      }
    },
    {
      "cell_type": "code",
      "source": [
        "test_list1 = [[8, 2, 5], [4, 2, 3], [3, 9, 4]]\n",
        "test_list2 = [[4, 5], [9, 8, 6, 7], [5]]\n",
        "              \n",
        "for i, j in enumerate(test_list1):\n",
        "  new_list = []\n",
        "\n",
        "  for j in test_list2[i]:\n",
        "    new_list.append(j)\n",
        "\n",
        "  test_list1[i].extend(new_list)\n",
        "\n",
        "print(\"The concatenated list: \" + str(test_list1))"
      ],
      "metadata": {
        "colab": {
          "base_uri": "https://localhost:8080/"
        },
        "id": "ulqP7OIOEXao",
        "outputId": "cc983a76-632b-403a-bde2-f97c0c05fe3a"
      },
      "execution_count": 8,
      "outputs": [
        {
          "output_type": "stream",
          "name": "stdout",
          "text": [
            "The concatenated list: [[8, 2, 5, 4, 5], [4, 2, 3, 9, 8, 6, 7], [3, 9, 4, 5]]\n"
          ]
        }
      ]
    },
    {
      "cell_type": "code",
      "source": [
        ""
      ],
      "metadata": {
        "id": "RZALCgMsG5Kh"
      },
      "execution_count": null,
      "outputs": []
    }
  ]
}