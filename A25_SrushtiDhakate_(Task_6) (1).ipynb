{
  "nbformat": 4,
  "nbformat_minor": 0,
  "metadata": {
    "colab": {
      "name": "A25_SrushtiDhakate_(Task_6)",
      "provenance": [],
      "collapsed_sections": []
    },
    "kernelspec": {
      "name": "python3",
      "display_name": "Python 3"
    },
    "language_info": {
      "name": "python"
    }
  },
  "cells": [
    {
      "cell_type": "code",
      "source": [
        "Name: Srushti Dhakate\n",
        "\n",
        "\n",
        "Roll No: 25\n",
        "Section: A\n",
        "Batch: A2\n",
        "Branch: CSE (First Shift)\n",
        "Subject: Systems Lab - 1\n",
        "TASK 6"
      ],
      "metadata": {
        "id": "hnw7nbX12K56"
      },
      "execution_count": null,
      "outputs": []
    },
    {
      "cell_type": "markdown",
      "source": [
        "Q1. List operations and Methods. "
      ],
      "metadata": {
        "id": "kWW8Q6qQPaKX"
      }
    },
    {
      "cell_type": "code",
      "metadata": {
        "colab": {
          "base_uri": "https://localhost:8080/"
        },
        "id": "E7hP3u0_-xf4",
        "outputId": "663ee697-fba1-4820-df4b-3b85c48831a4"
      },
      "source": [
        "lst = []\n",
        "\n",
        "n = int(input(\"Enter the number of elements: \"))\n",
        "\n",
        "for i in range(0,n):\n",
        "  ele = int(input(\"Enter a number: \"))\n",
        "\n",
        "  lst.append(ele)5\n",
        "  2\n",
        "  "
      ],
      "execution_count": 1,
      "outputs": [
        {
          "output_type": "stream",
          "name": "stdout",
          "text": [
            "Enter the number of elements: 5\n",
            "Enter a number: 3\n",
            "Enter a number: 5\n",
            "Enter a number: 6\n",
            "Enter a number: 67\n",
            "Enter a number: 09\n",
            "[3, 5, 6, 67, 9]\n"
          ]
        }
      ]
    },
    {
      "cell_type": "code",
      "source": [
        "\n",
        "lst = []\n",
        "\n",
        "n = int(input(\"Enter the number of elements: \"))\n",
        "\n",
        "for i in range(0,n):\n",
        "  ele = int(input(\"Enter a number: \"))\n",
        "\n",
        "  lst.append(ele)\n",
        "\n",
        "print(lst)\n",
        "\n",
        "sq_list = []\n",
        "\n",
        "for i in lst:\n",
        "  sq_list.append(i*i)\n",
        "\n",
        "print(sq_list)"
      ],
      "metadata": {
        "colab": {
          "base_uri": "https://localhost:8080/"
        },
        "id": "iLYc8jnZfs-S",
        "outputId": "ab2404bb-b026-4e81-c544-bd452ac1ac65"
      },
      "execution_count": 3,
      "outputs": [
        {
          "output_type": "stream",
          "name": "stdout",
          "text": [
            "Enter the number of elements: 6\n",
            "Enter a number: 12\n",
            "Enter a number: 41\n",
            "Enter a number: 94\n",
            "Enter a number: 56\n",
            "Enter a number: 76\n",
            "Enter a number: 41\n",
            "[12, 41, 94, 56, 76, 41]\n",
            "[144, 1681, 8836, 3136, 5776, 1681]\n"
          ]
        }
      ]
    },
    {
      "cell_type": "code",
      "source": [
        "lst = []\n",
        "\n",
        "n = int(input(\"Enter the number of elements: \"))\n",
        "\n",
        "for i in range(0,n):\n",
        "  ele = int(input(\"Enter a number: \"))\n",
        "\n",
        "  lst.append(ele)\n",
        "\n",
        "print(lst)\n",
        "\n",
        "sum_list = []\n",
        "sum = 0\n",
        "\n",
        "for i in lst:\n",
        "  sum+=i\n",
        "\n",
        "print(sum)\n"
      ],
      "metadata": {
        "colab": {
          "base_uri": "https://localhost:8080/"
        },
        "id": "CeYSgjsUftB9",
        "outputId": "14244fce-eee3-4b89-c414-dec15f7d6168"
      },
      "execution_count": 4,
      "outputs": [
        {
          "output_type": "stream",
          "name": "stdout",
          "text": [
            "Enter the number of elements: 7\n",
            "Enter a number: 65\n",
            "Enter a number: 25\n",
            "Enter a number: 62\n",
            "Enter a number: 43\n",
            "Enter a number: 53\n",
            "Enter a number: 78\n",
            "Enter a number: 21\n",
            "[65, 25, 62, 43, 53, 78, 21]\n",
            "347\n"
          ]
        }
      ]
    },
    {
      "cell_type": "code",
      "source": [
        "l = [1,2,3,4,5,6,7,8,9]\n",
        "\n",
        "x = len(l)\n",
        "print(\"The length of the list is\", x)\n",
        "\n",
        "n=9\n",
        "\n",
        "x = [l[i:(i + n)] for i in range (0, len(l), n)]\n",
        "print(x)"
      ],
      "metadata": {
        "colab": {
          "base_uri": "https://localhost:8080/"
        },
        "id": "vXaU1WzqftFC",
        "outputId": "9bfb75af-78ca-4e50-e4b8-09e12020455b"
      },
      "execution_count": 5,
      "outputs": [
        {
          "output_type": "stream",
          "name": "stdout",
          "text": [
            "The length of the list is 9\n",
            "[[1, 2, 3, 4, 5, 6, 7, 8, 9]]\n"
          ]
        }
      ]
    },
    {
      "cell_type": "code",
      "source": [
        "def Rotate_list(L,k):\n",
        "  if k<0:\n",
        "    print(L)\n",
        "  else:\n",
        "    L = (L[-k:] + L[:-k])\n",
        "    print(L)\n",
        "\n",
        "n = int(input(\"Enter number of rotations: \"))\n",
        "\n",
        "List = [0,1,2,3,4]\n",
        "\n",
        "Rotate_list(List, n)"
      ],
      "metadata": {
        "colab": {
          "base_uri": "https://localhost:8080/"
        },
        "id": "QcSElt_ugKhI",
        "outputId": "8d21a4ed-b944-4eed-e616-f6477bd7be14"
      },
      "execution_count": 6,
      "outputs": [
        {
          "output_type": "stream",
          "name": "stdout",
          "text": [
            "Enter number of rotations: 4\n",
            "[1, 2, 3, 4, 0]\n"
          ]
        }
      ]
    },
    {
      "cell_type": "code",
      "source": [
        "#List Constructor\n",
        "\n",
        "my_list1 = list((1,2,3))\n",
        "print(my_list1)"
      ],
      "metadata": {
        "colab": {
          "base_uri": "https://localhost:8080/"
        },
        "id": "58u0NHvYi1oN",
        "outputId": "0b77589e-7ce7-4793-d82d-58441d69944c"
      },
      "execution_count": 7,
      "outputs": [
        {
          "output_type": "stream",
          "name": "stdout",
          "text": [
            "[1, 2, 3]\n"
          ]
        }
      ]
    },
    {
      "cell_type": "code",
      "source": [
        "#Using square brackets\n",
        "\n",
        "my_list2 = [1, 2, 3]\n",
        "print(my_list2)"
      ],
      "metadata": {
        "colab": {
          "base_uri": "https://localhost:8080/"
        },
        "id": "2SYvIrU6i1rc",
        "outputId": "c0ca055f-c6eb-44c3-cfa0-ddc68c45ddf6"
      },
      "execution_count": 8,
      "outputs": [
        {
          "output_type": "stream",
          "name": "stdout",
          "text": [
            "[1, 2, 3]\n"
          ]
        }
      ]
    },
    {
      "cell_type": "code",
      "source": [
        "#With heterogeneous items\n",
        "\n",
        "my_list3 = [1.0, 'Jessa', 3]\n",
        "print(my_list3)"
      ],
      "metadata": {
        "colab": {
          "base_uri": "https://localhost:8080/"
        },
        "id": "vahU6BVti1uk",
        "outputId": "a9e6d5e0-61ca-4138-d193-8cb1d790bff1"
      },
      "execution_count": 9,
      "outputs": [
        {
          "output_type": "stream",
          "name": "stdout",
          "text": [
            "[1.0, 'Jessa', 3]\n"
          ]
        }
      ]
    },
    {
      "cell_type": "code",
      "source": [
        "#Empty list using round braces\n",
        "\n",
        "my_list4 = list()\n",
        "print(my_list4)"
      ],
      "metadata": {
        "colab": {
          "base_uri": "https://localhost:8080/"
        },
        "id": "Pjyj82A3i1xV",
        "outputId": "32e9f419-f680-411e-c89b-976f22e8b780"
      },
      "execution_count": 10,
      "outputs": [
        {
          "output_type": "stream",
          "name": "stdout",
          "text": [
            "[]\n"
          ]
        }
      ]
    },
    {
      "cell_type": "code",
      "source": [
        "#Empty list using sqaure braces\n",
        "\n",
        "my_list5 = []\n",
        "print(my_list4)"
      ],
      "metadata": {
        "colab": {
          "base_uri": "https://localhost:8080/"
        },
        "id": "2hu8hIHdi10R",
        "outputId": "18380660-9458-45f9-aaa8-d5d2f04037d7"
      },
      "execution_count": 11,
      "outputs": [
        {
          "output_type": "stream",
          "name": "stdout",
          "text": [
            "[]\n"
          ]
        }
      ]
    },
    {
      "cell_type": "code",
      "source": [
        "#Length of a list\n",
        "my_list = [1, 2, 3]\n",
        "print(len(my_list))"
      ],
      "metadata": {
        "colab": {
          "base_uri": "https://localhost:8080/"
        },
        "id": "EMR8ALMei13B",
        "outputId": "99034bf0-8e75-40f5-b0f0-a1d8a813ad55"
      },
      "execution_count": 13,
      "outputs": [
        {
          "output_type": "stream",
          "name": "stdout",
          "text": [
            "3\n"
          ]
        }
      ]
    },
    {
      "cell_type": "code",
      "source": [
        "#Accessing items of a list\n",
        "my_list = [10, 20, 'Jessa', 12.50, 'Emma']\n",
        "print(my_list[1])\n",
        "print(my_list[4])"
      ],
      "metadata": {
        "colab": {
          "base_uri": "https://localhost:8080/"
        },
        "id": "Co48KcR9i19W",
        "outputId": "903e5019-8363-4f53-f4cb-10db7ba31392"
      },
      "execution_count": 14,
      "outputs": [
        {
          "output_type": "stream",
          "name": "stdout",
          "text": [
            "20\n",
            "Emma\n"
          ]
        }
      ]
    },
    {
      "cell_type": "code",
      "source": [
        "#Negative Indexing\n",
        "\n",
        "my_list = [10, 20, 'Jessa', 12.50, 'Emma']\n",
        "print(my_list[-1])\n",
        "print(my_list[-2])"
      ],
      "metadata": {
        "colab": {
          "base_uri": "https://localhost:8080/"
        },
        "id": "vpfxaH2qi2AC",
        "outputId": "33429aa0-5a7a-4724-c11f-7114ca68ed1b"
      },
      "execution_count": 15,
      "outputs": [
        {
          "output_type": "stream",
          "name": "stdout",
          "text": [
            "Emma\n",
            "12.5\n"
          ]
        }
      ]
    },
    {
      "cell_type": "code",
      "source": [
        "#Slicing\n",
        "\n",
        "my_list = [10, 20, 'Jessa', 12.50, 'Emma', 25, 50]\n",
        "print(my_list[2:5])"
      ],
      "metadata": {
        "colab": {
          "base_uri": "https://localhost:8080/"
        },
        "id": "2cIeLONHi2C3",
        "outputId": "da61b27e-fba3-4f81-9025-45ef73c14eac"
      },
      "execution_count": 16,
      "outputs": [
        {
          "output_type": "stream",
          "name": "stdout",
          "text": [
            "['Jessa', 12.5, 'Emma']\n"
          ]
        }
      ]
    },
    {
      "cell_type": "code",
      "source": [
        "my_list = [5, 8, 'Tom', 7.50, 'Emma']\n",
        "print(my_list[:4])\n",
        "print(my_list[::2])\n"
      ],
      "metadata": {
        "colab": {
          "base_uri": "https://localhost:8080/"
        },
        "id": "8iuJIO5di2Fh",
        "outputId": "c6f1fc4c-fcd6-4a18-f201-b0bb19948e58"
      },
      "execution_count": 17,
      "outputs": [
        {
          "output_type": "stream",
          "name": "stdout",
          "text": [
            "[5, 8, 'Tom', 7.5]\n",
            "[5, 'Tom', 'Emma']\n"
          ]
        }
      ]
    },
    {
      "cell_type": "code",
      "source": [
        "my_list = [5, 8, 'Tom', 7.50, 'Emma']\n",
        "print(my_list[::-1])\n",
        "print(my_list[3:])"
      ],
      "metadata": {
        "colab": {
          "base_uri": "https://localhost:8080/"
        },
        "id": "CfoSmBOdjksQ",
        "outputId": "faa27620-e74b-4395-f17d-a27fed92ca2e"
      },
      "execution_count": 18,
      "outputs": [
        {
          "output_type": "stream",
          "name": "stdout",
          "text": [
            "['Emma', 7.5, 'Tom', 8, 5]\n",
            "[7.5, 'Emma']\n"
          ]
        }
      ]
    },
    {
      "cell_type": "code",
      "source": [
        "#Iterating a list\n",
        "\n",
        "my_list = [5, 8, 'Tom', 7.50, 'Emma']\n",
        "for item in my_list:\n",
        "  print(item)"
      ],
      "metadata": {
        "colab": {
          "base_uri": "https://localhost:8080/"
        },
        "id": "0KOvFRkAjkvi",
        "outputId": "dbbf5fc2-7c39-4700-b813-48298ec5308b"
      },
      "execution_count": 19,
      "outputs": [
        {
          "output_type": "stream",
          "name": "stdout",
          "text": [
            "5\n",
            "8\n",
            "Tom\n",
            "7.5\n",
            "Emma\n"
          ]
        }
      ]
    },
    {
      "cell_type": "code",
      "source": [
        "#Using an index\n",
        "\n",
        "my_list = [5, 8, 'Tom', 7.50, 'Emma']\n",
        "for i in range(0, len(my_list)):\n",
        "  print(my_list[i])"
      ],
      "metadata": {
        "colab": {
          "base_uri": "https://localhost:8080/"
        },
        "id": "8aZgGt2CjkyP",
        "outputId": "41968a1e-1034-4cc7-b944-b63b0e04423c"
      },
      "execution_count": 20,
      "outputs": [
        {
          "output_type": "stream",
          "name": "stdout",
          "text": [
            "5\n",
            "8\n",
            "Tom\n",
            "7.5\n",
            "Emma\n"
          ]
        }
      ]
    },
    {
      "cell_type": "code",
      "source": [
        "#Adding elements to the list\n",
        "\n",
        "#Using append\n",
        "\n",
        "my_list = list([5, 8, 'Tom', 7.50])\n",
        "print(my_list)\n",
        "\n",
        "my_list.append([25, 50, 75])\n",
        "print(my_list)"
      ],
      "metadata": {
        "colab": {
          "base_uri": "https://localhost:8080/"
        },
        "id": "db5Zc6g7jk00",
        "outputId": "f7f4ea62-016a-458c-b18b-5cc864932659"
      },
      "execution_count": 21,
      "outputs": [
        {
          "output_type": "stream",
          "name": "stdout",
          "text": [
            "[5, 8, 'Tom', 7.5]\n",
            "[5, 8, 'Tom', 7.5, [25, 50, 75]]\n"
          ]
        }
      ]
    },
    {
      "cell_type": "code",
      "source": [
        "#Using insert()\n",
        "\n",
        "my_list = list([5, 8, 'Tom', 7.50])\n",
        "my_list.insert(2, 25)\n",
        "print(my_list)\n",
        "\n",
        "my_list.insert(3, [25, 50, 75])\n",
        "print(my_list)"
      ],
      "metadata": {
        "colab": {
          "base_uri": "https://localhost:8080/"
        },
        "id": "OufK4Oj5jk3h",
        "outputId": "151d03b0-e75f-4ea7-a4e3-67e0feeb86e3"
      },
      "execution_count": 22,
      "outputs": [
        {
          "output_type": "stream",
          "name": "stdout",
          "text": [
            "[5, 8, 25, 'Tom', 7.5]\n",
            "[5, 8, 25, [25, 50, 75], 'Tom', 7.5]\n"
          ]
        }
      ]
    },
    {
      "cell_type": "code",
      "source": [
        "#Using extend()\n",
        "\n",
        "my_list = list([5, 8, 'Tom', 7.50])\n",
        "my_list.extend([25, 75, 100])\n",
        "print(my_list)"
      ],
      "metadata": {
        "colab": {
          "base_uri": "https://localhost:8080/"
        },
        "id": "QV7uztn9jk54",
        "outputId": "801e1f81-8acc-4b8b-a845-939b1c12e023"
      },
      "execution_count": 23,
      "outputs": [
        {
          "output_type": "stream",
          "name": "stdout",
          "text": [
            "[5, 8, 'Tom', 7.5, 25, 75, 100]\n"
          ]
        }
      ]
    },
    {
      "cell_type": "code",
      "source": [
        "#Modify the items of a list\n",
        "\n",
        "#Single item\n",
        "\n",
        "my_list = list([2, 4, 6, 8, 10, 12])\n",
        "my_list[0] = 20\n",
        "print(my_list)"
      ],
      "metadata": {
        "colab": {
          "base_uri": "https://localhost:8080/"
        },
        "id": "0KmTIUCWjxb3",
        "outputId": "71db26d0-ac7b-4d23-cbbc-0050fefeb119"
      },
      "execution_count": 24,
      "outputs": [
        {
          "output_type": "stream",
          "name": "stdout",
          "text": [
            "[20, 4, 6, 8, 10, 12]\n"
          ]
        }
      ]
    },
    {
      "cell_type": "code",
      "source": [
        "#Range of items\n",
        "\n",
        "my_list = list([2, 4, 6, 8, 10, 12])\n",
        "my_list[1:4] = [40, 60, 80]\n",
        "print(my_list)"
      ],
      "metadata": {
        "colab": {
          "base_uri": "https://localhost:8080/"
        },
        "id": "9sUPFteqjxem",
        "outputId": "595ef55e-aeba-44fe-b27b-2a8739764209"
      },
      "execution_count": 25,
      "outputs": [
        {
          "output_type": "stream",
          "name": "stdout",
          "text": [
            "[2, 40, 60, 80, 10, 12]\n"
          ]
        }
      ]
    },
    {
      "cell_type": "code",
      "source": [
        "#3rd index to end\n",
        "\n",
        "my_list = list([2, 4, 6, 8, 10, 12])\n",
        "my_list[3:] = [80, 100, 120]\n",
        "print(my_list)"
      ],
      "metadata": {
        "colab": {
          "base_uri": "https://localhost:8080/"
        },
        "id": "fzJIoDgkjxgv",
        "outputId": "a184b4d5-1fb5-44b9-dcf6-d935072c3952"
      },
      "execution_count": 26,
      "outputs": [
        {
          "output_type": "stream",
          "name": "stdout",
          "text": [
            "[2, 4, 6, 80, 100, 120]\n"
          ]
        }
      ]
    },
    {
      "cell_type": "code",
      "source": [
        "#All items\n",
        "\n",
        "my_list = list([2, 4, 6, 8])\n",
        "for i in range(len(my_list)):\n",
        "  square = my_list[i] * my_list[i]\n",
        "  my_list[i] = square\n",
        "print(my_list)"
      ],
      "metadata": {
        "colab": {
          "base_uri": "https://localhost:8080/"
        },
        "id": "ABLSsP4yj7PO",
        "outputId": "f989b7ba-c672-4cbc-c259-e977ccea309c"
      },
      "execution_count": 27,
      "outputs": [
        {
          "output_type": "stream",
          "name": "stdout",
          "text": [
            "[4, 16, 36, 64]\n"
          ]
        }
      ]
    },
    {
      "cell_type": "code",
      "source": [
        "#Removing elemnts from a list\n",
        "\n",
        "my_list = list([2, 4, 6, 8, 10, 12])\n",
        "my_list.remove(6)\n",
        "my_list.remove(8)\n",
        "print(my_list)"
      ],
      "metadata": {
        "colab": {
          "base_uri": "https://localhost:8080/"
        },
        "id": "0lt6WABLj7Rt",
        "outputId": "d25f9a2c-fb19-463b-e9b2-7ffca22386b6"
      },
      "execution_count": 28,
      "outputs": [
        {
          "output_type": "stream",
          "name": "stdout",
          "text": [
            "[2, 4, 10, 12]\n"
          ]
        }
      ]
    },
    {
      "cell_type": "code",
      "source": [
        "#Remove all occurrence of a specific item\n",
        "\n",
        "my_list = list([6, 4, 6, 6, 8, 12])\n",
        "for item in my_list:\n",
        "  my_list.remove(6)\n",
        "print(my_list)"
      ],
      "metadata": {
        "colab": {
          "base_uri": "https://localhost:8080/"
        },
        "id": "x6_Ru0_8j7Uk",
        "outputId": "a6c994c5-e055-4b8d-c939-7fb21efb4630"
      },
      "execution_count": 29,
      "outputs": [
        {
          "output_type": "stream",
          "name": "stdout",
          "text": [
            "[4, 8, 12]\n"
          ]
        }
      ]
    },
    {
      "cell_type": "code",
      "source": [
        "#Remove item present at given index pop()\n",
        "\n",
        "my_list = list([2, 4, 6, 8, 10, 12])\n",
        "my_list.pop(2)\n",
        "print(my_list)\n",
        "\n",
        "my_list.pop()\n",
        "print(my_list)"
      ],
      "metadata": {
        "colab": {
          "base_uri": "https://localhost:8080/"
        },
        "id": "DESRg2JMj7Xk",
        "outputId": "e295ab43-5fd5-4ebc-fde0-1c47ec6a19af"
      },
      "execution_count": 30,
      "outputs": [
        {
          "output_type": "stream",
          "name": "stdout",
          "text": [
            "[2, 4, 8, 10, 12]\n",
            "[2, 4, 8, 10]\n"
          ]
        }
      ]
    },
    {
      "cell_type": "markdown",
      "source": [
        " Q2. Write a python Program to Find the Largest Number in a List."
      ],
      "metadata": {
        "id": "1KyNZtjhPdsK"
      }
    },
    {
      "cell_type": "code",
      "metadata": {
        "colab": {
          "base_uri": "https://localhost:8080/"
        },
        "id": "B4G7pizB3KQK",
        "outputId": "f3f1a2d6-2066-41af-ac77-f075d55ecf5b"
      },
      "source": [
        "lst = []\n",
        "\n",
        "n = int(input(\"Enter the number of elements: \"))\n",
        "\n",
        "for i in range(0,n):\n",
        "  ele = int(input(\"Enter a number: \"))\n",
        "\n",
        "  lst.append(ele)\n",
        "\n",
        "print(lst)\n",
        "\n",
        "print(\"Largest element is: \", max(lst))"
      ],
      "execution_count": 31,
      "outputs": [
        {
          "output_type": "stream",
          "name": "stdout",
          "text": [
            "Enter the number of elements: 3\n",
            "Enter a number: 34\n",
            "Enter a number: 65\n",
            "Enter a number: 21\n",
            "[34, 65, 21]\n",
            "Largest element is:  65\n"
          ]
        }
      ]
    },
    {
      "cell_type": "code",
      "metadata": {
        "colab": {
          "base_uri": "https://localhost:8080/"
        },
        "id": "hLe0pvq3J6Of",
        "outputId": "3c96a794-5a3a-4017-8834-ba52b53764de"
      },
      "source": [
        "lst = []\n",
        "\n",
        "n = int(input(\"Enter the number of elements: \"))\n",
        "\n",
        "for i in range(0,n):\n",
        "  ele = int(input(\"Enter a number: \"))\n",
        "\n",
        "  lst.append(ele)\n",
        "\n",
        "print(lst)\n",
        "\n",
        "lst.sort()\n",
        "\n",
        "print(\"Largest element is: \", lst[-1])"
      ],
      "execution_count": 32,
      "outputs": [
        {
          "output_type": "stream",
          "name": "stdout",
          "text": [
            "Enter the number of elements: 4\n",
            "Enter a number: 39\n",
            "Enter a number: 96\n",
            "Enter a number: 58\n",
            "Enter a number: 48\n",
            "[39, 96, 58, 48]\n",
            "Largest element is:  96\n"
          ]
        }
      ]
    },
    {
      "cell_type": "markdown",
      "source": [
        "Q3. Write a python program to Put Even and Odd elements in a List into Two Different Lists."
      ],
      "metadata": {
        "id": "j8ysWBG0PhTD"
      }
    },
    {
      "cell_type": "code",
      "metadata": {
        "colab": {
          "base_uri": "https://localhost:8080/"
        },
        "id": "ISepyXnY4__H",
        "outputId": "86fbfc4f-31bf-463b-a953-d4e4fbdef6fb"
      },
      "source": [
        "mixed_list = [2,5,13,17,51,62,73,84,95]\n",
        "\n",
        "even_list = []\n",
        "odd_list = []\n",
        "\n",
        "for i in mixed_list:\n",
        "  if (i % 2 == 0):\n",
        "    even_list.append(i)\n",
        "  else:\n",
        "    odd_list.append(i)\n",
        "\n",
        "print(\"The list of even elements is as follows: \")\n",
        "print(even_list)\n",
        "\n",
        "print(\"The list of odd elemenst is as follows: \")\n",
        "print(odd_list)"
      ],
      "execution_count": 33,
      "outputs": [
        {
          "output_type": "stream",
          "name": "stdout",
          "text": [
            "The list of even elements is as follows: \n",
            "[2, 62, 84]\n",
            "The list of odd elemenst is as follows: \n",
            "[5, 13, 17, 51, 73, 95]\n"
          ]
        }
      ]
    },
    {
      "cell_type": "markdown",
      "source": [
        "Q5. Write a python program to find the Intersection of two Lists."
      ],
      "metadata": {
        "id": "8r1PO-FdO2eY"
      }
    },
    {
      "cell_type": "code",
      "metadata": {
        "colab": {
          "base_uri": "https://localhost:8080/"
        },
        "id": "Rxvrg7Q78hBd",
        "outputId": "689289a1-6f79-4d14-f2c8-a32c2fb5d06e"
      },
      "source": [
        "list1 = [15,9,10,56,23,78,5,4,9]\n",
        "list2 = [9,4,5,36,47,26,10,45,87]\n",
        "\n",
        "print(list(set(list1) & set(list2)))"
      ],
      "execution_count": 34,
      "outputs": [
        {
          "output_type": "stream",
          "name": "stdout",
          "text": [
            "[9, 10, 4, 5]\n"
          ]
        }
      ]
    },
    {
      "cell_type": "code",
      "metadata": {
        "colab": {
          "base_uri": "https://localhost:8080/"
        },
        "id": "7VnVDFk_g91x",
        "outputId": "45933c8a-3e44-471b-848f-aa59991c7306"
      },
      "source": [
        "2lst1 = []\n",
        "\n",
        "n = int(input(\"Enter the number of elements: \"))\n",
        "\n",
        "for i in range(0,n):\n",
        "  ele = int(input(\"Enter a number: \"))\n",
        "\n",
        "  lst1.append(ele)\n",
        "\n",
        "print(lst1)\n",
        "\n",
        "lst2 = []\n",
        "\n",
        "n = int(input(\"Enter the number of elements: \"))\n",
        "\n",
        "for i in range(0,n):\n",
        "  ele = int(input(\"Enter a number: \"))\n",
        "\n",
        "  lst2.append(ele)\n",
        "\n",
        "print(lst2)\n",
        "\n",
        "print(list(set(lst1) & set(lst2)))"
      ],
      "execution_count": 35,
      "outputs": [
        {
          "output_type": "stream",
          "name": "stdout",
          "text": [
            "Enter the number of elements: 4\n",
            "Enter a number: 47\n",
            "Enter a number: 59\n",
            "Enter a number: 69\n",
            "Enter a number: 79\n",
            "[47, 59, 69, 79]\n",
            "Enter the number of elements: 4\n",
            "Enter a number: 23\n",
            "Enter a number: 4\n",
            "Enter a number: 54\n",
            "Enter a number: 65\n",
            "[23, 4, 54, 65]\n",
            "[]\n"
          ]
        }
      ]
    },
    {
      "cell_type": "markdown",
      "source": [
        "Q6. Write a python program to check whether the given input number is Present."
      ],
      "metadata": {
        "id": "hkcJ-JjbO_ST"
      }
    },
    {
      "cell_type": "code",
      "metadata": {
        "colab": {
          "base_uri": "https://localhost:8080/"
        },
        "id": "BlFkYg02-rF_",
        "outputId": "e7e3f844-9c6e-406f-bcd6-36535e4aeb7d"
      },
      "source": [
        "list1 = [1,2,1,2,2]\n",
        "\n",
        "n = int(input(\"Enter the number to search: \"))\n",
        "\n",
        "if n in list1:\n",
        "      print(n, \"is present in the list.\")\n",
        "else:\n",
        "    print(n, \"not found in the list.\")"
      ],
      "execution_count": 36,
      "outputs": [
        {
          "output_type": "stream",
          "name": "stdout",
          "text": [
            "Enter the number to search: 2\n",
            "2 is present in the list.\n"
          ]
        }
      ]
    },
    {
      "cell_type": "markdown",
      "source": [
        "Q7. Write a python program to rotate a list by k rotation.(using both\n",
        "positive and negative values of k)\n",
        "Using numpy and deque module."
      ],
      "metadata": {
        "id": "UZ7nR4fAknT8"
      }
    },
    {
      "cell_type": "code",
      "source": [
        "from collections import deque\n",
        "\n",
        "nums = list(range(5))\n",
        "k=-3 # - is for left rotation\n",
        "\n",
        "x = deque(nums)\n",
        "x.rotate(k)\n",
        "\n",
        "print(x)"
      ],
      "metadata": {
        "colab": {
          "base_uri": "https://localhost:8080/"
        },
        "id": "exIZwjOjgKj6",
        "outputId": "d64cda0b-df5b-4a67-cd23-7787632f0959"
      },
      "execution_count": 37,
      "outputs": [
        {
          "output_type": "stream",
          "name": "stdout",
          "text": [
            "deque([3, 4, 0, 1, 2])\n"
          ]
        }
      ]
    },
    {
      "cell_type": "code",
      "source": [
        "def Rotate_list(L,k):\n",
        "    print(\"ORIGINAL LIST: \")\n",
        "    print(L)\n",
        "    L = (L[-k:] + L[:-k])\n",
        "    print(\"ROTATED LIST: \")\n",
        "    print(L)\n",
        "\n",
        "n = int(input(\"Enter number of rotations: \"))\n",
        "\n",
        "List = [0,1,2,3,4]\n",
        "\n",
        "Rotate_list(List, n)"
      ],
      "metadata": {
        "colab": {
          "base_uri": "https://localhost:8080/"
        },
        "id": "B_LN8Y9XgXkL",
        "outputId": "47182667-5171-42e4-8cdd-e08d9da8aaf3"
      },
      "execution_count": 38,
      "outputs": [
        {
          "output_type": "stream",
          "name": "stdout",
          "text": [
            "Enter number of rotations: 4\n",
            "ORIGINAL LIST: \n",
            "[0, 1, 2, 3, 4]\n",
            "ROTATED LIST: \n",
            "[1, 2, 3, 4, 0]\n"
          ]
        }
      ]
    },
    {
      "cell_type": "code",
      "source": [
        "import numpy as np\n",
        "\n",
        "nums = list(range(5))\n",
        "\n",
        "print(nums)\n",
        "\n",
        "k=-2 # NEGATIVE FOR LEFT ROTATION\n",
        "m=2 # POSITIE FOR RIGHT ROTATION\n",
        "\n",
        "print(\"Left rotation of list:\")\n",
        "x = np.roll(nums,k)\n",
        "print(x)\n",
        "\n",
        "print(\"Right rotation of list:\")\n",
        "y = np.roll(nums,m)\n",
        "print(y)"
      ],
      "metadata": {
        "colab": {
          "base_uri": "https://localhost:8080/"
        },
        "id": "BbvNbfzvgeSA",
        "outputId": "343de7af-eb73-463a-9dd8-5634d0638fee"
      },
      "execution_count": 39,
      "outputs": [
        {
          "output_type": "stream",
          "name": "stdout",
          "text": [
            "[0, 1, 2, 3, 4]\n",
            "Left rotation of list:\n",
            "[2 3 4 0 1]\n",
            "Right rotation of list:\n",
            "[3 4 0 1 2]\n"
          ]
        }
      ]
    },
    {
      "cell_type": "markdown",
      "source": [
        "Extra Stuff\n"
      ],
      "metadata": {
        "id": "0uV38Fy1kF3a"
      }
    },
    {
      "cell_type": "code",
      "metadata": {
        "colab": {
          "base_uri": "https://localhost:8080/"
        },
        "id": "_KIxJ3RKDHx4",
        "outputId": "d206d6c4-7f67-4eec-c3c4-f18e1c0c48f5"
      },
      "source": [
        "def triangle_area(X1,Y1,X2,Y2,X3,Y3):\n",
        "  area = (X1*(Y2-Y3) + X2*(Y3-Y1) + X3*(Y1-Y2))/2\n",
        "  return area\n",
        "\n",
        "x1 = int(input(\"Enter the value of x1: \"))\n",
        "y1 = int(input(\"Enter the value of y1: \"))\n",
        "x2 = int(input(\"Enter the value of x2: \"))\n",
        "y2 = int(input(\"Enter the value of y2: \"))\n",
        "x3 = int(input(\"Enter the value of x3: \"))\n",
        "y3 = int(input(\"Enter the value of y3: \"))\n",
        "xp = int(input(\"Enter the value of xp: \"))\n",
        "yp = int(input(\"Enter the value of yp: \"))\n",
        "\n",
        "area = triangle_area(x1,y1,x2,y2,x3,y3)\n",
        "print(\"The area of the main triangle is \" + str(area))\n",
        "area1 = triangle_area(x1,y1,x2,y2,xp,yp)\n",
        "print(\"The area of the first triangle is \" + str(area1))\n",
        "area2 = triangle_area(x1,y1,xp,yp,x3,y3)\n",
        "print(\"The area of the second triangle is \" + str(area2))\n",
        "area3 = triangle_area(xp,yp,x2,y2,x3,y3)\n",
        "print(\"The area of the third triangle is \" + str(area3))\n",
        "\n",
        "if(area == area1 + area2 + area3):\n",
        "  print(\"Point P lies within the triangle.\")\n",
        "else:\n",
        "  print(\"Point P does not lie within the triangle.\")\n",
        "\n",
        "\n",
        "\n"
      ],
      "execution_count": 43,
      "outputs": [
        {
          "output_type": "stream",
          "name": "stdout",
          "text": [
            "Enter the value of x1: 7\n",
            "Enter the value of y1: 4\n",
            "Enter the value of x2: 6\n",
            "Enter the value of y2: 7\n",
            "Enter the value of x3: 9\n",
            "Enter the value of y3: 2\n",
            "Enter the value of xp: 2\n",
            "Enter the value of yp: 4\n",
            "The area of the main triangle is -2.0\n",
            "The area of the first triangle is 7.5\n",
            "The area of the second triangle is 5.0\n",
            "The area of the third triangle is -14.5\n",
            "Point P lies within the triangle.\n"
          ]
        }
      ]
    }
  ]
}