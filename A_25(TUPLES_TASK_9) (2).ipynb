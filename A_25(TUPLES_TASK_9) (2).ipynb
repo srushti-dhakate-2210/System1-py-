{
  "nbformat": 4,
  "nbformat_minor": 0,
  "metadata": {
    "colab": {
      "name": "A-25(TUPLES_TASK 9).ipynb",
      "provenance": [],
      "collapsed_sections": []
    },
    "kernelspec": {
      "name": "python3",
      "display_name": "Python 3"
    },
    "language_info": {
      "name": "python"
    }
  },
  "cells": [
    {
      "cell_type": "markdown",
      "source": [
        "#Name: Srushti Dhakate \n",
        "##Roll no .: A 25\n",
        "#Systems Lab Task 9\n",
        "#Branch:  CSE(1ST SHIFT)"
      ],
      "metadata": {
        "id": "vzK3rS6LKBGu"
      }
    },
    {
      "cell_type": "markdown",
      "source": [
        "Q1. Operation in python tuple"
      ],
      "metadata": {
        "id": "ITXIUHnHKdnD"
      }
    },
    {
      "cell_type": "code",
      "source": [
        "#create a tuple use () notation for tuple\n",
        "thistuple = (\"apple\", \"banana\", \"cherry\")\n",
        "print(thistuple)\n",
        "print(type(thistuple))"
      ],
      "metadata": {
        "colab": {
          "base_uri": "https://localhost:8080/"
        },
        "id": "5qT62CgoJ2sA",
        "outputId": "4074e573-20ce-4b57-9b25-c7925a53b2fc"
      },
      "execution_count": 1,
      "outputs": [
        {
          "output_type": "stream",
          "name": "stdout",
          "text": [
            "('apple', 'banana', 'cherry')\n",
            "<class 'tuple'>\n"
          ]
        }
      ]
    },
    {
      "cell_type": "code",
      "source": [
        "#tuples allow duplicate values\n",
        "thistuple = (\"apple\", \"banana\", \"cherry\", \"apple\", \"banana\")\n",
        "print(thistuple)"
      ],
      "metadata": {
        "colab": {
          "base_uri": "https://localhost:8080/"
        },
        "id": "CGL2OnJjJ2oQ",
        "outputId": "2d5dffc5-df56-4c8b-a75f-12679a339db8"
      },
      "execution_count": 2,
      "outputs": [
        {
          "output_type": "stream",
          "name": "stdout",
          "text": [
            "('apple', 'banana', 'cherry', 'apple', 'banana')\n"
          ]
        }
      ]
    },
    {
      "cell_type": "code",
      "source": [
        "#print second item in tuple\n",
        "thistuple = (\"apple\", \"banana\", \"cherry\")\n",
        "print(thistuple[1])"
      ],
      "metadata": {
        "colab": {
          "base_uri": "https://localhost:8080/"
        },
        "id": "33ymVBy7J2i_",
        "outputId": "3dd52f80-585d-4384-a65a-3d805e807619"
      },
      "execution_count": 3,
      "outputs": [
        {
          "output_type": "stream",
          "name": "stdout",
          "text": [
            "banana\n"
          ]
        }
      ]
    },
    {
      "cell_type": "code",
      "source": [
        "thistuple = (\"apple\", \"banana\", \"cherry\")\n",
        "print(len(thistuple))"
      ],
      "metadata": {
        "colab": {
          "base_uri": "https://localhost:8080/"
        },
        "id": "0LSm-rGTJ2co",
        "outputId": "7ef66740-0db3-48f7-8a4c-9ba4c043a33d"
      },
      "execution_count": 4,
      "outputs": [
        {
          "output_type": "stream",
          "name": "stdout",
          "text": [
            "3\n"
          ]
        }
      ]
    },
    {
      "cell_type": "code",
      "source": [
        "#create tuple with one item\n",
        "#to create a tuple with only one item use a comma\n",
        "\n",
        "#tuple\n",
        "thistuple = (\"apple\",)\n",
        "print(type(thistuple))\n",
        "\n",
        "#not a tuple\n",
        "thistuple = (\"apple\")\n",
        "print(type(thistuple))"
      ],
      "metadata": {
        "colab": {
          "base_uri": "https://localhost:8080/"
        },
        "id": "U4axAwXTJ2ZL",
        "outputId": "74e7bbdb-6192-4561-e724-1af07c0c7892"
      },
      "execution_count": 5,
      "outputs": [
        {
          "output_type": "stream",
          "name": "stdout",
          "text": [
            "<class 'tuple'>\n",
            "<class 'str'>\n"
          ]
        }
      ]
    },
    {
      "cell_type": "code",
      "source": [
        "#tuple with strings, integers and boolean values:\n",
        "\n",
        "tuple1 = {\"abs\", 24, True, 40, \"male\"}\n",
        "print(type(tuple1))\n",
        "print(tuple1)"
      ],
      "metadata": {
        "colab": {
          "base_uri": "https://localhost:8080/"
        },
        "id": "dWrk6swhJ2TY",
        "outputId": "e61f0b8a-a15d-43e6-d977-03ce84a5d48c"
      },
      "execution_count": 6,
      "outputs": [
        {
          "output_type": "stream",
          "name": "stdout",
          "text": [
            "<class 'set'>\n",
            "{True, 40, 'male', 'abs', 24}\n"
          ]
        }
      ]
    },
    {
      "cell_type": "code",
      "source": [
        "#tuple() constructor\n",
        "\n",
        "thistuple = tuple((\"apple\", \"banana\", \"cherry\")) #note the double round brackets\n",
        "\n",
        "print(thistuple)"
      ],
      "metadata": {
        "colab": {
          "base_uri": "https://localhost:8080/"
        },
        "id": "pWiqVTcuL6XF",
        "outputId": "2edfa126-2c39-4b6d-c513-b1c6c5c8bd2a"
      },
      "execution_count": 7,
      "outputs": [
        {
          "output_type": "stream",
          "name": "stdout",
          "text": [
            "('apple', 'banana', 'cherry')\n"
          ]
        }
      ]
    },
    {
      "cell_type": "code",
      "source": [
        "thistuple =  (\"apple\", \"banana\", \"cherry\")\n",
        "for x in thistuple:\n",
        "  print(x, end=\" \")"
      ],
      "metadata": {
        "colab": {
          "base_uri": "https://localhost:8080/"
        },
        "id": "RtKRtpzfMDwl",
        "outputId": "2b7c78cf-cc99-414d-8211-b833c2f28ebb"
      },
      "execution_count": 8,
      "outputs": [
        {
          "output_type": "stream",
          "name": "stdout",
          "text": [
            "apple banana cherry "
          ]
        }
      ]
    },
    {
      "cell_type": "code",
      "source": [
        "#write a python program to unpack a tuple in several variable\n",
        "\n",
        "tuple = 4, 7, 2\n",
        "print(tuple)\n",
        "\n",
        "n1, n2, n3 = tuple\n",
        "#unpack a tuple in variables\n",
        "\n",
        "print(n1 + n2 + n3)\n",
        "#the number of variables must be eqaul to the number of items of the tuple\n",
        "n1, n2, n3 = tuple"
      ],
      "metadata": {
        "colab": {
          "base_uri": "https://localhost:8080/"
        },
        "id": "bVfAOXqFMDpV",
        "outputId": "0270a21e-4b24-43ce-ad07-3a7f272a4ae4"
      },
      "execution_count": 12,
      "outputs": [
        {
          "output_type": "stream",
          "name": "stdout",
          "text": [
            "(4, 7, 2)\n",
            "13\n"
          ]
        }
      ]
    },
    {
      "cell_type": "code",
      "source": [
        "# Different types of tuples\n",
        "\n",
        "# Empty tuple\n",
        "my_tuple = ()\n",
        "print(my_tuple)\n",
        "\n",
        "# Tuple having integers\n",
        "my_tuple = (1, 2, 3)\n",
        "print(my_tuple)\n",
        "\n",
        "# tuple with mixed datatypes\n",
        "my_tuple = (1, \"Hello\", 3.4)\n",
        "print(my_tuple)\n",
        "\n",
        "# nested tuple\n",
        "my_tuple = (\"mouse\", [8, 4, 6], (1, 2, 3))\n",
        "print(my_tuple)"
      ],
      "metadata": {
        "colab": {
          "base_uri": "https://localhost:8080/"
        },
        "id": "1sMkqOGPMDgU",
        "outputId": "8dcae2e3-4d4f-430f-eaa2-ec796dfc0a13"
      },
      "execution_count": 13,
      "outputs": [
        {
          "output_type": "stream",
          "name": "stdout",
          "text": [
            "()\n",
            "(1, 2, 3)\n",
            "(1, 'Hello', 3.4)\n",
            "('mouse', [8, 4, 6], (1, 2, 3))\n"
          ]
        }
      ]
    },
    {
      "cell_type": "code",
      "source": [
        "# Concatenation\n",
        "print((1, 2, 3) + (4, 5, 6))\n",
        "\n",
        "print((\"Repeat\",) * 3)"
      ],
      "metadata": {
        "colab": {
          "base_uri": "https://localhost:8080/"
        },
        "id": "KZvN0kUmMDZZ",
        "outputId": "996ba184-e68c-4c2a-d26a-c6d0793b880a"
      },
      "execution_count": 14,
      "outputs": [
        {
          "output_type": "stream",
          "name": "stdout",
          "text": [
            "(1, 2, 3, 4, 5, 6)\n",
            "('Repeat', 'Repeat', 'Repeat')\n"
          ]
        }
      ]
    },
    {
      "cell_type": "markdown",
      "source": [
        "Q2. Methods in python tuple."
      ],
      "metadata": {
        "id": "XrML0aAuNoPf"
      }
    },
    {
      "cell_type": "code",
      "source": [
        "#convert tuple to string\n",
        "\n",
        "tup =  ('e', 'x', 'e', 'r', 'c', 'i', 's', 'e', 's')\n",
        "str = ''.join(tup)\n",
        "print(str)"
      ],
      "metadata": {
        "colab": {
          "base_uri": "https://localhost:8080/"
        },
        "id": "0EpWL2P-NjB_",
        "outputId": "f241f53b-eb1c-4a7d-c83d-4ceb52fdebee"
      },
      "execution_count": 15,
      "outputs": [
        {
          "output_type": "stream",
          "name": "stdout",
          "text": [
            "exercises\n"
          ]
        }
      ]
    },
    {
      "cell_type": "code",
      "source": [
        "my_tuple = ('a', 'p', 'p', 'l', 'e',)\n",
        "\n",
        "print(my_tuple.count('p'))  \n",
        "print(my_tuple.index('l'))  "
      ],
      "metadata": {
        "colab": {
          "base_uri": "https://localhost:8080/"
        },
        "id": "V-3_12ZoNi9a",
        "outputId": "2fd318c0-cbb9-4852-da6f-127b8ea6cfb6"
      },
      "execution_count": 16,
      "outputs": [
        {
          "output_type": "stream",
          "name": "stdout",
          "text": [
            "2\n",
            "3\n"
          ]
        }
      ]
    },
    {
      "cell_type": "code",
      "source": [
        "thistuple = (1, 3, 7, 8, 7, 5, 4, 6, 8, 5)\n",
        "\n",
        "x = thistuple.count(5)\n",
        "\n",
        "print(x)"
      ],
      "metadata": {
        "colab": {
          "base_uri": "https://localhost:8080/"
        },
        "id": "ChYYHJqfNi4s",
        "outputId": "537b01d6-6dc8-4b31-c707-8c80e7053e59"
      },
      "execution_count": 17,
      "outputs": [
        {
          "output_type": "stream",
          "name": "stdout",
          "text": [
            "2\n"
          ]
        }
      ]
    },
    {
      "cell_type": "code",
      "source": [
        "thistuple = (1, 3, 7, 9, 6, 3, 0, 4, 8, 5)\n",
        "\n",
        "x = thistuple.index(8)\n",
        "\n",
        "print(x)"
      ],
      "metadata": {
        "colab": {
          "base_uri": "https://localhost:8080/"
        },
        "id": "GB2cOp5zNi0z",
        "outputId": "ddaa8912-ffb0-4d28-c1fb-333bd25d9f10"
      },
      "execution_count": 18,
      "outputs": [
        {
          "output_type": "stream",
          "name": "stdout",
          "text": [
            "8\n"
          ]
        }
      ]
    },
    {
      "cell_type": "markdown",
      "source": [
        "Q3. Write a python program to join two tuples."
      ],
      "metadata": {
        "id": "Eb5X52kEODxV"
      }
    },
    {
      "cell_type": "code",
      "source": [
        "#join tuples\n",
        "\n",
        "tuple1 = (\"a\", \"b\", \"c\")\n",
        "tuple2 = (1,2,3)\n",
        "\n",
        "tuple3 = tuple1 + tuple2\n",
        "print(tuple3)\n",
        "\n",
        "tuple1 = tuple1 + tuple2\n",
        "print(tuple1)\n"
      ],
      "metadata": {
        "colab": {
          "base_uri": "https://localhost:8080/"
        },
        "id": "lejg5AVXNiwl",
        "outputId": "97a57872-4769-405a-862d-b6372b85747d"
      },
      "execution_count": 19,
      "outputs": [
        {
          "output_type": "stream",
          "name": "stdout",
          "text": [
            "('a', 'b', 'c', 1, 2, 3)\n",
            "('a', 'b', 'c', 1, 2, 3)\n"
          ]
        }
      ]
    },
    {
      "cell_type": "markdown",
      "source": [
        "Q4. Write a python program to multiply the content of a tuple."
      ],
      "metadata": {
        "id": "e3vLhcb5ONY6"
      }
    },
    {
      "cell_type": "code",
      "source": [
        "#multiply contents of a tuple\n",
        "\n",
        "fruits = (\"apple\", \"banana\", \"cherry\")\n",
        "mytuple = fruits * 2\n",
        "\n",
        "print(mytuple)"
      ],
      "metadata": {
        "colab": {
          "base_uri": "https://localhost:8080/"
        },
        "id": "DAhKOfJQOM3b",
        "outputId": "a91d978a-0bfc-4164-b059-34cb8d82a37b"
      },
      "execution_count": 20,
      "outputs": [
        {
          "output_type": "stream",
          "name": "stdout",
          "text": [
            "('apple', 'banana', 'cherry', 'apple', 'banana', 'cherry')\n"
          ]
        }
      ]
    },
    {
      "cell_type": "markdown",
      "source": [
        "Q5. Pass a tuple to the divmod() function and obtain the quotient and the remainder."
      ],
      "metadata": {
        "id": "Ky5IXBAjOY3x"
      }
    },
    {
      "cell_type": "code",
      "source": [
        "#pass a tuple to the divmod() function and obtain the quotient and the remainder\n",
        "\n",
        "result = divmod(17,3)\n",
        "print(result)\n",
        "\n",
        "# or\n",
        "\n",
        "t = (17,3)\n",
        "print(t)\n",
        "result = divmod(*t)\n",
        "print(result)"
      ],
      "metadata": {
        "colab": {
          "base_uri": "https://localhost:8080/"
        },
        "id": "RYlCStaSOMmT",
        "outputId": "b584d5ac-07e1-47de-e288-e7db2afb80f8"
      },
      "execution_count": 21,
      "outputs": [
        {
          "output_type": "stream",
          "name": "stdout",
          "text": [
            "(5, 2)\n",
            "(17, 3)\n",
            "(5, 2)\n"
          ]
        }
      ]
    },
    {
      "cell_type": "markdown",
      "source": [
        ""
      ],
      "metadata": {
        "id": "vpoCYQt8Okjo"
      }
    },
    {
      "cell_type": "markdown",
      "source": [
        "Q6. Create 3 lists - a list of names, a list of ages and a list of salaries. Generate and print a\n",
        "list of tuples containing name, age and salary from the 3 lists. From this list generate 3 tuples, one containing all names, another containing all ages and third containing all salaries."
      ],
      "metadata": {
        "id": "rFpwGR_Rq5pg"
      }
    },
    {
      "cell_type": "code",
      "source": [
        "names= ('srushti','priti','aaryan')\n",
        "ages= [50,35,12]\n",
        "salaries=[34521,42567.8,25677.90]\n",
        "result=zip()\n",
        "print(list(result))\n",
        "it=zip(names,ages,salaries)\n",
        "lst = list(it)\n",
        "#unzip\n",
        "n,a,s=zip(*lst)\n",
        "print(n)\n",
        "print(a)\n",
        "print(s)"
      ],
      "metadata": {
        "colab": {
          "base_uri": "https://localhost:8080/"
        },
        "id": "ILcVtrg9OMit",
        "outputId": "f66db3a8-c83f-45b9-9626-99f21d2f560e"
      },
      "execution_count": 22,
      "outputs": [
        {
          "output_type": "stream",
          "name": "stdout",
          "text": [
            "[]\n",
            "('srushti', 'priti', 'aaryan')\n",
            "(50, 35, 12)\n",
            "(34521, 42567.8, 25677.9)\n"
          ]
        }
      ]
    },
    {
      "cell_type": "markdown",
      "source": [
        "Q7. Write a program to obtain the transpose of a 3 x 4 matrix."
      ],
      "metadata": {
        "id": "M3Sp8F1-PM7h"
      }
    },
    {
      "cell_type": "code",
      "source": [
        "#write a program to obtain transpose of a 3x4 matrix\n",
        "mat=[[1,2,3,4],[5,6,7,8],[9,10,11,12]]\n",
        "ti=zip(*mat)\n",
        "lst=list(ti) \n",
        "print(lst)"
      ],
      "metadata": {
        "colab": {
          "base_uri": "https://localhost:8080/"
        },
        "id": "c096C7bSOMa_",
        "outputId": "050232e9-1dca-4017-fae3-5cb519fe8a31"
      },
      "execution_count": 23,
      "outputs": [
        {
          "output_type": "stream",
          "name": "stdout",
          "text": [
            "[(1, 5, 9), (2, 6, 10), (3, 7, 11), (4, 8, 12)]\n"
          ]
        }
      ]
    },
    {
      "cell_type": "markdown",
      "source": [
        "Q8. Create a list of tuples. Each tuple should contain an item and its price in float. Write a program to sort the tuples in descending order by price."
      ],
      "metadata": {
        "id": "y0E0AKPcPhVL"
      }
    },
    {
      "cell_type": "code",
      "source": [
        "#bubblesort\n",
        "#create a list of tuples\n",
        "#decending order as per prize\n",
        "new_list = [('Rice',57.85),('Cadbury',250.80),('Milk',60.90),('Tea',300.0),('Bread',25.5)]\n",
        "new_ele=1\n",
        "new_lis_len = len(new_list)\n",
        "for k in range (0,new_lis_len):\n",
        "  for l in range(0,new_lis_len-k-1):\n",
        "    if(new_list[l][new_ele]< new_list[l+1][new_ele]):\n",
        "      new_tem = new_list[l]\n",
        "      new_list[l]= new_list[l+1]\n",
        "      new_list[l+1]=new_tem\n",
        "print(new_list)     "
      ],
      "metadata": {
        "colab": {
          "base_uri": "https://localhost:8080/"
        },
        "id": "niPLLz49OMVK",
        "outputId": "3dbcca90-a1c6-4fd0-ae37-0ded553c2ba5"
      },
      "execution_count": 24,
      "outputs": [
        {
          "output_type": "stream",
          "name": "stdout",
          "text": [
            "[('Tea', 300.0), ('Cadbury', 250.8), ('Milk', 60.9), ('Rice', 57.85), ('Bread', 25.5)]\n"
          ]
        }
      ]
    },
    {
      "cell_type": "markdown",
      "source": [
        "Q9. Create a list of tuples. Each tuple should contain an item and its price in float. Write a program to sort the tuples in ascending order by price."
      ],
      "metadata": {
        "id": "EJ1vtSCTPzzT"
      }
    },
    {
      "cell_type": "code",
      "source": [
        "#bubblesort\n",
        "#create a list of tuples\n",
        "#asending order as per prize\n",
        "new_list = [('Rice',57.85),('Cadbury',250.80),('Milk',60.90),('Tea',300.0),('Bread',25.5)]\n",
        "new_ele=1\n",
        "new_lis_len = len(new_list)\n",
        "for k in range (0,new_lis_len):\n",
        "  for l in range(0,new_lis_len-k-1):\n",
        "    if(new_list[l][new_ele]> new_list[l+1][new_ele]):\n",
        "      new_tem = new_list[l]\n",
        "      new_list[l]= new_list[l+1]\n",
        "      new_list[l+1]=new_tem\n",
        "print(new_list)     "
      ],
      "metadata": {
        "colab": {
          "base_uri": "https://localhost:8080/"
        },
        "id": "e612eGghOL53",
        "outputId": "c1a4c930-27a0-4f30-ca8b-acae804e223b"
      },
      "execution_count": 25,
      "outputs": [
        {
          "output_type": "stream",
          "name": "stdout",
          "text": [
            "[('Bread', 25.5), ('Rice', 57.85), ('Milk', 60.9), ('Cadbury', 250.8), ('Tea', 300.0)]\n"
          ]
        }
      ]
    },
    {
      "cell_type": "markdown",
      "source": [
        "Q10. Create a list of tuples. Each tuple should contain an item and its price in float. Write a program to sort the tuples in descending order by item."
      ],
      "metadata": {
        "id": "kRUzen4pQQF6"
      }
    },
    {
      "cell_type": "code",
      "source": [
        "#bubblesort\n",
        "#create a list of tuples\n",
        "#each tuple should contain an item and its price in float \n",
        "#write a program to sort the tuples in descending order by name.\n",
        "new_list = [('Rice',57.85),('Cadbury',250.80),('Milk',60.90),('Tea',300.0),('Bread',25.5)]\n",
        "new_ele=0\n",
        "new_lis_len = len(new_list)\n",
        "for k in range (0,new_lis_len):\n",
        "  for l in range(0,new_lis_len-k-1):\n",
        "    if(new_list[l][new_ele]< new_list[l+1][new_ele]):\n",
        "      new_tem = new_list[l]\n",
        "      new_list[l]= new_list[l+1]\n",
        "      new_list[l+1]=new_tem\n",
        "print(new_list)    "
      ],
      "metadata": {
        "colab": {
          "base_uri": "https://localhost:8080/"
        },
        "id": "3l4eschjQJSG",
        "outputId": "dec332a0-89a4-47e6-f50d-74315a017092"
      },
      "execution_count": 26,
      "outputs": [
        {
          "output_type": "stream",
          "name": "stdout",
          "text": [
            "[('Tea', 300.0), ('Rice', 57.85), ('Milk', 60.9), ('Cadbury', 250.8), ('Bread', 25.5)]\n"
          ]
        }
      ]
    },
    {
      "cell_type": "markdown",
      "source": [
        "#EXTRA QUESTIONS DONE IN CLASS"
      ],
      "metadata": {
        "id": "_c5r95d8Qvqk"
      }
    },
    {
      "cell_type": "code",
      "execution_count": null,
      "metadata": {
        "colab": {
          "base_uri": "https://localhost:8080/"
        },
        "id": "TSXLSHY1cwBk",
        "outputId": "0bbc0b58-9b50-4c4e-c247-6fc230f21db3"
      },
      "outputs": [
        {
          "output_type": "stream",
          "name": "stdout",
          "text": [
            "[(-1, -7), (-8, 3), (5, -6)]\n",
            "[-8, -5, -1]\n",
            "[(1, 7), (8, 3), (5, 6)]\n",
            "[8, 11, 11]\n"
          ]
        }
      ],
      "source": [
        "def test(list1):\n",
        "  result=map(sum, list1)\n",
        "  return list(result)\n",
        "nums=[(-1, -7), (-8, 3), (5, -6)]\n",
        "print(nums)\n",
        "print(test(nums))\n",
        "nums=[(1, 7), (8, 3), (5, 6)]\n",
        "print(nums)\n",
        "print(test(nums))"
      ]
    },
    {
      "cell_type": "code",
      "source": [
        "def test(lst):\n",
        "  result=map(sum,lst)\n",
        "  return list(result)\n",
        "\n",
        "nums=[(1,2,-9),(2,3,8),(3,-3,4),(-4,9,-7)]\n",
        "print(\"original list of tuple:\")\n",
        "print(nums) \n",
        "print(\"sum of all the elements of each tuple stored inside the said list of tuples :\")\n",
        "print(test(nums))\n"
      ],
      "metadata": {
        "colab": {
          "base_uri": "https://localhost:8080/"
        },
        "id": "Wcjk7tN_dSPU",
        "outputId": "0a937993-4b9b-43b8-d0fa-4cb9727aee84"
      },
      "execution_count": null,
      "outputs": [
        {
          "output_type": "stream",
          "name": "stdout",
          "text": [
            "original list of tuple:\n",
            "[(1, 2, -9), (2, 3, 8), (3, -3, 4), (-4, 9, -7)]\n",
            "sum of all the elements of each tuple stored inside the said list of tuples :\n",
            "[-6, 13, 4, -2]\n"
          ]
        }
      ]
    },
    {
      "cell_type": "code",
      "source": [
        "#Write a python program to convert a given list of tuples to a list of lists.\n",
        "def test(lst_tuples):\n",
        "    result =[list(el)for el in lst_tuples]\n",
        "    return result\n",
        "\n",
        "\n",
        "lst_tuples = [(11,22),(22,33),(33,44)]\n",
        "print(\"original list of tuple:\")\n",
        "print(lst_tuples)\n",
        "print(\"convert the said list of tuples to list of lists:\")\n",
        "print(test(lst_tuples))"
      ],
      "metadata": {
        "colab": {
          "base_uri": "https://localhost:8080/"
        },
        "id": "T2ZlGIXBdWB0",
        "outputId": "457300b3-104e-4849-b6c7-28bd8c6767f2"
      },
      "execution_count": null,
      "outputs": [
        {
          "output_type": "stream",
          "name": "stdout",
          "text": [
            "original list of tuple:\n",
            "[(11, 22), (22, 33), (33, 44)]\n",
            "convert the said list of tuples to list of lists:\n",
            "[[11, 22], [22, 33], [33, 44]]\n"
          ]
        }
      ]
    },
    {
      "cell_type": "code",
      "source": [
        "names= ('srushti','priti','aaryan')\n",
        "n=zip(names)\n",
        "lst=list(n)\n",
        "print(lst)"
      ],
      "metadata": {
        "colab": {
          "base_uri": "https://localhost:8080/"
        },
        "id": "B14V1zJcdbs_",
        "outputId": "abe13019-e5bb-4337-8cd2-161b0deab592"
      },
      "execution_count": null,
      "outputs": [
        {
          "output_type": "stream",
          "name": "stdout",
          "text": [
            "[('srushti',), ('priti',), ('aaryan',)]\n"
          ]
        }
      ]
    },
    {
      "cell_type": "code",
      "source": [
        "name=(\"srush\", \"amit\", \"raj\", \"kriti\")\n",
        "age=(17, 18, 19, 18)\n",
        "marks=(48, 45, 47, 38)\n",
        "result=zip()\n",
        "print(list(result))\n",
        "iterable=zip(name, age, marks)\n",
        "list1=list(iterable)\n",
        "print(list1)\n",
        "name,age,marks=zip(*list1)\n",
        "print(name)\n",
        "print(age)\n",
        "print(marks)"
      ],
      "metadata": {
        "colab": {
          "base_uri": "https://localhost:8080/"
        },
        "id": "-lufk8enUW5u",
        "outputId": "278d7612-4357-49ba-ca92-672c983ef467"
      },
      "execution_count": null,
      "outputs": [
        {
          "output_type": "stream",
          "name": "stdout",
          "text": [
            "[]\n",
            "[('srush', 17, 48), ('amit', 18, 45), ('raj', 19, 47), ('kriti', 18, 38)]\n",
            "('srush', 'amit', 'raj', 'kriti')\n",
            "(17, 18, 19, 18)\n",
            "(48, 45, 47, 38)\n"
          ]
        }
      ]
    },
    {
      "cell_type": "code",
      "source": [
        "#pass a tuple to divmod()function and obtain the quotient and remainder.\n",
        "result=divmod(17,3)\n",
        "print(result)\n",
        "t=(17,3)\n",
        "result=divmod(*t)\n"
      ],
      "metadata": {
        "colab": {
          "base_uri": "https://localhost:8080/"
        },
        "id": "moyKtzJFdxMP",
        "outputId": "6820fe7e-131a-4416-d933-13dff081e675"
      },
      "execution_count": null,
      "outputs": [
        {
          "output_type": "stream",
          "name": "stdout",
          "text": [
            "(5, 2)\n"
          ]
        }
      ]
    },
    {
      "cell_type": "code",
      "source": [
        "result=divmod(17,3)\n",
        "print(t)\n",
        "t=(17,3)\n",
        "result=divmod(*t)\n",
        "print(result)"
      ],
      "metadata": {
        "colab": {
          "base_uri": "https://localhost:8080/"
        },
        "id": "3YKTuoIAd3OZ",
        "outputId": "4d59494b-33c5-4f22-fc86-a3f1fc588f0c"
      },
      "execution_count": null,
      "outputs": [
        {
          "output_type": "stream",
          "name": "stdout",
          "text": [
            "(17, 3)\n",
            "(5, 2)\n"
          ]
        }
      ]
    },
    {
      "cell_type": "code",
      "source": [
        "#suppose we have a list of integers and a tuple of 5 floats . can we zip them and obtain an iterator.if yes,how?\n",
        "integer=[10,20,30,40,50]\n",
        "floats=(1.1,2.2,3.4,7.4,5.7)\n",
        "ti=zip(integer,floats)\n",
        "lst=list(ti)\n",
        "print(lst)\n",
        "for i ,f in lst:\n",
        "  print(i,f)"
      ],
      "metadata": {
        "colab": {
          "base_uri": "https://localhost:8080/"
        },
        "id": "STLZ2gPdd7NP",
        "outputId": "b938d29c-098c-4e36-b046-862b53a7a565"
      },
      "execution_count": null,
      "outputs": [
        {
          "output_type": "stream",
          "name": "stdout",
          "text": [
            "[(10, 1.1), (20, 2.2), (30, 3.4), (40, 7.4), (50, 5.7)]\n",
            "10 1.1\n",
            "20 2.2\n",
            "30 3.4\n",
            "40 7.4\n",
            "50 5.7\n"
          ]
        }
      ]
    }
  ]
}