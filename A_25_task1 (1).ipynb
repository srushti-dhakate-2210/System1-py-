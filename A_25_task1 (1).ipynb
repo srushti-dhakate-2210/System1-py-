{
  "nbformat": 4,
  "nbformat_minor": 0,
  "metadata": {
    "colab": {
      "name": "A-25_task1.ipynb",
      "provenance": [],
      "collapsed_sections": []
    },
    "kernelspec": {
      "name": "python3",
      "display_name": "Python 3"
    },
    "language_info": {
      "name": "python"
    }
  },
  "cells": [
    {
      "cell_type": "markdown",
      "source": [
        "# Name : Srushti Dhakate"
      ],
      "metadata": {
        "id": "jLdqKiad9a5f"
      }
    },
    {
      "cell_type": "markdown",
      "source": [
        "Batch : A2"
      ],
      "metadata": {
        "id": "d0SOYPXB9atj"
      }
    },
    {
      "cell_type": "markdown",
      "source": [
        "Roll No : A-25"
      ],
      "metadata": {
        "id": "omETD8os9iCT"
      }
    },
    {
      "cell_type": "markdown",
      "source": [
        "# **PRACTICAL 1 : DATATYPES AND OPERATORS IN PYTHON**"
      ],
      "metadata": {
        "id": "7xqOIPJN9k-l"
      }
    },
    {
      "cell_type": "markdown",
      "source": [
        "(i) Write a Python Program to print data of different data types using variables and literal\n",
        "constants."
      ],
      "metadata": {
        "id": "nQoVoljg-hmV"
      }
    },
    {
      "cell_type": "code",
      "source": [
        "print(\"Hello World\")"
      ],
      "metadata": {
        "colab": {
          "base_uri": "https://localhost:8080/"
        },
        "id": "i3W4O712_IQw",
        "outputId": "45e151a4-ae3c-4334-e153-a6d456d557e0"
      },
      "execution_count": 24,
      "outputs": [
        {
          "output_type": "stream",
          "name": "stdout",
          "text": [
            "Hello World\n"
          ]
        }
      ]
    },
    {
      "cell_type": "code",
      "source": [
        "a=10\n",
        "b=20.0\n",
        "c=\"Srushti\"\n",
        "print(a)\n",
        "print(b)\n",
        "print(c)\n",
        "print(type(a))\n",
        "print(type(b))\n",
        "print(type(c))"
      ],
      "metadata": {
        "colab": {
          "base_uri": "https://localhost:8080/"
        },
        "id": "Bw1NEaNi_zT6",
        "outputId": "d56a76b3-440d-4623-f40e-9cf5b5cafb30"
      },
      "execution_count": 25,
      "outputs": [
        {
          "output_type": "stream",
          "name": "stdout",
          "text": [
            "10\n",
            "20.0\n",
            "Srushti\n",
            "<class 'int'>\n",
            "<class 'float'>\n",
            "<class 'str'>\n"
          ]
        }
      ]
    },
    {
      "cell_type": "code",
      "source": [
        "myList = [10,81,310,7]\n",
        "print(myList)\n",
        "print(type(myList))"
      ],
      "metadata": {
        "colab": {
          "base_uri": "https://localhost:8080/"
        },
        "id": "3tLpPLtMADUw",
        "outputId": "21f0d2d3-96db-46cb-99ca-e856982b5a03"
      },
      "execution_count": 26,
      "outputs": [
        {
          "output_type": "stream",
          "name": "stdout",
          "text": [
            "[10, 81, 310, 7]\n",
            "<class 'list'>\n"
          ]
        }
      ]
    },
    {
      "cell_type": "code",
      "source": [
        "myTuple = (20,123,7,11)\n",
        "myTuple"
      ],
      "metadata": {
        "colab": {
          "base_uri": "https://localhost:8080/"
        },
        "id": "pCSFL-YJAG-h",
        "outputId": "a7d01c5e-0bf6-44da-9ce6-68c257f40b38"
      },
      "execution_count": 27,
      "outputs": [
        {
          "output_type": "execute_result",
          "data": {
            "text/plain": [
              "(20, 123, 7, 11)"
            ]
          },
          "metadata": {},
          "execution_count": 27
        }
      ]
    },
    {
      "cell_type": "code",
      "source": [
        "compList = [a,b,c,myList,myTuple]\n",
        "compList"
      ],
      "metadata": {
        "colab": {
          "base_uri": "https://localhost:8080/"
        },
        "id": "E8UFuk9TAMX_",
        "outputId": "c0ab43fb-f494-4dbe-f505-6df155362f20"
      },
      "execution_count": 28,
      "outputs": [
        {
          "output_type": "execute_result",
          "data": {
            "text/plain": [
              "[10, 20.0, 'Srushti', [10, 81, 310, 7], (20, 123, 7, 11)]"
            ]
          },
          "metadata": {},
          "execution_count": 28
        }
      ]
    },
    {
      "cell_type": "markdown",
      "source": [
        "(ii)Write a Python Program to read two numbers from user input and apply all the arithmetic\n",
        "and comparison (Relational) operators."
      ],
      "metadata": {
        "id": "CbUjBDql-pWI"
      }
    },
    {
      "cell_type": "code",
      "source": [
        "x = 4\n",
        "y = 2\n",
        "print(type(x))\n",
        "print(x+y)\n",
        "print(x-y)\n",
        "print(x*y)\n",
        "print(x/y)\n",
        "print(x//y)"
      ],
      "metadata": {
        "colab": {
          "base_uri": "https://localhost:8080/"
        },
        "id": "lbEcdKI4_H0g",
        "outputId": "fbfca1b4-131e-41b9-f1dc-650149c54fd9"
      },
      "execution_count": 29,
      "outputs": [
        {
          "output_type": "stream",
          "name": "stdout",
          "text": [
            "<class 'int'>\n",
            "6\n",
            "2\n",
            "8\n",
            "2.0\n",
            "2\n"
          ]
        }
      ]
    },
    {
      "cell_type": "code",
      "source": [
        "a=10\n",
        "print(a)\n",
        "a+=10\n",
        "print(a)\n",
        "a-=5\n",
        "print(a)\n",
        "a*=7\n",
        "print(a)\n",
        "a/=5\n",
        "print(a)"
      ],
      "metadata": {
        "colab": {
          "base_uri": "https://localhost:8080/"
        },
        "id": "5ih70ESHApmm",
        "outputId": "0d3425d7-0394-41dd-a64e-5281d615cf36"
      },
      "execution_count": 30,
      "outputs": [
        {
          "output_type": "stream",
          "name": "stdout",
          "text": [
            "10\n",
            "20\n",
            "15\n",
            "105\n",
            "21.0\n"
          ]
        }
      ]
    },
    {
      "cell_type": "code",
      "source": [
        "x = 10\n",
        "y = 12\n",
        "print(x<y)\n",
        "print(not(x<y))\n",
        "print(x>y)"
      ],
      "metadata": {
        "colab": {
          "base_uri": "https://localhost:8080/"
        },
        "id": "RguSLPMqAtGZ",
        "outputId": "fe4ce163-c2e4-46d6-d182-a2b511125f1b"
      },
      "execution_count": 31,
      "outputs": [
        {
          "output_type": "stream",
          "name": "stdout",
          "text": [
            "True\n",
            "False\n",
            "False\n"
          ]
        }
      ]
    },
    {
      "cell_type": "code",
      "source": [
        "a = input(\"Enter 1st number\")\n",
        "b = input(\"Enter 2nd number\")\n",
        "a = int(a)\n",
        "b = int(b)\n",
        "c = a+b\n",
        "print(c)\n",
        "c = a-b\n",
        "print(c)\n",
        "c = a*b\n",
        "print(c)\n",
        "c = a/b\n",
        "print(c)\n",
        "c = a%b\n",
        "print(c)\n",
        "c = a>b\n",
        "print(\"a>b? \" + str(c))\n",
        "c = a<b\n",
        "print(\"a<b? \" + str(c))"
      ],
      "metadata": {
        "colab": {
          "base_uri": "https://localhost:8080/"
        },
        "id": "6N8f5254BDau",
        "outputId": "246f177f-3219-472c-b372-556ee09795d4"
      },
      "execution_count": 32,
      "outputs": [
        {
          "output_type": "stream",
          "name": "stdout",
          "text": [
            "Enter 1st number56\n",
            "Enter 2nd number89\n",
            "145\n",
            "-33\n",
            "4984\n",
            "0.6292134831460674\n",
            "56\n",
            "a>b? False\n",
            "a<b? True\n"
          ]
        }
      ]
    },
    {
      "cell_type": "code",
      "source": [
        "for i in range(10,1,-3):\n",
        "  print(i)"
      ],
      "metadata": {
        "colab": {
          "base_uri": "https://localhost:8080/"
        },
        "id": "LKVZxh2f_HNg",
        "outputId": "5dbd2877-0b16-4a97-ceb8-11309cca2651"
      },
      "execution_count": 33,
      "outputs": [
        {
          "output_type": "stream",
          "name": "stdout",
          "text": [
            "10\n",
            "7\n",
            "4\n"
          ]
        }
      ]
    },
    {
      "cell_type": "markdown",
      "source": [
        "(iii)Write a Python Program to demonstrate Logical operators, Membership operators and\n",
        "Identity operator in python."
      ],
      "metadata": {
        "id": "Ho1dehEQ-pFS"
      }
    },
    {
      "cell_type": "code",
      "source": [
        "x = [\"car\", \"bus\"]\n",
        "print(\"bus\" in x)\n",
        "print(\"car\" not in x)\n",
        "print(\"cycle\" not in x)"
      ],
      "metadata": {
        "colab": {
          "base_uri": "https://localhost:8080/"
        },
        "id": "nSGS0pBgB7Qc",
        "outputId": "707e1790-2047-453f-ff3c-3c2af17713d2"
      },
      "execution_count": 34,
      "outputs": [
        {
          "output_type": "stream",
          "name": "stdout",
          "text": [
            "True\n",
            "False\n",
            "True\n"
          ]
        }
      ]
    },
    {
      "cell_type": "code",
      "source": [
        "x = 5\n",
        "print(x > 3 and x < 10)\n",
        "print(x == 5 or x < 10)\n",
        "print(not(x == 5 or x < 10))"
      ],
      "metadata": {
        "colab": {
          "base_uri": "https://localhost:8080/"
        },
        "id": "8wtAczT-CDh-",
        "outputId": "a96b6124-736f-4e47-cda4-daa44411c197"
      },
      "execution_count": 35,
      "outputs": [
        {
          "output_type": "stream",
          "name": "stdout",
          "text": [
            "True\n",
            "True\n",
            "False\n"
          ]
        }
      ]
    },
    {
      "cell_type": "markdown",
      "source": [
        "(iv)Write a Python program that accepts an integer (x) and computes the value of x+xx+xxx\n",
        "5\n",
        "55\n",
        "555\n",
        "+++++++++\n",
        "615"
      ],
      "metadata": {
        "id": "8TnegWb3-o3B"
      }
    },
    {
      "cell_type": "code",
      "source": [
        "s = input(\"Enter a number: \")\n",
        "print(s)\n",
        "s1 = s+s;\n",
        "print(s1)\n",
        "s2 = s1+s\n",
        "print(s2)\n",
        "print(\"-----------\")\n",
        "print(int(s)+int(s1)+int(s2))"
      ],
      "metadata": {
        "colab": {
          "base_uri": "https://localhost:8080/"
        },
        "id": "_ZCscu06_GiS",
        "outputId": "f2430903-1433-46b1-f216-21c1956d8cd4"
      },
      "execution_count": 36,
      "outputs": [
        {
          "output_type": "stream",
          "name": "stdout",
          "text": [
            "Enter a number: 5\n",
            "5\n",
            "55\n",
            "555\n",
            "-----------\n",
            "615\n"
          ]
        }
      ]
    },
    {
      "cell_type": "markdown",
      "source": [
        "(v)Write a program that asks the user to input their name and their age. Print out a message\n",
        "addressed to them that tells them the year that they will turn 75 years old."
      ],
      "metadata": {
        "id": "1vFOpZfF-oat"
      }
    },
    {
      "cell_type": "code",
      "source": [
        "name = input(\"Enter your Name: \")\n",
        "age = input(\"Enter your Age: \")\n",
        "age75 = 2021-int(age)+75;\n",
        "if age75<=2021:\n",
        "  print(name + \" turned 75 in year: \" + str(age75))\n",
        "else:\n",
        "  print(name + \" will turn 75 in year: \" + str(age75))"
      ],
      "metadata": {
        "colab": {
          "base_uri": "https://localhost:8080/"
        },
        "id": "r5BgIcjO9mIa",
        "outputId": "8acdea86-cbb0-4b91-b91f-f73149abed53"
      },
      "execution_count": 38,
      "outputs": [
        {
          "output_type": "stream",
          "name": "stdout",
          "text": [
            "Enter your Name: Srushti\n",
            "Enter your Age: 19\n",
            "Srushti will turn 75 in year: 2077\n"
          ]
        }
      ]
    },
    {
      "cell_type": "markdown",
      "source": [
        "(vi)Evaluate the given arithmetic expressions using the rules of operator precedence in Python"
      ],
      "metadata": {
        "id": "usWzMO6f-9_h"
      }
    },
    {
      "cell_type": "code",
      "execution_count": 22,
      "metadata": {
        "colab": {
          "base_uri": "https://localhost:8080/"
        },
        "id": "-kNSdoh99VxM",
        "outputId": "c8c2470c-9c62-49ab-e6db-83ce8795620c"
      },
      "outputs": [
        {
          "output_type": "stream",
          "name": "stdout",
          "text": [
            "54\n",
            "25\n",
            "10\n",
            "1\n",
            "55\n",
            "-11.666666666666668\n",
            "1080\n",
            "65536\n",
            "1048\n"
          ]
        }
      ],
      "source": [
        "a = 4+5*10 \n",
        "print(a)\n",
        "a = 6+7*2+5\n",
        "print(a)\n",
        "a = 20//4*2\n",
        "print(a)\n",
        "a = 24//6//3\n",
        "print(a)\n",
        "a = 100-(15*3)\n",
        "print(a)\n",
        "a = - (100/6) + 5\n",
        "print(a)\n",
        "a = 5*6**3\n",
        "print(a)\n",
        "a = 4**2**3\n",
        "print(a)\n",
        "a = 50+10**3-2\n",
        "print(a)"
      ]
    }
  ]
}