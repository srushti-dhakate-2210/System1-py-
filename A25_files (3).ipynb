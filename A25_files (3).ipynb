{
  "nbformat": 4,
  "nbformat_minor": 0,
  "metadata": {
    "colab": {
      "name": "A25-files.ipynb",
      "provenance": [],
      "collapsed_sections": []
    },
    "kernelspec": {
      "name": "python3",
      "display_name": "Python 3"
    },
    "language_info": {
      "name": "python"
    }
  },
  "cells": [
    {
      "cell_type": "markdown",
      "source": [
        "# Name : Srushti Dhakate\n",
        "# Roll no. : A25\n",
        "# Systems lab Practical 9(File handling)"
      ],
      "metadata": {
        "id": "m9LVqrJ3vmQP"
      }
    },
    {
      "cell_type": "markdown",
      "source": [
        "(i) Write a python program to create a file."
      ],
      "metadata": {
        "id": "1h8QC3vuwH1m"
      }
    },
    {
      "cell_type": "code",
      "execution_count": 2,
      "metadata": {
        "colab": {
          "base_uri": "https://localhost:8080/"
        },
        "id": "nuBEXiTKt7F0",
        "outputId": "c7402e61-27a2-49d9-f537-08fc50b271da"
      },
      "outputs": [
        {
          "output_type": "stream",
          "name": "stdout",
          "text": [
            "Mounted at /content/gdrive\n"
          ]
        }
      ],
      "source": [
        "from google.colab import drive\n",
        "drive.mount('/content/gdrive')"
      ]
    },
    {
      "cell_type": "markdown",
      "source": [
        "(ii) Write a python program to Read the Contents of a File."
      ],
      "metadata": {
        "id": "PzHS9GLFwOOD"
      }
    },
    {
      "cell_type": "code",
      "source": [
        "f=open(\"/content/gdrive/MyDrive/swati.txt\",\"r\")\n",
        "print(f.read())"
      ],
      "metadata": {
        "colab": {
          "base_uri": "https://localhost:8080/"
        },
        "id": "djQljMl-uvBw",
        "outputId": "aa6f6d48-d5ef-4e63-aa8f-b171c2a1f5cd"
      },
      "execution_count": null,
      "outputs": [
        {
          "output_type": "stream",
          "name": "stdout",
          "text": [
            "today is tuesday\n",
            "work smart for successtoday is tuesday\n",
            "work smart for success\n",
            "srushti\n",
            "srushti\n",
            "srushti2210\n",
            "topper100\n"
          ]
        }
      ]
    },
    {
      "cell_type": "markdown",
      "source": [
        "(iii)Write a program to perform Write operation on a file."
      ],
      "metadata": {
        "id": "b_4i0SOjwXzA"
      }
    },
    {
      "cell_type": "code",
      "source": [
        "f=open(\"/content/gdrive/MyDrive/swati.txt\",\"w\")\n",
        "f.write(\"today is tuesday\")\n",
        "f.write(\"\\n\")\n",
        "f.write(\"work smart for success\")\n",
        "f=open(\"/content/gdrive/MyDrive/swati.txt\",\"r\")\n",
        "print(f.read())\n"
      ],
      "metadata": {
        "colab": {
          "base_uri": "https://localhost:8080/"
        },
        "id": "Gu5HMqpryzdT",
        "outputId": "82f50aff-dc32-4a3e-c2c4-8fed5f30e391"
      },
      "execution_count": null,
      "outputs": [
        {
          "output_type": "stream",
          "name": "stdout",
          "text": [
            "today is tuesday\n",
            "work smart for success\n"
          ]
        }
      ]
    },
    {
      "cell_type": "markdown",
      "source": [
        "(iv) Write a python program to Read a String from the user and append it into a File."
      ],
      "metadata": {
        "id": "NrMxOs4jwcOC"
      }
    },
    {
      "cell_type": "code",
      "source": [
        "f=open(\"/content/gdrive/MyDrive/swati.txt\",\"a\")\n",
        "f.write(\"today is tuesday\")\n",
        "f.write(\"\\n\")\n",
        "f.write(\"work smart for success\")\n",
        "f=open(\"/content/gdrive/MyDrive/swati.txt\",\"r\")\n",
        "print(f.read())\n"
      ],
      "metadata": {
        "colab": {
          "base_uri": "https://localhost:8080/"
        },
        "id": "Dc_Kdgt32De3",
        "outputId": "2c8f6336-7ddb-46a6-b18a-28eae1ac5d87"
      },
      "execution_count": null,
      "outputs": [
        {
          "output_type": "stream",
          "name": "stdout",
          "text": [
            "today is tuesday\n",
            "work smart for successtoday is tuesday\n",
            "work smart for success\n"
          ]
        }
      ]
    },
    {
      "cell_type": "code",
      "source": [
        "f=open(\"/content/gdrive/MyDrive/swati.txt\",\"a\")\n",
        "txt=input(\"enter text to append\\n\")\n",
        "f.write(\"\\n\")\n",
        "f.write(txt)\n",
        "f.close()\n",
        "print(\"display the contents after appending\")\n",
        "f=open(\"/content/gdrive/MyDrive/swati.txt\",\"r\")\n",
        "print(f.read())"
      ],
      "metadata": {
        "colab": {
          "base_uri": "https://localhost:8080/"
        },
        "id": "BFbQ1vFP4DAX",
        "outputId": "6699d8a0-3952-4d75-b5c3-ce46157342ba"
      },
      "execution_count": null,
      "outputs": [
        {
          "output_type": "stream",
          "name": "stdout",
          "text": [
            "enter text to append\n",
            "topper100\n",
            "display the contents after appending\n",
            "today is tuesday\n",
            "work smart for successtoday is tuesday\n",
            "work smart for success\n",
            "srushti\n",
            "srushti\n",
            "srushti2210\n",
            "topper100\n"
          ]
        }
      ]
    },
    {
      "cell_type": "code",
      "source": [
        "f=open(\"/content/gdrive/MyDrive/swati.txt\",\"r\")\n",
        "print(f.readline(6))"
      ],
      "metadata": {
        "colab": {
          "base_uri": "https://localhost:8080/"
        },
        "id": "_CkTLd2W4w3h",
        "outputId": "f810c1fa-887f-4944-d994-ee343b10945b"
      },
      "execution_count": null,
      "outputs": [
        {
          "output_type": "stream",
          "name": "stdout",
          "text": [
            "today \n"
          ]
        }
      ]
    },
    {
      "cell_type": "markdown",
      "source": [
        "(v)Write a python program to count the number of Words,lines, and chars in a text file."
      ],
      "metadata": {
        "id": "hVtzDvep9Z9_"
      }
    },
    {
      "cell_type": "code",
      "source": [
        "number_of_lines =0\n",
        "number_of_words =0\n",
        "number_of_characters =0\n",
        "f=open(\"/content/gdrive/MyDrive/swati.txt\",\"r\")\n",
        "for line in f:\n",
        "   # line=line.strip(\"\\n\")\n",
        "    words=line.split()\n",
        "    number_of_lines +=1\n",
        "    number_of_words +=len(words)\n",
        "    number_of_characters +=len(line)\n",
        "    \n",
        "f.close()\n",
        "print(\"lines:\", number_of_lines,\"words\",number_of_words, \"characters\", number_of_characters)"
      ],
      "metadata": {
        "colab": {
          "base_uri": "https://localhost:8080/"
        },
        "id": "s8sRk-Su9bPn",
        "outputId": "e592f091-84ba-4810-c4aa-6cb5c9d27cf6"
      },
      "execution_count": 3,
      "outputs": [
        {
          "output_type": "stream",
          "name": "stdout",
          "text": [
            "lines: 7 words 17 characters 116\n"
          ]
        }
      ]
    },
    {
      "cell_type": "markdown",
      "source": [
        "(vi)Write a Program to count the number of digits present in a text file."
      ],
      "metadata": {
        "id": "QgEVhqFcw7jI"
      }
    },
    {
      "cell_type": "code",
      "source": [
        "f=open(\"/content/gdrive/MyDrive/swati.txt\",\"r\")\n",
        "text=f.read()\n",
        "print(text)\n",
        "count=0\n",
        "for line in text:\n",
        "  for i in line:\n",
        "      if i.isdigit() == True:\n",
        "\n",
        "        count=count+1\n",
        "print(\"The Number of digits in the text file is:\",count)"
      ],
      "metadata": {
        "colab": {
          "base_uri": "https://localhost:8080/"
        },
        "id": "5mBAVyX75ZiA",
        "outputId": "e541ec81-1096-42ef-f05c-be3e63a54a26"
      },
      "execution_count": null,
      "outputs": [
        {
          "output_type": "stream",
          "name": "stdout",
          "text": [
            "today is tuesday\n",
            "work smart for successtoday is tuesday\n",
            "work smart for success\n",
            "srushti\n",
            "srushti\n",
            "srushti2210\n",
            "The Number of digits in the text file is: 4\n"
          ]
        }
      ]
    },
    {
      "cell_type": "code",
      "source": [
        "f=open(\"/content/gdrive/MyDrive/swati.txt\",\"r\")\n",
        "text = f.read()\n",
        "count_digit = 0\n",
        "for char in text:\n",
        "    if char.isdigit():\n",
        "        count_digit += 1\n",
        "print(count_digit)\n",
        "f.close()"
      ],
      "metadata": {
        "colab": {
          "base_uri": "https://localhost:8080/"
        },
        "id": "NSY5pP2Pw-t1",
        "outputId": "a9ddf62b-0267-4eb5-8943-02e8d8b29861"
      },
      "execution_count": null,
      "outputs": [
        {
          "output_type": "stream",
          "name": "stdout",
          "text": [
            "7\n"
          ]
        }
      ]
    },
    {
      "cell_type": "code",
      "source": [
        "txt=\"welcome to the jungle\"\n",
        "x= txt.split()\n",
        "print(x)"
      ],
      "metadata": {
        "colab": {
          "base_uri": "https://localhost:8080/"
        },
        "id": "LfP0yNXVKdMU",
        "outputId": "8c24372c-d58f-492e-e721-845e5974014a"
      },
      "execution_count": null,
      "outputs": [
        {
          "output_type": "stream",
          "name": "stdout",
          "text": [
            "['welcome', 'to', 'the', 'jungle']\n"
          ]
        }
      ]
    },
    {
      "cell_type": "code",
      "source": [
        "txt=\"welcome to the jungle\"\n",
        "x= txt.split( \" \")\n",
        "print(x)"
      ],
      "metadata": {
        "colab": {
          "base_uri": "https://localhost:8080/"
        },
        "id": "LuFZeClKKuc7",
        "outputId": "abae8146-89e1-4a1b-b1b5-c2927746f075"
      },
      "execution_count": null,
      "outputs": [
        {
          "output_type": "stream",
          "name": "stdout",
          "text": [
            "['welcome', 'to', 'the', 'jungle']\n"
          ]
        }
      ]
    }
  ]
}