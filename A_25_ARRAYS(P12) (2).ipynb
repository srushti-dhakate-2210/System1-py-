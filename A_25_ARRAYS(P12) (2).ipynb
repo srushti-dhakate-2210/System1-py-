{
  "nbformat": 4,
  "nbformat_minor": 0,
  "metadata": {
    "colab": {
      "name": "A-25 ARRAYS(P12).ipynb",
      "provenance": [],
      "collapsed_sections": []
    },
    "kernelspec": {
      "name": "python3",
      "display_name": "Python 3"
    },
    "language_info": {
      "name": "python"
    }
  },
  "cells": [
    {
      "cell_type": "markdown",
      "source": [
        "# Name : Srushti Dhakate\n",
        "# Roll no. : A 25\n",
        "# SYSTEMS LAB (ARRAYS PART 1)"
      ],
      "metadata": {
        "id": "Y9V54nLI8WvM"
      }
    },
    {
      "cell_type": "markdown",
      "source": [
        "(i)Arrays methods and operations."
      ],
      "metadata": {
        "id": "VPUJglDmSebi"
      }
    },
    {
      "cell_type": "code",
      "source": [
        "#Write a program to store 0's in an array\n",
        "\n",
        "import numpy as np\n",
        "\n",
        "A = np.zeros(30)\n",
        "\n",
        "print(A)"
      ],
      "metadata": {
        "colab": {
          "base_uri": "https://localhost:8080/"
        },
        "id": "HTJR1ys8b3NM",
        "outputId": "35c14578-2db8-4cf6-886c-da6732d95316"
      },
      "execution_count": 1,
      "outputs": [
        {
          "output_type": "stream",
          "name": "stdout",
          "text": [
            "[0. 0. 0. 0. 0. 0. 0. 0. 0. 0. 0. 0. 0. 0. 0. 0. 0. 0. 0. 0. 0. 0. 0. 0.\n",
            " 0. 0. 0. 0. 0. 0.]\n"
          ]
        }
      ]
    },
    {
      "cell_type": "code",
      "source": [
        "#Write a program to store 1's in an array\n",
        "\n",
        "import numpy as np\n",
        "\n",
        "A = np.ones(30)\n",
        "\n",
        "print(A)"
      ],
      "metadata": {
        "colab": {
          "base_uri": "https://localhost:8080/"
        },
        "id": "lEUm1NPMSSwi",
        "outputId": "1d7c1ae5-160f-4001-ce29-482d884ef8d7"
      },
      "execution_count": 2,
      "outputs": [
        {
          "output_type": "stream",
          "name": "stdout",
          "text": [
            "[1. 1. 1. 1. 1. 1. 1. 1. 1. 1. 1. 1. 1. 1. 1. 1. 1. 1. 1. 1. 1. 1. 1. 1.\n",
            " 1. 1. 1. 1. 1. 1.]\n"
          ]
        }
      ]
    },
    {
      "cell_type": "code",
      "source": [
        "#Write a program to store 1's in an array\n",
        "\n",
        "import numpy as np\n",
        "\n",
        "A = np.zeros(30).reshape(5,6)\n",
        "print(A)\n",
        "\n",
        "A = np.ones(30).reshape(6,5)\n",
        "print(A)"
      ],
      "metadata": {
        "colab": {
          "base_uri": "https://localhost:8080/"
        },
        "id": "-EnfY0WMSSsl",
        "outputId": "a23819df-6a76-4b32-8ca2-ab4ccad252e6"
      },
      "execution_count": 3,
      "outputs": [
        {
          "output_type": "stream",
          "name": "stdout",
          "text": [
            "[[0. 0. 0. 0. 0. 0.]\n",
            " [0. 0. 0. 0. 0. 0.]\n",
            " [0. 0. 0. 0. 0. 0.]\n",
            " [0. 0. 0. 0. 0. 0.]\n",
            " [0. 0. 0. 0. 0. 0.]]\n",
            "[[1. 1. 1. 1. 1.]\n",
            " [1. 1. 1. 1. 1.]\n",
            " [1. 1. 1. 1. 1.]\n",
            " [1. 1. 1. 1. 1.]\n",
            " [1. 1. 1. 1. 1.]\n",
            " [1. 1. 1. 1. 1.]]\n"
          ]
        }
      ]
    },
    {
      "cell_type": "code",
      "source": [
        "import numpy as np\n",
        "a = np.array([[2,7,12,0],[3,9,3,4],[4,0,1,3]])\n",
        "print(a)\n",
        "print(\"Array shape\")\n",
        "print(a.shape)\n",
        "print(\"Array dimension \")\n",
        "print(a.ndim)\n",
        "print(\"length of an array\")\n",
        "print(len(a))"
      ],
      "metadata": {
        "colab": {
          "base_uri": "https://localhost:8080/"
        },
        "id": "TfG6BuRwSSpE",
        "outputId": "8697dc17-216b-4f6a-86bb-151a51e277df"
      },
      "execution_count": 4,
      "outputs": [
        {
          "output_type": "stream",
          "name": "stdout",
          "text": [
            "[[ 2  7 12  0]\n",
            " [ 3  9  3  4]\n",
            " [ 4  0  1  3]]\n",
            "Array shape\n",
            "(3, 4)\n",
            "Array dimension \n",
            "2\n",
            "length of an array\n",
            "3\n"
          ]
        }
      ]
    },
    {
      "cell_type": "code",
      "source": [
        "#creating array using functions\n",
        "#create a 1D array from 2 thorugh 5 inclusive\n",
        "import numpy as np\n",
        "print(np.arange(2,6))"
      ],
      "metadata": {
        "colab": {
          "base_uri": "https://localhost:8080/"
        },
        "id": "NYCvah2BSShY",
        "outputId": "1ceb8e94-37d8-4c77-b045-b7238dfe7b3e"
      },
      "execution_count": 5,
      "outputs": [
        {
          "output_type": "stream",
          "name": "stdout",
          "text": [
            "[2 3 4 5]\n"
          ]
        }
      ]
    },
    {
      "cell_type": "code",
      "source": [
        "import numpy as np\n",
        "A= np.linspace(2,5,20)\n",
        "print(A)"
      ],
      "metadata": {
        "colab": {
          "base_uri": "https://localhost:8080/"
        },
        "id": "8p8Alw9rSSds",
        "outputId": "d7df16dc-2730-4a5a-934f-4855e2f99d12"
      },
      "execution_count": 6,
      "outputs": [
        {
          "output_type": "stream",
          "name": "stdout",
          "text": [
            "[2.         2.15789474 2.31578947 2.47368421 2.63157895 2.78947368\n",
            " 2.94736842 3.10526316 3.26315789 3.42105263 3.57894737 3.73684211\n",
            " 3.89473684 4.05263158 4.21052632 4.36842105 4.52631579 4.68421053\n",
            " 4.84210526 5.        ]\n"
          ]
        }
      ]
    },
    {
      "cell_type": "code",
      "source": [
        "#shape 4,4 array of 1\n",
        "\n",
        "import numpy as np\n",
        "print(np.ones((4,4)))"
      ],
      "metadata": {
        "colab": {
          "base_uri": "https://localhost:8080/"
        },
        "id": "hfN5pkkqSSZf",
        "outputId": "3ad8377b-1d35-4747-89b4-0204cf4a8b79"
      },
      "execution_count": 7,
      "outputs": [
        {
          "output_type": "stream",
          "name": "stdout",
          "text": [
            "[[1. 1. 1. 1.]\n",
            " [1. 1. 1. 1.]\n",
            " [1. 1. 1. 1.]\n",
            " [1. 1. 1. 1.]]\n"
          ]
        }
      ]
    },
    {
      "cell_type": "code",
      "source": [
        "#identity array shape 6,6\n",
        "\n",
        "import numpy as np\n",
        "print(np.eye(6))"
      ],
      "metadata": {
        "colab": {
          "base_uri": "https://localhost:8080/"
        },
        "id": "CkI3Ro86SSVj",
        "outputId": "d2613dc9-5424-4f83-fdda-699cf3d2d434"
      },
      "execution_count": 8,
      "outputs": [
        {
          "output_type": "stream",
          "name": "stdout",
          "text": [
            "[[1. 0. 0. 0. 0. 0.]\n",
            " [0. 1. 0. 0. 0. 0.]\n",
            " [0. 0. 1. 0. 0. 0.]\n",
            " [0. 0. 0. 1. 0. 0.]\n",
            " [0. 0. 0. 0. 1. 0.]\n",
            " [0. 0. 0. 0. 0. 1.]]\n"
          ]
        }
      ]
    },
    {
      "cell_type": "code",
      "source": [
        "\n",
        "#make the above array with a single command\n",
        "print(np.diag([1,2,3]))"
      ],
      "metadata": {
        "colab": {
          "base_uri": "https://localhost:8080/"
        },
        "id": "jllwqVMSSSRi",
        "outputId": "11b05c9f-a006-494b-91c0-efe2e364927f"
      },
      "execution_count": 9,
      "outputs": [
        {
          "output_type": "stream",
          "name": "stdout",
          "text": [
            "[[1 0 0]\n",
            " [0 2 0]\n",
            " [0 0 3]]\n"
          ]
        }
      ]
    },
    {
      "cell_type": "code",
      "source": [
        "#array of random numbers shape 3,5\n",
        "\n",
        "rand_arr = np.random.rand(3,5)\n",
        "print(rand_arr)"
      ],
      "metadata": {
        "colab": {
          "base_uri": "https://localhost:8080/"
        },
        "id": "7yBQ5qGDTo_v",
        "outputId": "69bc2a21-9304-4106-a1f9-7f21d77e412f"
      },
      "execution_count": 10,
      "outputs": [
        {
          "output_type": "stream",
          "name": "stdout",
          "text": [
            "[[0.39521838 0.2437325  0.26606443 0.73688552 0.72475221]\n",
            " [0.75556382 0.28531442 0.65886691 0.25677695 0.80016839]\n",
            " [0.77290286 0.34039127 0.12010264 0.47939796 0.36049685]]\n"
          ]
        }
      ]
    },
    {
      "cell_type": "markdown",
      "source": [
        "Practise que 2: WAP to create a5X2 integer ,range from 100 to 200 such that the difference between each element is 10.."
      ],
      "metadata": {
        "id": "NgOfCMyXfTke"
      }
    },
    {
      "cell_type": "code",
      "source": [
        "import numpy\n",
        "print(\"creating an array\")\n",
        "A=numpy.arange(100,200,10)\n",
        "print(A.reshape(2,5))"
      ],
      "metadata": {
        "colab": {
          "base_uri": "https://localhost:8080/"
        },
        "id": "JfoW1cSefTPn",
        "outputId": "df9bc624-5bf7-454c-c0ab-459e88c671b8"
      },
      "execution_count": null,
      "outputs": [
        {
          "output_type": "stream",
          "name": "stdout",
          "text": [
            "creating an array\n",
            "[[100 110 120 130 140]\n",
            " [150 160 170 180 190]]\n"
          ]
        }
      ]
    },
    {
      "cell_type": "code",
      "source": [
        "import numpy\n",
        "print(\"creating an array\")\n",
        "A=numpy.arange(100,200,10).reshape(5,2)\n",
        "print(A)"
      ],
      "metadata": {
        "id": "OGKZBe_rfa_D",
        "outputId": "0379847b-d0c6-470c-9862-158005919243",
        "colab": {
          "base_uri": "https://localhost:8080/"
        }
      },
      "execution_count": null,
      "outputs": [
        {
          "output_type": "stream",
          "name": "stdout",
          "text": [
            "creating an array\n",
            "[[100 110]\n",
            " [120 130]\n",
            " [140 150]\n",
            " [160 170]\n",
            " [180 190]]\n"
          ]
        }
      ]
    },
    {
      "cell_type": "markdown",
      "source": [
        "(iii)Write a program to create a 3x3 numpy array with all elements as per user choice\n",
        "and print the sum of all the elements in the array."
      ],
      "metadata": {
        "id": "u3i0c0UqUlm2"
      }
    },
    {
      "cell_type": "code",
      "source": [
        "import numpy as np\n",
        "a= np.zeros(9,dtype=int).reshape(3,3)\n",
        "sum=0\n",
        "for i in range (3):\n",
        "  for j in range(3):\n",
        "    num =int(input('enter element of array:'))\n",
        "    a[i][j]=num\n",
        "    sum=sum+a[i][j]\n",
        "print(a)\n",
        "print('sum of all elements of array is :',sum)"
      ],
      "metadata": {
        "colab": {
          "base_uri": "https://localhost:8080/"
        },
        "id": "8ETjBv3iVCgg",
        "outputId": "ef9cf808-499f-4343-c200-ec2e888372f8"
      },
      "execution_count": 11,
      "outputs": [
        {
          "output_type": "stream",
          "name": "stdout",
          "text": [
            "enter element of array:1\n",
            "enter element of array:2\n",
            "enter element of array:3\n",
            "enter element of array:4\n",
            "enter element of array:5\n",
            "enter element of array:6\n",
            "enter element of array:7\n",
            "enter element of array:8\n",
            "enter element of array:9\n",
            "[[1 2 3]\n",
            " [4 5 6]\n",
            " [7 8 9]]\n",
            "sum of all elements of array is : 45\n"
          ]
        }
      ]
    },
    {
      "cell_type": "markdown",
      "source": [
        "(iv)Write a program in a given numpy array to return array of odd rows and even columns."
      ],
      "metadata": {
        "id": "DmlamNnJVeaQ"
      }
    },
    {
      "cell_type": "code",
      "source": [
        "a = np.array([[2,7,12,0], [3,9,3,4], [4,0,1,3]])\n",
        "print(a)\n",
        "\n",
        "even_columns = a[:, 0::2]\n",
        "print(\"Even Columns\")\n",
        "print(even_columns)\n",
        "\n",
        "odd_rows = a[1::2, : ]\n",
        "print(\"Odd Rows\")\n",
        "print(odd_rows)\n",
        "\n",
        "print(\"Odd rows + Even Colums (Together)\")\n",
        "B=a[1::2, ::2]\n",
        "print(B)"
      ],
      "metadata": {
        "colab": {
          "base_uri": "https://localhost:8080/"
        },
        "id": "lnqGof3sViUG",
        "outputId": "2cc42e60-e0e6-4d0c-e219-aa120466bb6e"
      },
      "execution_count": 12,
      "outputs": [
        {
          "output_type": "stream",
          "name": "stdout",
          "text": [
            "[[ 2  7 12  0]\n",
            " [ 3  9  3  4]\n",
            " [ 4  0  1  3]]\n",
            "Even Columns\n",
            "[[ 2 12]\n",
            " [ 3  3]\n",
            " [ 4  1]]\n",
            "Odd Rows\n",
            "[[3 9 3 4]]\n",
            "Odd rows + Even Colums (Together)\n",
            "[[3 3]]\n"
          ]
        }
      ]
    },
    {
      "cell_type": "markdown",
      "source": [
        "(v)Write a program in a given numpy array to count the number of odd and even\n",
        "elements in 1D array."
      ],
      "metadata": {
        "id": "sLSsP0VEV5UO"
      }
    },
    {
      "cell_type": "code",
      "source": [
        "import numpy as np\n",
        "a=np.arange(1,25) #array pf evenly spaced values. Length of array being generated = Ceil((Stop - Start)/ Stop)\n",
        "\n",
        "counteven = 0\n",
        "countodd = 0\n",
        "print(a)\n",
        "\n",
        "for i in range(len(a)):\n",
        "  if(a[i]%2==0):\n",
        "    counteven=counteven+1\n",
        "  else:\n",
        "    countodd=countodd+1\n",
        "\n",
        "print(\"No. of even elemnts are:\", counteven)\n",
        "print(\"No. of odd elements are:\", countodd)"
      ],
      "metadata": {
        "colab": {
          "base_uri": "https://localhost:8080/"
        },
        "id": "ZXm04Hu5V6Uu",
        "outputId": "42def604-c5a4-454c-9272-5e5c698f3895"
      },
      "execution_count": 13,
      "outputs": [
        {
          "output_type": "stream",
          "name": "stdout",
          "text": [
            "[ 1  2  3  4  5  6  7  8  9 10 11 12 13 14 15 16 17 18 19 20 21 22 23 24]\n",
            "No. of even elemnts are: 12\n",
            "No. of odd elements are: 12\n"
          ]
        }
      ]
    },
    {
      "cell_type": "markdown",
      "source": [
        "(vi) Write a program in a given numpy array to create a 9x9 array in which the elements in\n",
        "odd rows should be ones and others as zero."
      ],
      "metadata": {
        "id": "gKHwtxPTWFMg"
      }
    },
    {
      "cell_type": "code",
      "source": [
        "import numpy as np\n",
        "A=np.full((9,9), 1,dtype=int)\n",
        "for i in range(len(A)):\n",
        "  if i%2==0:\n",
        "    A[i]=0\n",
        "print(A)"
      ],
      "metadata": {
        "colab": {
          "base_uri": "https://localhost:8080/"
        },
        "id": "TEc37DjVBci6",
        "outputId": "727aecf6-9b87-41ca-c283-19b3e63f95d4"
      },
      "execution_count": 14,
      "outputs": [
        {
          "output_type": "stream",
          "name": "stdout",
          "text": [
            "[[0 0 0 0 0 0 0 0 0]\n",
            " [1 1 1 1 1 1 1 1 1]\n",
            " [0 0 0 0 0 0 0 0 0]\n",
            " [1 1 1 1 1 1 1 1 1]\n",
            " [0 0 0 0 0 0 0 0 0]\n",
            " [1 1 1 1 1 1 1 1 1]\n",
            " [0 0 0 0 0 0 0 0 0]\n",
            " [1 1 1 1 1 1 1 1 1]\n",
            " [0 0 0 0 0 0 0 0 0]]\n"
          ]
        }
      ]
    },
    {
      "cell_type": "markdown",
      "source": [
        "(vii)Print the visualization of Sin and Cos function. y=np.cos(x)"
      ],
      "metadata": {
        "id": "oBVp7CUKWRnM"
      }
    },
    {
      "cell_type": "code",
      "source": [
        "x=np.linspace(0,2*np.pi,100)\n",
        "print(x)\n",
        "y=np.cos(x)\n",
        "import matplotlib.pyplot as plt\n",
        "plt.plot(x,y)"
      ],
      "metadata": {
        "colab": {
          "base_uri": "https://localhost:8080/",
          "height": 578
        },
        "id": "FSoiuZzkWSmY",
        "outputId": "4a2143f8-b9f5-4f5d-82bb-8fe5c53fe5a9"
      },
      "execution_count": 15,
      "outputs": [
        {
          "output_type": "stream",
          "name": "stdout",
          "text": [
            "[0.         0.06346652 0.12693304 0.19039955 0.25386607 0.31733259\n",
            " 0.38079911 0.44426563 0.50773215 0.57119866 0.63466518 0.6981317\n",
            " 0.76159822 0.82506474 0.88853126 0.95199777 1.01546429 1.07893081\n",
            " 1.14239733 1.20586385 1.26933037 1.33279688 1.3962634  1.45972992\n",
            " 1.52319644 1.58666296 1.65012947 1.71359599 1.77706251 1.84052903\n",
            " 1.90399555 1.96746207 2.03092858 2.0943951  2.15786162 2.22132814\n",
            " 2.28479466 2.34826118 2.41172769 2.47519421 2.53866073 2.60212725\n",
            " 2.66559377 2.72906028 2.7925268  2.85599332 2.91945984 2.98292636\n",
            " 3.04639288 3.10985939 3.17332591 3.23679243 3.30025895 3.36372547\n",
            " 3.42719199 3.4906585  3.55412502 3.61759154 3.68105806 3.74452458\n",
            " 3.8079911  3.87145761 3.93492413 3.99839065 4.06185717 4.12532369\n",
            " 4.1887902  4.25225672 4.31572324 4.37918976 4.44265628 4.5061228\n",
            " 4.56958931 4.63305583 4.69652235 4.75998887 4.82345539 4.88692191\n",
            " 4.95038842 5.01385494 5.07732146 5.14078798 5.2042545  5.26772102\n",
            " 5.33118753 5.39465405 5.45812057 5.52158709 5.58505361 5.64852012\n",
            " 5.71198664 5.77545316 5.83891968 5.9023862  5.96585272 6.02931923\n",
            " 6.09278575 6.15625227 6.21971879 6.28318531]\n"
          ]
        },
        {
          "output_type": "execute_result",
          "data": {
            "text/plain": [
              "[<matplotlib.lines.Line2D at 0x7fcce8e38c90>]"
            ]
          },
          "metadata": {},
          "execution_count": 15
        },
        {
          "output_type": "display_data",
          "data": {
            "image/png": "[encoded data removed]",
            "text/plain": [
              "<Figure size 432x288 with 1 Axes>"
            ]
          },
          "metadata": {
            "needs_background": "light"
          }
        }
      ]
    },
    {
      "cell_type": "code",
      "source": [
        "x=np.linspace(0,2*np.pi,100)\n",
        "print(x)\n",
        "y=np.sin(x)\n",
        "import matplotlib.pyplot as plt\n",
        "plt.plot(x,y)"
      ],
      "metadata": {
        "colab": {
          "base_uri": "https://localhost:8080/",
          "height": 578
        },
        "id": "4RU1E2cOWzEH",
        "outputId": "4103a526-8470-4418-a02b-4948f85cc204"
      },
      "execution_count": 16,
      "outputs": [
        {
          "output_type": "stream",
          "name": "stdout",
          "text": [
            "[0.         0.06346652 0.12693304 0.19039955 0.25386607 0.31733259\n",
            " 0.38079911 0.44426563 0.50773215 0.57119866 0.63466518 0.6981317\n",
            " 0.76159822 0.82506474 0.88853126 0.95199777 1.01546429 1.07893081\n",
            " 1.14239733 1.20586385 1.26933037 1.33279688 1.3962634  1.45972992\n",
            " 1.52319644 1.58666296 1.65012947 1.71359599 1.77706251 1.84052903\n",
            " 1.90399555 1.96746207 2.03092858 2.0943951  2.15786162 2.22132814\n",
            " 2.28479466 2.34826118 2.41172769 2.47519421 2.53866073 2.60212725\n",
            " 2.66559377 2.72906028 2.7925268  2.85599332 2.91945984 2.98292636\n",
            " 3.04639288 3.10985939 3.17332591 3.23679243 3.30025895 3.36372547\n",
            " 3.42719199 3.4906585  3.55412502 3.61759154 3.68105806 3.74452458\n",
            " 3.8079911  3.87145761 3.93492413 3.99839065 4.06185717 4.12532369\n",
            " 4.1887902  4.25225672 4.31572324 4.37918976 4.44265628 4.5061228\n",
            " 4.56958931 4.63305583 4.69652235 4.75998887 4.82345539 4.88692191\n",
            " 4.95038842 5.01385494 5.07732146 5.14078798 5.2042545  5.26772102\n",
            " 5.33118753 5.39465405 5.45812057 5.52158709 5.58505361 5.64852012\n",
            " 5.71198664 5.77545316 5.83891968 5.9023862  5.96585272 6.02931923\n",
            " 6.09278575 6.15625227 6.21971879 6.28318531]\n"
          ]
        },
        {
          "output_type": "execute_result",
          "data": {
            "text/plain": [
              "[<matplotlib.lines.Line2D at 0x7fcce89371d0>]"
            ]
          },
          "metadata": {},
          "execution_count": 16
        },
        {
          "output_type": "display_data",
          "data": {
            "image/png": "[encoded data removed]",
            "text/plain": [
              "<Figure size 432x288 with 1 Axes>"
            ]
          },
          "metadata": {
            "needs_background": "light"
          }
        }
      ]
    },
    {
      "cell_type": "code",
      "source": [
        "# x is an array with 100 evenly spaced numbers 0-2 pi\n",
        "x = np.linspace(0, 2*np.pi, 100)\n",
        "print(x)\n",
        "\n",
        "y = np.sin(x)\n",
        "import matplotlib.pyplot as plt\n",
        "plt.plot(x,y)\n",
        "\n",
        "y = np.cos(x)\n",
        "import matplotlib.pyplot as plt\n",
        "plt.plot(x,y)\n"
      ],
      "metadata": {
        "colab": {
          "base_uri": "https://localhost:8080/",
          "height": 578
        },
        "id": "GgSKIVNqW1FH",
        "outputId": "5a0b6b71-28b0-4ad1-f690-53edb1b84551"
      },
      "execution_count": 17,
      "outputs": [
        {
          "output_type": "stream",
          "name": "stdout",
          "text": [
            "[0.         0.06346652 0.12693304 0.19039955 0.25386607 0.31733259\n",
            " 0.38079911 0.44426563 0.50773215 0.57119866 0.63466518 0.6981317\n",
            " 0.76159822 0.82506474 0.88853126 0.95199777 1.01546429 1.07893081\n",
            " 1.14239733 1.20586385 1.26933037 1.33279688 1.3962634  1.45972992\n",
            " 1.52319644 1.58666296 1.65012947 1.71359599 1.77706251 1.84052903\n",
            " 1.90399555 1.96746207 2.03092858 2.0943951  2.15786162 2.22132814\n",
            " 2.28479466 2.34826118 2.41172769 2.47519421 2.53866073 2.60212725\n",
            " 2.66559377 2.72906028 2.7925268  2.85599332 2.91945984 2.98292636\n",
            " 3.04639288 3.10985939 3.17332591 3.23679243 3.30025895 3.36372547\n",
            " 3.42719199 3.4906585  3.55412502 3.61759154 3.68105806 3.74452458\n",
            " 3.8079911  3.87145761 3.93492413 3.99839065 4.06185717 4.12532369\n",
            " 4.1887902  4.25225672 4.31572324 4.37918976 4.44265628 4.5061228\n",
            " 4.56958931 4.63305583 4.69652235 4.75998887 4.82345539 4.88692191\n",
            " 4.95038842 5.01385494 5.07732146 5.14078798 5.2042545  5.26772102\n",
            " 5.33118753 5.39465405 5.45812057 5.52158709 5.58505361 5.64852012\n",
            " 5.71198664 5.77545316 5.83891968 5.9023862  5.96585272 6.02931923\n",
            " 6.09278575 6.15625227 6.21971879 6.28318531]\n"
          ]
        },
        {
          "output_type": "execute_result",
          "data": {
            "text/plain": [
              "[<matplotlib.lines.Line2D at 0x7fcce88b32d0>]"
            ]
          },
          "metadata": {},
          "execution_count": 17
        },
        {
          "output_type": "display_data",
          "data": {
            "image/png": "[encoded data removed]",
            "text/plain": [
              "<Figure size 432x288 with 1 Axes>"
            ]
          },
          "metadata": {
            "needs_background": "light"
          }
        }
      ]
    },
    {
      "cell_type": "markdown",
      "source": [
        "(viii)Take a 3 X3 python array and Print the Diagonal elements of the array. Print the sum of\n",
        "all diagonal elements."
      ],
      "metadata": {
        "id": "j-JxJrwWW_WA"
      }
    },
    {
      "cell_type": "code",
      "source": [
        "import numpy as np\n",
        "\n",
        "a = np.arange(1,10).reshape(3,3)\n",
        "sum = 0\n",
        "\n",
        "print(\"The diagonal elements are:\")\n",
        "\n",
        "for i in range(0,3):\n",
        "  for j in range(0,3):\n",
        "    if(i==j):\n",
        "      print(a[i][j], end=\" \")\n",
        "      sum = sum + a[i][j]\n",
        "\n",
        "print(\"\\n\")\n",
        "print(\"The sum of the diagonals is:\", sum)"
      ],
      "metadata": {
        "colab": {
          "base_uri": "https://localhost:8080/"
        },
        "id": "BImoo7iJW-MZ",
        "outputId": "17a37931-c3bc-4ddf-d633-95e8b461269b"
      },
      "execution_count": 18,
      "outputs": [
        {
          "output_type": "stream",
          "name": "stdout",
          "text": [
            "The diagonal elements are:\n",
            "1 5 9 \n",
            "\n",
            "The sum of the diagonals is: 15\n"
          ]
        }
      ]
    },
    {
      "cell_type": "code",
      "source": [
        "import numpy as np\n",
        "a=np.array([[1,2,3],[4,5,6],[7,8,9]])\n",
        "diag = a.diagonal()\n",
        "   \n",
        "print(diag)"
      ],
      "metadata": {
        "colab": {
          "base_uri": "https://localhost:8080/"
        },
        "outputId": "6f3fc769-2c16-4529-e12b-47e7ba381fe8",
        "id": "yaUx_LW0XowJ"
      },
      "execution_count": 19,
      "outputs": [
        {
          "output_type": "stream",
          "name": "stdout",
          "text": [
            "[1 5 9]\n"
          ]
        }
      ]
    },
    {
      "cell_type": "markdown",
      "source": [
        "#EXTRA QUESTIONS DONE IN CLASS"
      ],
      "metadata": {
        "id": "x5vqMjudX_nB"
      }
    },
    {
      "cell_type": "code",
      "source": [
        "import numpy as np\n",
        "A = np.zeros(30)\n",
        "print(A)\n",
        "A = np.ones(30)\n",
        "print(A)\n",
        "A = np.zeros(30).reshape(5,6)\n",
        "print(A)\n",
        "A = np.ones(30).reshape(6,5)\n",
        "print(A)"
      ],
      "metadata": {
        "id": "JXypdoFcvHD-",
        "outputId": "5310e898-121f-47ad-ce50-7a149fd78a31",
        "colab": {
          "base_uri": "https://localhost:8080/"
        }
      },
      "execution_count": null,
      "outputs": [
        {
          "output_type": "stream",
          "name": "stdout",
          "text": [
            "[0. 0. 0. 0. 0. 0. 0. 0. 0. 0. 0. 0. 0. 0. 0. 0. 0. 0. 0. 0. 0. 0. 0. 0.\n",
            " 0. 0. 0. 0. 0. 0.]\n",
            "[1. 1. 1. 1. 1. 1. 1. 1. 1. 1. 1. 1. 1. 1. 1. 1. 1. 1. 1. 1. 1. 1. 1. 1.\n",
            " 1. 1. 1. 1. 1. 1.]\n",
            "[[0. 0. 0. 0. 0. 0.]\n",
            " [0. 0. 0. 0. 0. 0.]\n",
            " [0. 0. 0. 0. 0. 0.]\n",
            " [0. 0. 0. 0. 0. 0.]\n",
            " [0. 0. 0. 0. 0. 0.]]\n",
            "[[1. 1. 1. 1. 1.]\n",
            " [1. 1. 1. 1. 1.]\n",
            " [1. 1. 1. 1. 1.]\n",
            " [1. 1. 1. 1. 1.]\n",
            " [1. 1. 1. 1. 1.]\n",
            " [1. 1. 1. 1. 1.]]\n"
          ]
        }
      ]
    },
    {
      "cell_type": "code",
      "source": [
        "import numpy\n",
        "print(\"creating an array\")\n",
        "A=numpy.arange(100,200,10).reshape(5,2)\n",
        "print(A)\n",
        "print ( \" Specific Values\")\n",
        "print(A[0:1, :1])\n",
        "print(\"Creating 2x5 array using numpy.arrange\")\n",
        "A = numpy.arange(100,200,10).reshape(2,5)\n",
        "print(A)"
      ],
      "metadata": {
        "colab": {
          "base_uri": "https://localhost:8080/"
        },
        "id": "XRJ99eo8s4ee",
        "outputId": "1b5d2053-ac40-4611-ac4c-db6bc4ab4c04"
      },
      "execution_count": null,
      "outputs": [
        {
          "output_type": "stream",
          "name": "stdout",
          "text": [
            "creating an array\n",
            "[[100 110]\n",
            " [120 130]\n",
            " [140 150]\n",
            " [160 170]\n",
            " [180 190]]\n",
            " Specific Values\n",
            "[[100]]\n",
            "Creating 2x5 array using numpy.arrange\n",
            "[[100 110 120 130 140]\n",
            " [150 160 170 180 190]]\n"
          ]
        }
      ]
    },
    {
      "cell_type": "code",
      "source": [
        "rand_arr = np.random.rand(3,5)\n",
        "print(rand_arr)"
      ],
      "metadata": {
        "colab": {
          "base_uri": "https://localhost:8080/"
        },
        "id": "36Fnoiaaz0PR",
        "outputId": "2da73af8-8043-4b09-91b7-04fb4e9a154a"
      },
      "execution_count": null,
      "outputs": [
        {
          "output_type": "stream",
          "name": "stdout",
          "text": [
            "[[0.3859705  0.36604163 0.21727998 0.65838087 0.80574363]\n",
            " [0.74095438 0.04008587 0.30832339 0.83558653 0.40848765]\n",
            " [0.57619584 0.65159513 0.06721043 0.98490935 0.05788854]]\n"
          ]
        }
      ]
    },
    {
      "cell_type": "code",
      "source": [
        "a= np.array([[2,7,12,0],[3,9,3,4],[4,0,1,3]])\n",
        "print(a)\n",
        "even_columns = a[:, ::2]\n",
        "print(\"even columns\")\n",
        "print(even_columns)\n",
        "odd_columns = a[:,1::2]\n",
        "print(\"odd columns\")\n",
        "print(odd_columns)\n",
        "\n",
        "print(even_columns+odd_columns)"
      ],
      "metadata": {
        "colab": {
          "base_uri": "https://localhost:8080/"
        },
        "id": "W8upgFkS2joa",
        "outputId": "3318d888-0825-4339-e339-f038943729e3"
      },
      "execution_count": null,
      "outputs": [
        {
          "output_type": "stream",
          "name": "stdout",
          "text": [
            "[[ 2  7 12  0]\n",
            " [ 3  9  3  4]\n",
            " [ 4  0  1  3]]\n",
            "even columns\n",
            "[[ 2 12]\n",
            " [ 3  3]\n",
            " [ 4  1]]\n",
            "odd columns\n",
            "[[7 0]\n",
            " [9 4]\n",
            " [0 3]]\n",
            "[[ 9 12]\n",
            " [12  7]\n",
            " [ 4  4]]\n"
          ]
        }
      ]
    },
    {
      "cell_type": "code",
      "source": [
        "a= np.array([[2,7,12,0],[3,9,3,4],[4,0,1,3]])\n",
        "print(a[:,:])\n",
        "even_columns = a[:, ::2]\n",
        "print(\"even columns\")\n",
        "print(even_columns)\n",
        "odd_columns = a[:,1::2]\n",
        "print(\"odd columns\")\n",
        "print(odd_columns)\n",
        "\n",
        "print(even_columns+odd_columns)"
      ],
      "metadata": {
        "colab": {
          "base_uri": "https://localhost:8080/"
        },
        "id": "ry4apc484RGq",
        "outputId": "396c9e32-8dc3-435b-f1ae-86750e31425f"
      },
      "execution_count": null,
      "outputs": [
        {
          "output_type": "stream",
          "name": "stdout",
          "text": [
            "[[ 2  7 12  0]\n",
            " [ 3  9  3  4]\n",
            " [ 4  0  1  3]]\n",
            "even columns\n",
            "[[ 2 12]\n",
            " [ 3  3]\n",
            " [ 4  1]]\n",
            "odd columns\n",
            "[[7 0]\n",
            " [9 4]\n",
            " [0 3]]\n",
            "[[ 9 12]\n",
            " [12  7]\n",
            " [ 4  4]]\n"
          ]
        }
      ]
    },
    {
      "cell_type": "code",
      "source": [
        "a=np.array([[2,7,12,0],[3,9,3,4],[4,0,1,3],[3,7,8,9]])\n",
        "print(a)\n",
        "print(\"Even column and Odd rows\")\n",
        "B=a[1::2,::2]\n",
        "print(B)\n",
        "\n"
      ],
      "metadata": {
        "colab": {
          "base_uri": "https://localhost:8080/"
        },
        "id": "-pCHOm5P8AaN",
        "outputId": "fc5676d7-dbb9-4c9e-ed4b-82476048f41d"
      },
      "execution_count": null,
      "outputs": [
        {
          "output_type": "stream",
          "name": "stdout",
          "text": [
            "[[ 2  7 12  0]\n",
            " [ 3  9  3  4]\n",
            " [ 4  0  1  3]\n",
            " [ 3  7  8  9]]\n",
            "Even column and Odd rows\n",
            "[[3 3]\n",
            " [3 8]]\n"
          ]
        }
      ]
    },
    {
      "cell_type": "code",
      "source": [
        "import numpy as np\n",
        "a=np.arange(1,20)\n",
        "print(a)"
      ],
      "metadata": {
        "colab": {
          "base_uri": "https://localhost:8080/"
        },
        "id": "FYQYsEq4Bi-V",
        "outputId": "a82b9ca7-96b5-4e79-b09c-9dd4db67ff4f"
      },
      "execution_count": null,
      "outputs": [
        {
          "output_type": "stream",
          "name": "stdout",
          "text": [
            "[ 1  2  3  4  5  6  7  8  9 10 11 12 13 14 15 16 17 18 19]\n"
          ]
        }
      ]
    },
    {
      "cell_type": "code",
      "source": [
        "import numpy as np\n",
        "a=np.arange(1,25)\n",
        "counteven=0\n",
        "countodd=0\n",
        "print(a)\n",
        "for i in range (len(a)):\n",
        "  if ( a[i]%2==0):\n",
        "    counteven=counteven+1\n",
        "  else:\n",
        "    countodd=countodd+1\n",
        "print('No. of even elements in array:',counteven)    \n",
        "print('No. of odd elements in array:',countodd)   \n",
        "\n"
      ],
      "metadata": {
        "colab": {
          "base_uri": "https://localhost:8080/"
        },
        "id": "rn1BwYkgB7HZ",
        "outputId": "d5ad0531-73af-4094-fc0d-faeb100c9bf2"
      },
      "execution_count": null,
      "outputs": [
        {
          "output_type": "stream",
          "name": "stdout",
          "text": [
            "[ 1  2  3  4  5  6  7  8  9 10 11 12 13 14 15 16 17 18 19 20 21 22 23 24]\n",
            "No. of even elements in array: 12\n",
            "No. of odd elements in array: 12\n"
          ]
        }
      ]
    },
    {
      "cell_type": "code",
      "source": [
        "import numpy as np\n",
        "A=np.full((9,9),1,dtype=int)\n",
        "for i in range (len(A)):\n",
        "  if i%2==0:\n",
        "    A[i]=0\n",
        "print(A)"
      ],
      "metadata": {
        "colab": {
          "base_uri": "https://localhost:8080/"
        },
        "id": "nz69LOMbCKfR",
        "outputId": "600fff60-13bc-4578-e50a-58720dbd2598"
      },
      "execution_count": null,
      "outputs": [
        {
          "output_type": "stream",
          "name": "stdout",
          "text": [
            "[[0 0 0 0 0 0 0 0 0]\n",
            " [1 1 1 1 1 1 1 1 1]\n",
            " [0 0 0 0 0 0 0 0 0]\n",
            " [1 1 1 1 1 1 1 1 1]\n",
            " [0 0 0 0 0 0 0 0 0]\n",
            " [1 1 1 1 1 1 1 1 1]\n",
            " [0 0 0 0 0 0 0 0 0]\n",
            " [1 1 1 1 1 1 1 1 1]\n",
            " [0 0 0 0 0 0 0 0 0]]\n"
          ]
        }
      ]
    },
    {
      "cell_type": "markdown",
      "source": [
        "create a 3 X 3 array in which only diagonal elements are printed "
      ],
      "metadata": {
        "id": "RV4zm83kGg7Q"
      }
    },
    {
      "cell_type": "code",
      "source": [
        "# Python3 program to print the\n",
        "# Diagonals of a Matrix\n",
        "MAX = 100\n",
        "\n",
        "# Function to print the Principal Diagonal\n",
        "def printPrincipalDiagonal(mat, n):\n",
        "\n",
        "\tprint(\"Principal Diagonal: \", end = \"\")\n",
        "\n",
        "\tfor i in range(n):\n",
        "\t\t\n",
        "\t\t# Printing principal diagonal\n",
        "\t\tprint(mat[i][i], end = \", \")\n",
        "\n",
        "\tprint()\n",
        "\n",
        "\n",
        "\n",
        "\t\n",
        "# Driver Code\n",
        "n = 3\n",
        "a = [ [ 1, 2, 3 ],\n",
        "\t [ 4, 5, 6 ],\n",
        "\t [ 7, 8, 9 ] ]\n",
        "\n",
        "printPrincipalDiagonal(a, n)\n",
        "\n"
      ],
      "metadata": {
        "colab": {
          "base_uri": "https://localhost:8080/"
        },
        "id": "SsOMUcDKGloV",
        "outputId": "14c7745d-7057-40ed-f06f-45df1832f700"
      },
      "execution_count": null,
      "outputs": [
        {
          "output_type": "stream",
          "name": "stdout",
          "text": [
            "Principal Diagonal: 1, 5, 9, \n"
          ]
        }
      ]
    }
  ]
}