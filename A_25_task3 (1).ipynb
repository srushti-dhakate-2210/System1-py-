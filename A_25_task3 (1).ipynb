{
  "nbformat": 4,
  "nbformat_minor": 0,
  "metadata": {
    "colab": {
      "name": "A-25_task3.ipynb",
      "provenance": [],
      "collapsed_sections": []
    },
    "kernelspec": {
      "name": "python3",
      "display_name": "Python 3"
    },
    "language_info": {
      "name": "python"
    }
  },
  "cells": [
    {
      "cell_type": "markdown",
      "source": [
        "Name : Srushti Dhakate"
      ],
      "metadata": {
        "id": "PoHT2dCsPnoQ"
      }
    },
    {
      "cell_type": "markdown",
      "source": [
        "Batch : A2"
      ],
      "metadata": {
        "id": "VeM8u3hFPmZH"
      }
    },
    {
      "cell_type": "markdown",
      "source": [
        "Roll No :A-25"
      ],
      "metadata": {
        "id": "K1CQ1G0hPltW"
      }
    },
    {
      "cell_type": "markdown",
      "source": [
        "# **PRACTICAL 3 : FUNCTIONS IN PYTHON**"
      ],
      "metadata": {
        "id": "OxB74YwdQAHI"
      }
    },
    {
      "cell_type": "markdown",
      "metadata": {
        "id": "XOTms-e76VlQ"
      },
      "source": [
        "(i)Write a function to find greatest of three numbers."
      ]
    },
    {
      "cell_type": "code",
      "metadata": {
        "colab": {
          "base_uri": "https://localhost:8080/"
        },
        "id": "Yq0NvQO66RvC",
        "outputId": "bb1fb369-a5bc-4ee9-fd75-01e6086bf3b0"
      },
      "source": [
        "def max(a,b,c):\n",
        "    if (a>=b) and (a>=c):\n",
        "       greatest=a\n",
        "    elif (b>=a) and (b>=c):\n",
        "       greatest=b\n",
        "    else:\n",
        "       greatest=c\n",
        "    return greatest\n",
        "\n",
        "d=int(input(\"enter first number: \"))\n",
        "e=int(input(\"enter second number: \"))\n",
        "f=int(input(\"enter third number: \"))\n",
        "print(\"The greatest no. is \" + str(max(d,e,f)))\n",
        "\n",
        "\n"
      ],
      "execution_count": 1,
      "outputs": [
        {
          "output_type": "stream",
          "name": "stdout",
          "text": [
            "enter first number: 33\n",
            "enter second number: 78\n",
            "enter third number: 54\n",
            "The greatest no. is 78\n"
          ]
        }
      ]
    },
    {
      "cell_type": "markdown",
      "metadata": {
        "id": "NiN5p3beAfiE"
      },
      "source": [
        "(ii)Write a function that returns the sum of multiples of 3 and 5 between 0 and limit\n",
        "(parameter). For example, if limit is 20, it should return the sum of 3, 5, 6, 9, 10, 12,\n",
        "15, 18, 20."
      ]
    },
    {
      "cell_type": "code",
      "metadata": {
        "colab": {
          "base_uri": "https://localhost:8080/"
        },
        "id": "oba0iQ8HAgNJ",
        "outputId": "a6656fd9-45da-47a6-d703-c683d227f150"
      },
      "source": [
        "def sum_of_multiples(limit):\n",
        "  sum=0\n",
        "  for i in range (0, limit+1):\n",
        "    if(i%3==0)or(i%5==0):\n",
        "      sum=sum+i\n",
        "  return sum\n",
        "a=int(input(\"enter the range: \"))\n",
        "print(sum_of_multiples(a))"
      ],
      "execution_count": 3,
      "outputs": [
        {
          "output_type": "stream",
          "name": "stdout",
          "text": [
            "enter the range: 20\n",
            "98\n"
          ]
        }
      ]
    },
    {
      "cell_type": "markdown",
      "metadata": {
        "id": "TWXFV8v6BBxi"
      },
      "source": [
        "(iii)Write a function called showNumbers( ) that takes a parameter called limit. It\n",
        "should print all the numbers between 0 and limit with a label to identify the even and\n",
        "odd numbers. For example, if the limit is 3, it should print:\n",
        "0 EVEN\n",
        "1 ODD\n",
        "2 EVEN\n",
        "3 ODD"
      ]
    },
    {
      "cell_type": "code",
      "metadata": {
        "colab": {
          "base_uri": "https://localhost:8080/"
        },
        "id": "_fg52QqRBJTv",
        "outputId": "9cc64183-d789-46cf-921e-49b4cc363217"
      },
      "source": [
        "def showNumbers(limit):\n",
        "  for i in range(0,limit+1):\n",
        "    if i%2==0:\n",
        "     result = \"EVEN\"\n",
        "     print(i,result)\n",
        "    else:\n",
        "     result= \"ODD\"\n",
        "     print(i,result)\n",
        "   \n",
        "  \n",
        "\n",
        "a=int(input(\"enter a limit:\")) \n",
        "showNumbers(a)\n"
      ],
      "execution_count": 4,
      "outputs": [
        {
          "output_type": "stream",
          "name": "stdout",
          "text": [
            "enter a limit:3\n",
            "0 EVEN\n",
            "1 ODD\n",
            "2 EVEN\n",
            "3 ODD\n"
          ]
        }
      ]
    },
    {
      "cell_type": "markdown",
      "metadata": {
        "id": "WUhw3wHFEnKG"
      },
      "source": [
        "(iv) Write a python program to compute the factorial of a number using recursion."
      ]
    },
    {
      "cell_type": "code",
      "metadata": {
        "id": "Om8kCF2QEvVT",
        "colab": {
          "base_uri": "https://localhost:8080/"
        },
        "outputId": "f3712a38-f6d4-4c28-b9b0-ec3d62218bd0"
      },
      "source": [
        "def factorial(n):\n",
        "  if (n==1 or n==0):\n",
        "      return 1\n",
        "  else:\n",
        "      return (n * factorial(n - 1)) \n",
        "\n",
        "a=int(input(\"enter a number: \"))   \n",
        "print(factorial(a))   \n",
        "   "
      ],
      "execution_count": 5,
      "outputs": [
        {
          "output_type": "stream",
          "name": "stdout",
          "text": [
            "enter a number: 14\n",
            "87178291200\n"
          ]
        }
      ]
    },
    {
      "cell_type": "markdown",
      "metadata": {
        "id": "lZDZeFLHG256"
      },
      "source": [
        "(v)Wite a program to calculate GCD using recursive functions."
      ]
    },
    {
      "cell_type": "code",
      "metadata": {
        "id": "6HsqAywFHBPC",
        "colab": {
          "base_uri": "https://localhost:8080/"
        },
        "outputId": "eebba2a0-3627-4094-be12-12f37aff91e3"
      },
      "source": [
        "def gcd(a,b):\n",
        "    if(b==0):\n",
        "        return a\n",
        "    else:\n",
        "        return gcd(b,a%b)\n",
        "a=int(input(\"Enter first number: \"))\n",
        "b=int(input(\"Enter second number: \"))\n",
        "print(\"GCD =\", (gcd(a,b)))\n"
      ],
      "execution_count": 6,
      "outputs": [
        {
          "output_type": "stream",
          "name": "stdout",
          "text": [
            "Enter first number: 56\n",
            "Enter second number: 98\n",
            "GCD = 14\n"
          ]
        }
      ]
    },
    {
      "cell_type": "markdown",
      "metadata": {
        "id": "-xRBqWN0_rie"
      },
      "source": [
        "(vi)To demonstrate any two Lambda functions."
      ]
    },
    {
      "cell_type": "code",
      "metadata": {
        "id": "u_rSO8wm_J_T",
        "colab": {
          "base_uri": "https://localhost:8080/"
        },
        "outputId": "e090246d-efa0-417d-809e-ff385ec121d5"
      },
      "source": [
        "x=lambda a,b,c:a+b+c\n",
        "print(x(14,4,21))"
      ],
      "execution_count": 7,
      "outputs": [
        {
          "output_type": "stream",
          "name": "stdout",
          "text": [
            "39\n"
          ]
        }
      ]
    },
    {
      "cell_type": "code",
      "source": [
        "x=lambda a,b,c,d:a*b+c-d\n",
        "print(x(10,6,8,65))"
      ],
      "metadata": {
        "colab": {
          "base_uri": "https://localhost:8080/"
        },
        "id": "kSuygbOl7O8K",
        "outputId": "23c66c55-986b-4a2b-9f53-f5ddfe93c2d0"
      },
      "execution_count": 8,
      "outputs": [
        {
          "output_type": "stream",
          "name": "stdout",
          "text": [
            "3\n"
          ]
        }
      ]
    }
  ]
}