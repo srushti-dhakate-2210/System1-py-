{
  "nbformat": 4,
  "nbformat_minor": 0,
  "metadata": {
    "colab": {
      "name": "25_Srushti_Dhakate_(Task_8).ipynb",
      "provenance": [],
      "collapsed_sections": []
    },
    "kernelspec": {
      "name": "python3",
      "display_name": "Python 3"
    },
    "language_info": {
      "name": "python"
    }
  },
  "cells": [
    {
      "cell_type": "markdown",
      "source": [
        "* Name: Srushti Dhakate\n",
        "\n",
        "> Indented block\n",
        "\n",
        "\n",
        "* Roll No: 25\n",
        "* Section: A\n",
        "* Batch: A2\n",
        "* Branch: CSE (First Shift)\n",
        "* Subject: Systems Lab - 1\n",
        "* **TASK 8**"
      ],
      "metadata": {
        "id": "G35_F3ZgrbWm"
      }
    },
    {
      "cell_type": "markdown",
      "source": [
        "Q1. Operations and methods in python set."
      ],
      "metadata": {
        "id": "zalvShlAzJwM"
      }
    },
    {
      "cell_type": "markdown",
      "source": [
        "Creating Python Sets"
      ],
      "metadata": {
        "id": "QENsgHN6Lvy7"
      }
    },
    {
      "cell_type": "code",
      "execution_count": 1,
      "metadata": {
        "colab": {
          "base_uri": "https://localhost:8080/"
        },
        "id": "Wfxv_EZ_LNTa",
        "outputId": "ec7e64a0-5c4c-4ff4-f6b0-5550b52682e6"
      },
      "outputs": [
        {
          "output_type": "stream",
          "name": "stdout",
          "text": [
            "{1, 2, 3}\n"
          ]
        }
      ],
      "source": [
        "#Set of integers\n",
        "\n",
        "my_set = {1,2,3}\n",
        "print(my_set)\n",
        "\n"
      ]
    },
    {
      "cell_type": "code",
      "source": [
        "#Set if mixed datatypes\n",
        "\n",
        "my_set = {1.0, \"Hello\", (1,2,3)}\n",
        "print(my_set)\n"
      ],
      "metadata": {
        "colab": {
          "base_uri": "https://localhost:8080/"
        },
        "id": "HJbvbZ_UME75",
        "outputId": "e0cf4b42-38b8-4d30-ff57-0cc4b17ac4a6"
      },
      "execution_count": 3,
      "outputs": [
        {
          "output_type": "stream",
          "name": "stdout",
          "text": [
            "{1.0, 'Hello', (1, 2, 3)}\n"
          ]
        }
      ]
    },
    {
      "cell_type": "code",
      "source": [
        "#Set cannot have duplicates \n",
        "\n",
        "my_set = {1,2,3,4,3,2}\n",
        "print(my_set)"
      ],
      "metadata": {
        "colab": {
          "base_uri": "https://localhost:8080/"
        },
        "id": "NR2u1E-AMQk2",
        "outputId": "2350ff65-f4ad-43f0-c4a2-be1873f7eeb3"
      },
      "execution_count": 4,
      "outputs": [
        {
          "output_type": "stream",
          "name": "stdout",
          "text": [
            "{1, 2, 3, 4}\n"
          ]
        }
      ]
    },
    {
      "cell_type": "code",
      "source": [
        "#we can make a set frm list\n",
        "\n",
        "my_set = set([1,2,3,2])\n",
        "print(my_set)"
      ],
      "metadata": {
        "colab": {
          "base_uri": "https://localhost:8080/"
        },
        "id": "NMi-zaViMv_7",
        "outputId": "9780d8c0-cbcb-4cec-bd2f-d23e5389c67f"
      },
      "execution_count": 6,
      "outputs": [
        {
          "output_type": "stream",
          "name": "stdout",
          "text": [
            "{1, 2, 3}\n"
          ]
        }
      ]
    },
    {
      "cell_type": "code",
      "source": [
        "x = {1,2,3,4}\n",
        "print(type(x))"
      ],
      "metadata": {
        "colab": {
          "base_uri": "https://localhost:8080/"
        },
        "id": "00rlBjb5M8Qf",
        "outputId": "e7f1f07b-b745-4f7e-a7a0-15cf6e6de1d3"
      },
      "execution_count": 7,
      "outputs": [
        {
          "output_type": "stream",
          "name": "stdout",
          "text": [
            "<class 'set'>\n"
          ]
        }
      ]
    },
    {
      "cell_type": "code",
      "source": [
        "#distinguish set and dictionary while creatng and empty set\n",
        "\n",
        "a = {}\n",
        "print(type(a))\n",
        "\n",
        "a = set()\n",
        "print(type(a))\n",
        "\n",
        "a = dict()\n",
        "print(type(a))\n",
        "\n",
        "a = dict({})\n",
        "print(type(a))"
      ],
      "metadata": {
        "colab": {
          "base_uri": "https://localhost:8080/"
        },
        "id": "QeZP47gfN0Qz",
        "outputId": "573fa562-f5dc-4fc9-a665-e4891b88c66f"
      },
      "execution_count": 8,
      "outputs": [
        {
          "output_type": "stream",
          "name": "stdout",
          "text": [
            "<class 'dict'>\n",
            "<class 'set'>\n",
            "<class 'dict'>\n",
            "<class 'dict'>\n"
          ]
        }
      ]
    },
    {
      "cell_type": "code",
      "source": [
        "my_set = {1,3}\n",
        "print(my_set)\n",
        "\n",
        "# print(my_set[0]) gives an error\n",
        "\n",
        "#add and element\n",
        "my_set.add(2)\n",
        "print(my_set)\n",
        "\n",
        "#add multiple elements\n",
        "my_set.update([2,3,4,5,6,7])\n",
        "print(my_set)\n",
        "\n",
        "#add list and set\n",
        "my_set.update([4,5,10], {1,61,11})\n",
        "print(my_set)"
      ],
      "metadata": {
        "colab": {
          "base_uri": "https://localhost:8080/"
        },
        "id": "35YR3D92OF2l",
        "outputId": "8429a22e-9821-4b9c-b6eb-ef8edb50b4fc"
      },
      "execution_count": 9,
      "outputs": [
        {
          "output_type": "stream",
          "name": "stdout",
          "text": [
            "{1, 3}\n",
            "{1, 2, 3}\n",
            "{1, 2, 3, 4, 5, 6, 7}\n",
            "{1, 2, 3, 4, 5, 6, 7, 10, 11, 61}\n"
          ]
        }
      ]
    },
    {
      "cell_type": "code",
      "source": [
        "#using add() method\n",
        "\n",
        "thisset = {\"apple\", \"banana\", \"cherry\"}\n",
        "\n",
        "thisset.add(\"orange\")\n",
        "\n",
        "print(thisset)"
      ],
      "metadata": {
        "colab": {
          "base_uri": "https://localhost:8080/"
        },
        "id": "opMq2MPDQEJH",
        "outputId": "20651825-2eee-489b-98a9-b185be7e8ef6"
      },
      "execution_count": 10,
      "outputs": [
        {
          "output_type": "stream",
          "name": "stdout",
          "text": [
            "{'orange', 'apple', 'banana', 'cherry'}\n"
          ]
        }
      ]
    },
    {
      "cell_type": "code",
      "source": [
        "thisset = {\"apple\", \"banana\", \"cherry\"}\n",
        "tropical = {\"pine\", \"mango\", \"papaya\"}\n",
        "\n",
        "thisset.update(tropical)\n",
        "\n",
        "print(thisset)\n"
      ],
      "metadata": {
        "colab": {
          "base_uri": "https://localhost:8080/"
        },
        "id": "z3K-blVHR_LY",
        "outputId": "bbdab0cf-2435-43e9-bbaf-8dae6e8316d0"
      },
      "execution_count": 12,
      "outputs": [
        {
          "output_type": "stream",
          "name": "stdout",
          "text": [
            "{'mango', 'pine', 'papaya', 'apple', 'banana', 'cherry'}\n"
          ]
        }
      ]
    },
    {
      "cell_type": "code",
      "source": [
        "thisset = {\"apple\", \"banana\", \"cherry\"}\n",
        "tropical = [\"pine\", \"mango\", \"papaya\"]\n",
        "\n",
        "thisset.update(tropical)\n",
        "\n",
        "print(thisset)"
      ],
      "metadata": {
        "colab": {
          "base_uri": "https://localhost:8080/"
        },
        "id": "evCy9i6ISSP2",
        "outputId": "9053fa68-6afd-4d76-a13b-238e4d06050c"
      },
      "execution_count": 13,
      "outputs": [
        {
          "output_type": "stream",
          "name": "stdout",
          "text": [
            "{'pine', 'mango', 'papaya', 'apple', 'banana', 'cherry'}\n"
          ]
        }
      ]
    },
    {
      "cell_type": "code",
      "source": [
        "thisset = {\"apple\", \"banana\", \"cherry\"}\n",
        "tropical = [\"pine\", \"mango\", \"papaya\"]\n",
        "\n",
        "tropical.append(thisset)\n",
        "\n",
        "print(tropical)"
      ],
      "metadata": {
        "colab": {
          "base_uri": "https://localhost:8080/"
        },
        "id": "xDilcDsYSYoQ",
        "outputId": "77710868-666a-4e24-eb53-79a8d7c995b2"
      },
      "execution_count": 14,
      "outputs": [
        {
          "output_type": "stream",
          "name": "stdout",
          "text": [
            "['pine', 'mango', 'papaya', {'apple', 'banana', 'cherry'}]\n"
          ]
        }
      ]
    },
    {
      "cell_type": "code",
      "source": [
        "thisset = {\"apple\", \"banana\", \"cherry\"}\n",
        "\n",
        "thisset.remove(\"banana\")\n",
        "\n",
        "print(thisset)"
      ],
      "metadata": {
        "colab": {
          "base_uri": "https://localhost:8080/"
        },
        "id": "2LZmvBTiSgRM",
        "outputId": "9d22daf2-30f5-454c-b7ab-01a125659d37"
      },
      "execution_count": 15,
      "outputs": [
        {
          "output_type": "stream",
          "name": "stdout",
          "text": [
            "{'apple', 'cherry'}\n"
          ]
        }
      ]
    },
    {
      "cell_type": "code",
      "source": [
        "thisset = {\"apple\", \"banana\", \"cherry\"}\n",
        "\n",
        "thisset.discard(\"banana\")\n",
        "\n",
        "print(thisset)"
      ],
      "metadata": {
        "colab": {
          "base_uri": "https://localhost:8080/"
        },
        "id": "ztd3JEc-TVBz",
        "outputId": "22daf404-b2f4-43bd-ee39-9ea2317b34b1"
      },
      "execution_count": 16,
      "outputs": [
        {
          "output_type": "stream",
          "name": "stdout",
          "text": [
            "{'apple', 'cherry'}\n"
          ]
        }
      ]
    },
    {
      "cell_type": "code",
      "source": [
        "thisset = {\"apple\", \"banana\", \"cherry\"}\n",
        "\n",
        "x = thisset.pop()\n",
        "\n",
        "print(x)\n",
        "\n",
        "print(thisset)"
      ],
      "metadata": {
        "colab": {
          "base_uri": "https://localhost:8080/"
        },
        "id": "Y4sZg1BeTZMk",
        "outputId": "0134cad8-28d0-4faa-837e-7d0819639af6"
      },
      "execution_count": 17,
      "outputs": [
        {
          "output_type": "stream",
          "name": "stdout",
          "text": [
            "apple\n",
            "{'banana', 'cherry'}\n"
          ]
        }
      ]
    },
    {
      "cell_type": "code",
      "source": [
        "thisset = {\"apple\", \"banana\", \"cherry\"}\n",
        "\n",
        "thisset.clear()\n",
        "\n",
        "print(thisset)"
      ],
      "metadata": {
        "colab": {
          "base_uri": "https://localhost:8080/"
        },
        "id": "ZtRbUM1oULc6",
        "outputId": "79f29957-0e90-4e25-bec6-ce11b65b6688"
      },
      "execution_count": 18,
      "outputs": [
        {
          "output_type": "stream",
          "name": "stdout",
          "text": [
            "set()\n"
          ]
        }
      ]
    },
    {
      "cell_type": "code",
      "source": [
        "# Python 3 code to\n",
        "# remove an item from list\n",
        "# using del statement\n",
        "\n",
        "lst = ['Iris', 'Orchids', 'Rose', 'Lavender',\n",
        "\t'Lily', 'Carnations']\n",
        "print(\"Original List is :\", lst)\n",
        "\n",
        "# using del statement\n",
        "# to delete item (Orchids at index 1)\n",
        "# from the list\n",
        "del lst[1]\n",
        "print(\"After deleting the item :\", lst)\n"
      ],
      "metadata": {
        "colab": {
          "base_uri": "https://localhost:8080/"
        },
        "id": "1aw7f-n5Ucoe",
        "outputId": "453498ee-7ed5-497d-f479-7f949d305aa8"
      },
      "execution_count": 19,
      "outputs": [
        {
          "output_type": "stream",
          "name": "stdout",
          "text": [
            "Original List is : ['Iris', 'Orchids', 'Rose', 'Lavender', 'Lily', 'Carnations']\n",
            "After deleting the item : ['Iris', 'Rose', 'Lavender', 'Lily', 'Carnations']\n"
          ]
        }
      ]
    },
    {
      "cell_type": "markdown",
      "source": [
        "Joining Two Sets"
      ],
      "metadata": {
        "id": "-TmW0ArgkQ_u"
      }
    },
    {
      "cell_type": "code",
      "source": [
        "#using union()\n",
        "\n",
        "set1 = {\"a\", \"b\", \"c\"}\n",
        "set2 = {1,2,3}\n",
        "\n",
        "set3 = set1.union(set2)\n",
        "print(set3)"
      ],
      "metadata": {
        "id": "NF3Eno2LU_v2",
        "colab": {
          "base_uri": "https://localhost:8080/"
        },
        "outputId": "a9691a48-d351-4838-ba74-4d0bd9be0b86"
      },
      "execution_count": 20,
      "outputs": [
        {
          "output_type": "stream",
          "name": "stdout",
          "text": [
            "{1, 'a', 2, 3, 'c', 'b'}\n"
          ]
        }
      ]
    },
    {
      "cell_type": "code",
      "source": [
        "#using union()\n",
        "\n",
        "set1 = {\"a\", \"b\", \"c\"}\n",
        "set2 = {1,2,3}\n",
        "\n",
        "print(set1.union(set2))"
      ],
      "metadata": {
        "colab": {
          "base_uri": "https://localhost:8080/"
        },
        "id": "lrhw90c5k__s",
        "outputId": "da457f01-87bc-410d-ea5b-1340f29f890e"
      },
      "execution_count": 21,
      "outputs": [
        {
          "output_type": "stream",
          "name": "stdout",
          "text": [
            "{1, 'a', 2, 3, 'c', 'b'}\n"
          ]
        }
      ]
    },
    {
      "cell_type": "code",
      "source": [
        "#using update()\n",
        "\n",
        "set1 = {\"a\", \"b\", \"c\"}\n",
        "set2 = {1,2,3}\n",
        "\n",
        "set3 = set1.update(set2)\n",
        "print(set3)"
      ],
      "metadata": {
        "colab": {
          "base_uri": "https://localhost:8080/"
        },
        "id": "xGl1LU4mkjXa",
        "outputId": "a923e558-7cb1-4ed7-cb1d-08989dd9c548"
      },
      "execution_count": 22,
      "outputs": [
        {
          "output_type": "stream",
          "name": "stdout",
          "text": [
            "None\n"
          ]
        }
      ]
    },
    {
      "cell_type": "code",
      "source": [
        "set1 = {\"a\", \"b\" , \"c\"}\n",
        "set2 = {1, 2, 3}\n",
        "\n",
        "set3 = set1.union(set2)\n",
        "print(set3)"
      ],
      "metadata": {
        "colab": {
          "base_uri": "https://localhost:8080/"
        },
        "id": "HAOBX5_SksnB",
        "outputId": "fe72df63-1707-4d43-8274-26eeb934d7f7"
      },
      "execution_count": 23,
      "outputs": [
        {
          "output_type": "stream",
          "name": "stdout",
          "text": [
            "{1, 'a', 2, 3, 'c', 'b'}\n"
          ]
        }
      ]
    },
    {
      "cell_type": "code",
      "source": [
        "set1 = {\"a\", \"b\", \"c\"}\n",
        "set2 = {1,2,3}\n",
        "set3 = {7,8,9}\n",
        "\n",
        "set1.update(set2,set3)\n",
        "\n",
        "print(set1)\n",
        "\n"
      ],
      "metadata": {
        "colab": {
          "base_uri": "https://localhost:8080/"
        },
        "id": "WlZWFVJamP32",
        "outputId": "f89840f1-cb30-4a43-94b6-238a200c3bb3"
      },
      "execution_count": 24,
      "outputs": [
        {
          "output_type": "stream",
          "name": "stdout",
          "text": [
            "{1, 'a', 2, 3, 'c', 'b', 7, 8, 9}\n"
          ]
        }
      ]
    },
    {
      "cell_type": "markdown",
      "source": [
        "Insert Items\n"
      ],
      "metadata": {
        "id": "VtN5v0jHl6cD"
      }
    },
    {
      "cell_type": "code",
      "source": [
        "#intersection_update()\n",
        "\n",
        "set1 = {\"apple\", \"banana\", \"cherry\"}\n",
        "set2 = {\"google\", \"microsoft\", \"apple\"}\n",
        "\n",
        "\n",
        "set1.intersection_update(set2)\n",
        "\n",
        "print(set1)"
      ],
      "metadata": {
        "colab": {
          "base_uri": "https://localhost:8080/"
        },
        "id": "i039ZXZNlz-s",
        "outputId": "f2a0d732-d365-47dd-a168-d17a2d99c298"
      },
      "execution_count": 25,
      "outputs": [
        {
          "output_type": "stream",
          "name": "stdout",
          "text": [
            "{'apple'}\n"
          ]
        }
      ]
    },
    {
      "cell_type": "code",
      "source": [
        "#intersection()\n",
        "\n",
        "set1 = {\"apple\", \"banana\", \"cherry\"}\n",
        "set2 = {\"google\", \"microsoft\", \"apple\"}\n",
        "\n",
        "\n",
        "z=set1.intersection(set2)\n",
        "\n",
        "print(z)"
      ],
      "metadata": {
        "colab": {
          "base_uri": "https://localhost:8080/"
        },
        "id": "BYJozAKEma3E",
        "outputId": "84e5df5c-b904-40f7-83ac-b730a93b0e00"
      },
      "execution_count": 27,
      "outputs": [
        {
          "output_type": "stream",
          "name": "stdout",
          "text": [
            "{'apple'}\n"
          ]
        }
      ]
    },
    {
      "cell_type": "code",
      "source": [
        "#symmetric_difference_update()\n",
        "\n",
        "x = {\"apple\", \"banana\", \"cherry\"}\n",
        "y = {\"google\", \"microsoft\", \"apple\"}\n",
        "\n",
        "x.symmetric_difference_update(y)\n",
        "\n",
        "print(x)"
      ],
      "metadata": {
        "colab": {
          "base_uri": "https://localhost:8080/"
        },
        "id": "CPGUoOs5mxsg",
        "outputId": "3a77a7a6-fd6e-4c91-fa89-b1d5e7b6b69c"
      },
      "execution_count": 28,
      "outputs": [
        {
          "output_type": "stream",
          "name": "stdout",
          "text": [
            "{'google', 'microsoft', 'banana', 'cherry'}\n"
          ]
        }
      ]
    },
    {
      "cell_type": "code",
      "source": [
        "#create a set\n",
        "num_set = set([0,1,2,3,4,5])\n",
        "for n in num_set:\n",
        "  print(n, end=' ')\n",
        "print(\"\\n\\nCreating a set using string:\")\n",
        "char_set = set(\"w3resource\")\n",
        "\n",
        "#iterating using for loop\n",
        "for val in char_set:\n",
        "  print(val, end=' ')"
      ],
      "metadata": {
        "colab": {
          "base_uri": "https://localhost:8080/"
        },
        "id": "_OydRuErCZl9",
        "outputId": "6d6c30b1-2c76-4425-bb25-004e28836720"
      },
      "execution_count": 29,
      "outputs": [
        {
          "output_type": "stream",
          "name": "stdout",
          "text": [
            "0 1 2 3 4 5 \n",
            "\n",
            "Creating a set using string:\n",
            "o c r s 3 u e w "
          ]
        }
      ]
    },
    {
      "cell_type": "code",
      "source": [
        "X = {1,2,3}\n",
        "Y = {1,2,3,4,5,6,7}\n",
        "\n",
        "#checking subset using <= operator\n",
        "print(X <= Y)\n",
        "#TRUE\n",
        "\n",
        "#using issubset()\n",
        "print(X.issubset(Y))\n",
        "#TRUE\n",
        "\n",
        "#checking superset using >= operator\n",
        "print(X >= Y)\n",
        "#FALSE\n",
        "\n",
        "print(Y >= X)\n",
        "#TRUE\n",
        "\n",
        "#checking superset using issuperset()\n",
        "print(Y.issuperset(X))\n",
        "#TRUE\n",
        "\n",
        "print(X.issuperset(Y))"
      ],
      "metadata": {
        "colab": {
          "base_uri": "https://localhost:8080/"
        },
        "id": "6l3TfrBqzc0A",
        "outputId": "c6fe5a5c-392f-43b4-dd74-46acd6dcc6e8"
      },
      "execution_count": 30,
      "outputs": [
        {
          "output_type": "stream",
          "name": "stdout",
          "text": [
            "True\n",
            "True\n",
            "False\n",
            "True\n",
            "True\n",
            "False\n"
          ]
        }
      ]
    },
    {
      "cell_type": "markdown",
      "source": [
        "Q2. Write a Python program to remove an item from a set if it is present in \n",
        "the set."
      ],
      "metadata": {
        "id": "_JfXBr-dpLbT"
      }
    },
    {
      "cell_type": "code",
      "source": [
        "my_set = set()\n",
        "my_set.update([1,2,3,4,5,6,7,8,9])\n",
        "\n",
        "x = int(input(\"Enter the item to be removed from the set:\"))\n",
        "my_set.discard(x)\n",
        "print(my_set)"
      ],
      "metadata": {
        "colab": {
          "base_uri": "https://localhost:8080/"
        },
        "id": "64qgHuPpoVm4",
        "outputId": "7219a9a7-16a1-4521-d98e-23f9b6a3b567"
      },
      "execution_count": 31,
      "outputs": [
        {
          "output_type": "stream",
          "name": "stdout",
          "text": [
            "Enter the item to be removed from the set:7\n",
            "{1, 2, 3, 4, 5, 6, 8, 9}\n"
          ]
        }
      ]
    },
    {
      "cell_type": "markdown",
      "source": [
        "Q3. Write a Python program to create an intersection of sets.(using both\n",
        "operator and method)"
      ],
      "metadata": {
        "id": "UXhvijQXpu6r"
      }
    },
    {
      "cell_type": "code",
      "source": [
        "set1 = set({\"butter\", \"milk\"})\n",
        "set2 = set({\"bread\", \"jam\", \"butter\", \"milk\"})\n",
        "#set3 = set1 & set2\n",
        "print(set1 & set2)\n",
        "\n",
        "print(set1.intersection(set2))"
      ],
      "metadata": {
        "colab": {
          "base_uri": "https://localhost:8080/"
        },
        "id": "xxUR9NcApqZg",
        "outputId": "f678094f-f7aa-4206-e4db-1acf47c2e7ee"
      },
      "execution_count": 32,
      "outputs": [
        {
          "output_type": "stream",
          "name": "stdout",
          "text": [
            "{'butter', 'milk'}\n",
            "{'butter', 'milk'}\n"
          ]
        }
      ]
    },
    {
      "cell_type": "markdown",
      "source": [
        "Q4. Write a Python program to create union of sets.(using both operator\n",
        "and method)"
      ],
      "metadata": {
        "id": "zC3VUIB2qUQN"
      }
    },
    {
      "cell_type": "code",
      "source": [
        "set1 = set({\"butter\", \"milk\"})\n",
        "set2 = set({\"bread\", \"jam\", \"butter\", \"milk\"})\n",
        "\n",
        "print(set1 | set2)\n",
        "\n",
        "print(set1.union(set2))"
      ],
      "metadata": {
        "colab": {
          "base_uri": "https://localhost:8080/"
        },
        "id": "dTA1p_tNqOTG",
        "outputId": "3554d576-8da1-4d39-98db-2872269c1973"
      },
      "execution_count": 33,
      "outputs": [
        {
          "output_type": "stream",
          "name": "stdout",
          "text": [
            "{'bread', 'butter', 'milk', 'jam'}\n",
            "{'bread', 'butter', 'milk', 'jam'}\n"
          ]
        }
      ]
    },
    {
      "cell_type": "markdown",
      "source": [
        "Q5. Write a Python program to create set difference of sets.(using both\n",
        "operator and method)"
      ],
      "metadata": {
        "id": "yH_zXSn2q76j"
      }
    },
    {
      "cell_type": "code",
      "source": [
        "A = {'a', 'b', 'c', 'd'}\n",
        "B = {'c', 'f', 'g'}\n",
        "\n",
        "print(A.difference(B))\n",
        "\n",
        "print(B.difference(A))\n",
        "\n",
        "#using symbols\n",
        "print(A-B)\n",
        "print(B-A)\n",
        "\n",
        "print(A.difference(B))\n",
        "print(B.difference(A))"
      ],
      "metadata": {
        "colab": {
          "base_uri": "https://localhost:8080/"
        },
        "id": "fzE1wwzlqxPz",
        "outputId": "19e953b4-a53e-4770-db09-351a2c79dd90"
      },
      "execution_count": 34,
      "outputs": [
        {
          "output_type": "stream",
          "name": "stdout",
          "text": [
            "{'a', 'b', 'd'}\n",
            "{'f', 'g'}\n",
            "{'a', 'b', 'd'}\n",
            "{'f', 'g'}\n",
            "{'a', 'b', 'd'}\n",
            "{'f', 'g'}\n"
          ]
        }
      ]
    },
    {
      "cell_type": "markdown",
      "source": [
        "Q6. Write a python program to find symmetric set difference between two\n",
        "sets.(using both operator and method)"
      ],
      "metadata": {
        "id": "fgkHBJVpsroa"
      }
    },
    {
      "cell_type": "code",
      "source": [
        "A = {'a', 'b', 'c', 'd'}\n",
        "B = {'c', 'd', 'e'}\n",
        "C = {}\n",
        "\n",
        "print(A.symmetric_difference(B))\n",
        "print(B.symmetric_difference(A))\n",
        "\n",
        "print(A.symmetric_difference(C))\n",
        "print(B.symmetric_difference(C))\n",
        "\n",
        "\n",
        "\n"
      ],
      "metadata": {
        "colab": {
          "base_uri": "https://localhost:8080/"
        },
        "id": "R64e18o-rp5B",
        "outputId": "6f8e6c5f-8700-48a6-e3df-491b676eef48"
      },
      "execution_count": 35,
      "outputs": [
        {
          "output_type": "stream",
          "name": "stdout",
          "text": [
            "{'a', 'b', 'e'}\n",
            "{'a', 'b', 'e'}\n",
            "{'a', 'c', 'b', 'd'}\n",
            "{'d', 'c', 'e'}\n"
          ]
        }
      ]
    },
    {
      "cell_type": "code",
      "source": [
        "#using operator\n",
        "\n",
        "A = {'p', 'q', 'c', 'd'}\n",
        "B = {'c', 'd', 'e'}\n",
        "\n",
        "print(A^B)\n",
        "print(B^A)\n",
        "\n",
        "print(A^A)\n",
        "print(B^B)"
      ],
      "metadata": {
        "colab": {
          "base_uri": "https://localhost:8080/"
        },
        "id": "OggeA8Mts-43",
        "outputId": "0a64eb3d-a625-4802-ed1c-aadad30ac709"
      },
      "execution_count": 37,
      "outputs": [
        {
          "output_type": "stream",
          "name": "stdout",
          "text": [
            "{'p', 'q', 'e'}\n",
            "{'p', 'q', 'e'}\n",
            "set()\n",
            "set()\n"
          ]
        }
      ]
    },
    {
      "cell_type": "markdown",
      "source": [
        "Q7. Write a python program to demonstrate Frozen set operations.\n",
        "Perform following operations on the frozen set.\n",
        "Hint:\n",
        "Like normal sets, frozenset can also perform different operations like \n",
        "copy, difference, intersection, symmetric difference, and union."
      ],
      "metadata": {
        "id": "SH27i89sxq2R"
      }
    },
    {
      "cell_type": "code",
      "source": [
        "#frozenset() IMPORTANT!!!!!!!!!!!\n",
        "\n",
        "vowels = ('a', 'e', 'i', 'o', 'u')\n",
        "\n",
        "fSet = frozenset(vowels)\n",
        "\n",
        "print(type(fSet))\n",
        "print('The frozen set is:', fSet)\n",
        "print(\"The empty frozen set is:\", frozenset())\n",
        "\n"
      ],
      "metadata": {
        "colab": {
          "base_uri": "https://localhost:8080/"
        },
        "id": "n2NAWYtVtVCH",
        "outputId": "a49ee1a6-7dbf-436c-a049-4efc61c30004"
      },
      "execution_count": 38,
      "outputs": [
        {
          "output_type": "stream",
          "name": "stdout",
          "text": [
            "<class 'frozenset'>\n",
            "The frozen set is: frozenset({'o', 'a', 'i', 'u', 'e'})\n",
            "The empty frozen set is: frozenset()\n"
          ]
        }
      ]
    },
    {
      "cell_type": "code",
      "source": [
        "A = frozenset([1,2,3,4])\n",
        "B = frozenset([3,4,5,6])\n",
        "\n",
        "#copy\n",
        "C = A.copy()\n",
        "print(C)\n",
        "\n",
        "#union\n",
        "print(A.union(B))\n",
        "\n",
        "#difference\n",
        "print(A.difference(B))\n",
        "\n",
        "#symmetric_difference\n",
        "print(A.symmetric_difference(B))\n",
        "\n",
        "#intersection\n",
        "print(A.intersection(B))\n"
      ],
      "metadata": {
        "colab": {
          "base_uri": "https://localhost:8080/"
        },
        "id": "DYN5EwKuxYo6",
        "outputId": "fe5700c3-f3b6-42e4-9415-094a3ec3060a"
      },
      "execution_count": 39,
      "outputs": [
        {
          "output_type": "stream",
          "name": "stdout",
          "text": [
            "frozenset({1, 2, 3, 4})\n",
            "frozenset({1, 2, 3, 4, 5, 6})\n",
            "frozenset({1, 2})\n",
            "frozenset({1, 2, 5, 6})\n",
            "frozenset({3, 4})\n"
          ]
        }
      ]
    },
    {
      "cell_type": "markdown",
      "source": [
        "Q8. Write a python program to demonstrate different methods like\n",
        "isdisjoint, issubset, and issuperset are also available."
      ],
      "metadata": {
        "id": "KWmjt_cxyLmn"
      }
    },
    {
      "cell_type": "code",
      "source": [
        "A = frozenset([1,2,3,4])\n",
        "B = frozenset([3,4,5,6])\n",
        "C = frozenset([5,6])\n",
        "\n",
        "print(A.isdisjoint(C))\n",
        "print(B.isdisjoint(C))\n",
        "\n",
        "print(C.issubset(B))\n",
        "\n",
        "print(B.issuperset(C))"
      ],
      "metadata": {
        "colab": {
          "base_uri": "https://localhost:8080/"
        },
        "id": "-bSrAE_PyZyY",
        "outputId": "3d15aea8-6809-4123-8b9e-f16dff59c6c3"
      },
      "execution_count": 40,
      "outputs": [
        {
          "output_type": "stream",
          "name": "stdout",
          "text": [
            "True\n",
            "False\n",
            "True\n",
            "True\n"
          ]
        }
      ]
    },
    {
      "cell_type": "markdown",
      "source": [
        "Q9. A set contains names which begin either with A or with B. Write a program to separate out the names into two sets, one containing names beginning with A and another containing names beginning with B."
      ],
      "metadata": {
        "id": "BM86MWuw3YDm"
      }
    },
    {
      "cell_type": "code",
      "source": [
        "#creating a set using a string\n",
        "test_set = {\"Ajay\", \"Arpit\", \"Bhargavi\", \"Aarav\", \"Bhuvan\", \"Bhavesh\"}\n",
        "list1=[]\n",
        "list2=[]\n",
        "\n",
        "#iterating using enumerated for loop\n",
        "for id,val in enumerate(test_set):\n",
        "  print(id,val)\n",
        "\n",
        "#converting set into list\n",
        "mylist=list(test_set)\n",
        "print(mylist)\n",
        "\n",
        "for val in mylist:\n",
        "  if val.startswith('A'):\n",
        "    list1.append(val)\n",
        "  else:\n",
        "    list2.append(val)\n",
        "print(\"The set1 with sll names staring eith letter A:\")\n",
        "print(set(list1))\n",
        "\n",
        "print(\"The set2 with all names starting with letter B:\")\n",
        "print(set(list2))\n",
        "\n"
      ],
      "metadata": {
        "id": "owLn8YS53hnW",
        "colab": {
          "base_uri": "https://localhost:8080/"
        },
        "outputId": "846d8049-22b8-4ea5-a69a-0bd4e658d05f"
      },
      "execution_count": 44,
      "outputs": [
        {
          "output_type": "stream",
          "name": "stdout",
          "text": [
            "0 Bhargavi\n",
            "1 Aarav\n",
            "2 Bhuvan\n",
            "3 Arpit\n",
            "4 Ajay\n",
            "5 Bhavesh\n",
            "['Bhargavi', 'Aarav', 'Bhuvan', 'Arpit', 'Ajay', 'Bhavesh']\n",
            "The set1 with sll names staring eith letter A:\n",
            "{'Ajay', 'Arpit', 'Aarav'}\n",
            "The set2 with all names starting with letter B:\n",
            "{'Bhargavi', 'Bhuvan', 'Bhavesh'}\n"
          ]
        }
      ]
    },
    {
      "cell_type": "code",
      "source": [
        "#another method\n",
        "a = set()\n",
        "b = set()\n",
        "names = {'anand', 'bina', 'benjamin', 'ayesha', 'brian', 'adarsh'}\n",
        "print(names)\n",
        "\n",
        "for ele in names:\n",
        "      if ele.startswith(\"a\"):\n",
        "           a.add(ele)\n",
        "      elif ele.startswith(\"b\"):\n",
        "           b.add(ele)\n",
        "\n",
        "print(\"Set a contains : \", a)\n",
        "print(\"Set b contains : \", b)"
      ],
      "metadata": {
        "colab": {
          "base_uri": "https://localhost:8080/"
        },
        "id": "he0FdNAI9q6M",
        "outputId": "a083b65c-cf71-4f04-b247-b6abb7eba683"
      },
      "execution_count": 46,
      "outputs": [
        {
          "output_type": "stream",
          "name": "stdout",
          "text": [
            "{'adarsh', 'ayesha', 'bina', 'anand', 'brian', 'benjamin'}\n",
            "Set a contains :  {'adarsh', 'ayesha', 'anand'}\n",
            "Set b contains :  {'benjamin', 'brian', 'bina'}\n"
          ]
        }
      ]
    },
    {
      "cell_type": "markdown",
      "source": [
        "Q10. Write a program to create a set containing 10 randomly generated\n",
        "numbers in the range 15 to 45. Count how many of these numbers are\n",
        "less than 30. Delete all numbers which are greater than 35."
      ],
      "metadata": {
        "id": "NBEn6NyHy4fn"
      }
    },
    {
      "cell_type": "code",
      "source": [
        "import random\n",
        "a=[]\n",
        "count=0\n",
        "num=int(input(\"Enter the number of random elements to generate:\"))\n",
        "\n",
        "for j in range(num):\n",
        "  (a.append(random.randint(15,45)))\n",
        "print(a)\n",
        "myset=set(a)\n",
        "print(myset)\n",
        "\n",
        "#count how many of these numbers are less than 30.\n",
        "for n in myset:\n",
        "  if(n<30):\n",
        "    count=count+1\n",
        "print(\"The count of numbers less than 30 are:\", count)\n",
        "\n",
        "#delete all numbers which are greater than 35\n",
        "\n",
        "import copy\n",
        "for item in copy.copy(myset):\n",
        "  if item>35:\n",
        "    myset.remove(item)\n",
        "print(\"The items left in the set after removing numbers greater than 35 are:\", myset)"
      ],
      "metadata": {
        "colab": {
          "base_uri": "https://localhost:8080/"
        },
        "id": "NIZBgoWQC1ML",
        "outputId": "0d9d7010-bb6e-4cfc-d02e-b9413ce87bf3"
      },
      "execution_count": 47,
      "outputs": [
        {
          "output_type": "stream",
          "name": "stdout",
          "text": [
            "Enter the number of random elements to generate:10\n",
            "[38, 36, 25, 34, 15, 29, 16, 31, 23, 28]\n",
            "{34, 36, 38, 15, 16, 23, 25, 28, 29, 31}\n",
            "The count of numbers less than 30 are: 6\n",
            "The items left in the set after removing numbers greater than 35 are: {34, 15, 16, 23, 25, 28, 29, 31}\n"
          ]
        }
      ]
    }
  ]
}