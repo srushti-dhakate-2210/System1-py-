{
  "nbformat": 4,
  "nbformat_minor": 0,
  "metadata": {
    "colab": {
      "name": "A-25 LinearRegression.ipynb",
      "provenance": [],
      "collapsed_sections": []
    },
    "kernelspec": {
      "name": "python3",
      "display_name": "Python 3"
    },
    "language_info": {
      "name": "python"
    }
  },
  "cells": [
    {
      "cell_type": "markdown",
      "source": [
        "# Name : Srushti Dhakate\n",
        "# Roll no. : A25\n",
        "# Systems lab (Practise que no. 1)"
      ],
      "metadata": {
        "id": "mOLbPh12fn89"
      }
    },
    {
      "cell_type": "code",
      "source": [
        "x_list = [5.0, 5.1, 5.2, 5.3, 5.4, 5.5, 5.6, 5.7, 5.8]\n",
        "y_list = [53, 55, 59, 61, 65, 68, 70, 74, 76]"
      ],
      "metadata": {
        "id": "wm6lTvRbhGyA"
      },
      "execution_count": 12,
      "outputs": []
    },
    {
      "cell_type": "code",
      "source": [
        "sum_x = 0\n",
        "sum_y = 0\n",
        "\n",
        "for i in range(0, len(x_list)):\n",
        "  sum_x += x_list[i]\n",
        "\n",
        "for i in range(0, len(y_list)):\n",
        "  sum_y += y_list[i]\n",
        "\n",
        "mean_x = sum_x/len(x_list) # X\n",
        "mean_y = sum_y/len(y_list) # Y\n",
        "\n",
        "print(\"The mean of x is\", mean_x)\n",
        "print(\"The mean of y is\", mean_y)"
      ],
      "metadata": {
        "colab": {
          "base_uri": "https://localhost:8080/"
        },
        "id": "56JxBaULnf27",
        "outputId": "e6893e98-c16b-4c22-d2eb-481d6fff0794"
      },
      "execution_count": 13,
      "outputs": [
        {
          "output_type": "stream",
          "name": "stdout",
          "text": [
            "The mean of x is 5.4\n",
            "The mean of y is 64.55555555555556\n"
          ]
        }
      ]
    },
    {
      "cell_type": "code",
      "execution_count": 14,
      "metadata": {
        "colab": {
          "base_uri": "https://localhost:8080/"
        },
        "id": "UFjjaHcilE5E",
        "outputId": "3c642a91-85e3-44ce-d69d-659549599940"
      },
      "outputs": [
        {
          "output_type": "stream",
          "name": "stdout",
          "text": [
            "17.800000000000004\n",
            "0.6000000000000001\n"
          ]
        }
      ],
      "source": [
        "x_minus_mean_list = [] \n",
        "y_minus_mean_list = [] # yi - Y\n",
        "sum1=0\n",
        "sum2=0\n",
        "\n",
        "for i in range(0, len(x_list)): \n",
        "  x_minus_mean_list.append(x_list[i] - mean_x) # xi - X\n",
        "\n",
        "for i in range(0, len(y_list)):\n",
        "  y_minus_mean_list.append(y_list[i] - mean_y) # yi - Y\n",
        "\n",
        "size = len(x_list)\n",
        "\n",
        "for i in range(0, size):\n",
        "  sum1 += (x_minus_mean_list[i]*y_minus_mean_list[i]) # (xi - X)*(yi - Y)\n",
        "\n",
        "for i in range(0, size):\n",
        "  sum2 += x_minus_mean_list[i]*x_minus_mean_list[i] # (xi - X)^2\n",
        "\n",
        "print(sum1)\n",
        "print(sum2)\n",
        "\n"
      ]
    },
    {
      "cell_type": "code",
      "source": [
        "slope = sum1/sum2 \n",
        "print(slope)\n",
        "\n",
        "y_intercept = mean_y - (slope*mean_x)\n",
        "print(y_intercept)"
      ],
      "metadata": {
        "colab": {
          "base_uri": "https://localhost:8080/"
        },
        "id": "Tu0KsDy31Tkf",
        "outputId": "28db8810-015b-40f0-fddc-30310a1e5ca8"
      },
      "execution_count": 15,
      "outputs": [
        {
          "output_type": "stream",
          "name": "stdout",
          "text": [
            "29.666666666666668\n",
            "-95.64444444444446\n"
          ]
        }
      ]
    },
    {
      "cell_type": "code",
      "source": [
        "height = float(input(\"Enter the height: \"))\n",
        "\n",
        "weight = (slope*height) + y_intercept\n",
        "\n",
        "print(\"The predicted weight of the person is\", weight)"
      ],
      "metadata": {
        "colab": {
          "base_uri": "https://localhost:8080/"
        },
        "id": "-vUtuTZB1_Ze",
        "outputId": "647f5ef1-e84e-4f21-e99b-41f42e8d25d2"
      },
      "execution_count": 16,
      "outputs": [
        {
          "output_type": "stream",
          "name": "stdout",
          "text": [
            "Enter the height: 5.9\n",
            "The predicted weight of the person is 79.3888888888889\n"
          ]
        }
      ]
    },
    {
      "cell_type": "markdown",
      "source": [
        "# Method 2"
      ],
      "metadata": {
        "id": "Cv-XhWOJhtE3"
      }
    },
    {
      "cell_type": "code",
      "execution_count": 17,
      "metadata": {
        "colab": {
          "base_uri": "https://localhost:8080/"
        },
        "id": "-fzNJFNyQbYg",
        "outputId": "bb27ce71-7eed-4530-b771-526de87d9a8a"
      },
      "outputs": [
        {
          "output_type": "stream",
          "name": "stdout",
          "text": [
            "mean value of x:  5.4\n",
            "mean value of y:  64.33333333333333\n",
            "y= -103.06666666666668 + 30.999999999999996 *x\n",
            "Enter the value of x: 5.9\n",
            "Weigth:  79.8333333333333\n"
          ]
        }
      ],
      "source": [
        "x_coordinates=[5,5.1,5.2,5.3,5.4,5.5,5.6,5.7,5.8]\n",
        "y_coordinates=[51,55,59,61,65,68,70,74,76]\n",
        "\n",
        "# n=int(input(\"Enter the number of points: \"))\n",
        "\n",
        "# for i in range(n):\n",
        "#   print(i+1,\"point:\")\n",
        "#   x_coordinates.append(float(input(\"x-coordinate: \")))\n",
        "#   y_coordinates.append(float(input(\"y-coordinate: \")))\n",
        "\n",
        "# print(x_coordinates)\n",
        "# print(y_coordinates)\n",
        "n=len(x_coordinates)\n",
        "x_mean = (sum(x_coordinates))/n\n",
        "y_mean = (sum(y_coordinates))/n\n",
        "print(\"mean value of x: \",x_mean)\n",
        "print(\"mean value of y: \",y_mean)\n",
        "w1_num = 0.0\n",
        "w1_den = 0.0\n",
        "\n",
        "for i in range(n):\n",
        "  w1_num +=((x_coordinates[i] - x_mean)*(y_coordinates[i] - y_mean))\n",
        "  w1_den += ((x_coordinates[i] - x_mean)*(x_coordinates[i] - x_mean))\n",
        "\n",
        "w1=w1_num/w1_den\n",
        "\n",
        "w0=y_mean -(w1*x_mean)\n",
        "\n",
        "print(\"y=\",w0,\"+\",w1,\"*x\")\n",
        "\n",
        "x=float(input(\"Enter the value of x: \"))\n",
        "y= w0 + w1*x\n",
        "print(\"Weigth: \",y)"
      ]
    }
  ]
}