{
  "nbformat": 4,
  "nbformat_minor": 0,
  "metadata": {
    "colab": {
      "name": "A-25_task2.ipynb",
      "provenance": [],
      "collapsed_sections": []
    },
    "kernelspec": {
      "name": "python3",
      "display_name": "Python 3"
    },
    "language_info": {
      "name": "python"
    }
  },
  "cells": [
    {
      "cell_type": "markdown",
      "source": [
        "Name:Srushti Dhakate"
      ],
      "metadata": {
        "id": "diqqTRoFK0f7"
      }
    },
    {
      "cell_type": "markdown",
      "source": [
        "Batch:A2"
      ],
      "metadata": {
        "id": "0kpgA7rwLC-9"
      }
    },
    {
      "cell_type": "markdown",
      "source": [
        "Roll No:A-25"
      ],
      "metadata": {
        "id": "r37EdC-7LGaN"
      }
    },
    {
      "cell_type": "markdown",
      "source": [
        "# **PRACTICAL 2: CONTROL STRUCTURES IN PYTHON**"
      ],
      "metadata": {
        "id": "pFxIY7lWJoUF"
      }
    },
    {
      "cell_type": "markdown",
      "source": [
        "(i)Write a Program to read the numbers until -1 is encountered. Also count the negatives,\n",
        "positives, and zeros entered by the user."
      ],
      "metadata": {
        "id": "lNAWDAbpLQ2V"
      }
    },
    {
      "cell_type": "code",
      "source": [
        "pos=neg=zero=0\n",
        "while(2):\n",
        "  a=int(input(\"enter any number \"))\n",
        "  if a==-1:\n",
        "   print(\"OUTPUT: \")\n",
        "   break\n",
        "  elif a>0:\n",
        "    pos=pos+1\n",
        "  elif a<0:\n",
        "    neg=neg+1\n",
        "  elif a==0:\n",
        "    zero=zero+1\n",
        "\n",
        "print(\"The number of positive numbers is \", pos)\n",
        "print(\"The number of negative number is \", neg)\n",
        "print(\"The number of zeroes is \", zero)"
      ],
      "metadata": {
        "id": "JLgDnpF7Jny1",
        "colab": {
          "base_uri": "https://localhost:8080/"
        },
        "outputId": "bf3aa75f-4fd4-46c7-a9e3-76adc4eebb54"
      },
      "execution_count": 2,
      "outputs": [
        {
          "output_type": "stream",
          "name": "stdout",
          "text": [
            "enter any number 34\n",
            "enter any number -23\n",
            "enter any number 0\n",
            "enter any number -1\n",
            "OUTPUT: \n",
            "The number of positive numbers is  1\n",
            "The number of negative number is  1\n",
            "The number of zeroes is  1\n"
          ]
        }
      ]
    },
    {
      "cell_type": "markdown",
      "source": [
        "(ii)Write a Program to read the numbers until -1 is encountered. Find the average of\n",
        "positive numbers and negative numbers entered by the user."
      ],
      "metadata": {
        "id": "E3O0m_fELPWz"
      }
    },
    {
      "cell_type": "code",
      "source": [
        "pos=neg=zero=0\n",
        "pos_sum=neg_sum=pos_avg=neg_avg=0\n",
        "while(1):\n",
        "  number=int(input(\"enter any number \"))\n",
        "  if number==-1:\n",
        "   print(\"OUTPUT \")\n",
        "   break\n",
        "  elif number>0:\n",
        "    pos=pos+1\n",
        "    pos_sum = pos_sum + number\n",
        "  elif number<0:\n",
        "    neg=neg+1\n",
        "    neg_sum = neg_sum + number\n",
        "  elif number==0:\n",
        "    zero=zero+1\n",
        "pos_avg=pos_sum/pos\n",
        "neg_avg=neg_sum/neg\n",
        "\n",
        "print(\"The average of positive numbers is \", pos_avg)\n",
        "print(\"The average of negative number is \", neg_avg)"
      ],
      "metadata": {
        "id": "jl6JOUn3LfA2",
        "colab": {
          "base_uri": "https://localhost:8080/"
        },
        "outputId": "d1bf0155-b602-486a-ac9b-16a3abb577e9"
      },
      "execution_count": 4,
      "outputs": [
        {
          "output_type": "stream",
          "name": "stdout",
          "text": [
            "enter any number 43\n",
            "enter any number 98\n",
            "enter any number -23\n",
            "enter any number -48\n",
            "enter any number -1\n",
            "OUTPUT \n",
            "The average of positive numbers is  70.5\n",
            "The average of negative number is  -35.5\n"
          ]
        }
      ]
    },
    {
      "cell_type": "markdown",
      "metadata": {
        "id": "3OTq9xGV5uuG"
      },
      "source": [
        "(iii)Write a Program to find the roots of a quadratic equation entered by the user."
      ]
    },
    {
      "cell_type": "code",
      "metadata": {
        "id": "fwSLVJBI5vuI",
        "colab": {
          "base_uri": "https://localhost:8080/"
        },
        "outputId": "631143dd-fdac-40bc-fc63-c708a13ea71e"
      },
      "source": [
        "a=int(input(\"enter a number: \"))\n",
        "b=int(input(\"enter a number: \"))\n",
        "c=int(input(\"enter a number: \"))\n",
        "if a==0:\n",
        " print(\"not a quadratic equation\")\n",
        "d=b**2-4*a*c\n",
        "root1=(-b+(d**(0.5)))/(2*a)\n",
        "root2=(-b-(d**(0.5)))/(2*a)\n",
        "print(root1)\n",
        "print(root2)\n",
        "if d>0:\n",
        " print(\"roots are real\",root1,root2)\n",
        "elif d<0:\n",
        " print(\"roots are imaginary:\")\n",
        " print(-b/(2*a),\"+i\",d**(0.5))\n",
        " print(-b/(2*a),\"-i\",d**(0.5))\n",
        "elif d==0:\n",
        " print(\"roots are equal and real\",root1, root2)"
      ],
      "execution_count": 5,
      "outputs": [
        {
          "output_type": "stream",
          "name": "stdout",
          "text": [
            "enter a number: 5\n",
            "enter a number: 8\n",
            "enter a number: 9\n",
            "(-0.7999999999999999+1.0770329614269007j)\n",
            "(-0.8-1.0770329614269007j)\n",
            "roots are imaginary:\n",
            "-0.8 +i (6.594924843938243e-16+10.770329614269007j)\n",
            "-0.8 -i (6.594924843938243e-16+10.770329614269007j)\n"
          ]
        }
      ]
    },
    {
      "cell_type": "markdown",
      "metadata": {
        "id": "ouTWoVXu2R-I"
      },
      "source": [
        "(iv)Ask the user for a number and determine whether the number is prime or not."
      ]
    },
    {
      "cell_type": "code",
      "metadata": {
        "colab": {
          "base_uri": "https://localhost:8080/"
        },
        "id": "KTloGT7L0kgx",
        "outputId": "9d309e53-39fc-49c3-81de-67a5b99ec570"
      },
      "source": [
        "n=0\n",
        "a=int(input(\"enter a number:\"))\n",
        "for i in range (1,a+1):\n",
        " if a%i==0:\n",
        "  n+=1\n",
        "if n==2:\n",
        " print(\"entered number is a prime number\")\n",
        "else:\n",
        " print(\"entered number is not a prime number\")"
      ],
      "execution_count": 6,
      "outputs": [
        {
          "output_type": "stream",
          "name": "stdout",
          "text": [
            "enter a number:53\n",
            "entered number is a prime number\n"
          ]
        }
      ]
    },
    {
      "cell_type": "markdown",
      "metadata": {
        "id": "ryuemSY-2KgL"
      },
      "source": [
        "(v)Write a program to reverse a number entered by the user."
      ]
    },
    {
      "cell_type": "code",
      "metadata": {
        "colab": {
          "base_uri": "https://localhost:8080/"
        },
        "id": "GFj0WpnC0ZC0",
        "outputId": "c0f7139b-c20c-4e09-9430-2ad2ca338f36"
      },
      "source": [
        "reverse=0\n",
        "a=int(input(\"enter a number:\"))\n",
        "while(a!=0):\n",
        " r=a%10\n",
        " reverse=reverse*10+r\n",
        " a//=10\n",
        "print(\"reversed number is:\",reverse)"
      ],
      "execution_count": 7,
      "outputs": [
        {
          "output_type": "stream",
          "name": "stdout",
          "text": [
            "enter a number:7843213\n",
            "reversed number is: 3123487\n"
          ]
        }
      ]
    },
    {
      "cell_type": "markdown",
      "metadata": {
        "id": "OeO8oeNG2B9J"
      },
      "source": [
        "(vi)Write a program to calculate the sum of series: 1/1^3+ 1/2^3+1/3^3+......+1/n^3"
      ]
    },
    {
      "cell_type": "code",
      "metadata": {
        "colab": {
          "base_uri": "https://localhost:8080/"
        },
        "id": "OHLa1szV0MYX",
        "outputId": "3c9b71cd-b920-4b75-8d3c-4956291ac723"
      },
      "source": [
        "h=int(input(\"enter a number:\"))\n",
        "sum=0\n",
        "for i in range (1, h+1):\n",
        " sum=sum+1/((i)**3)\n",
        "print(\"sum of  the given series is:\", sum)"
      ],
      "execution_count": 8,
      "outputs": [
        {
          "output_type": "stream",
          "name": "stdout",
          "text": [
            "enter a number:8\n",
            "sum of  the given series is: 1.1951602435617104\n"
          ]
        }
      ]
    },
    {
      "cell_type": "markdown",
      "metadata": {
        "id": "bl40ql_n2ob0"
      },
      "source": [
        "(vii)Write a program to print the following pattern."
      ]
    },
    {
      "cell_type": "code",
      "metadata": {
        "colab": {
          "base_uri": "https://localhost:8080/"
        },
        "id": "3xKF6nkvznbg",
        "outputId": "31272013-5fcd-40ae-8b2b-3a3a28a6f648"
      },
      "source": [
        "a=int(input(\"enter a number:\"))\n",
        "for i in range (0, a):\n",
        "    for j in range (0, i+1):\n",
        "      print(\" * \", end=\" \")\n",
        "    print(\"\\r\")\n",
        "\n"
      ],
      "execution_count": 9,
      "outputs": [
        {
          "output_type": "stream",
          "name": "stdout",
          "text": [
            "enter a number:5\n",
            " *  \n",
            " *   *  \n",
            " *   *   *  \n",
            " *   *   *   *  \n",
            " *   *   *   *   *  \n"
          ]
        }
      ]
    },
    {
      "cell_type": "markdown",
      "source": [
        "(viii) Write a Python program to construct the following pattern, using a nested for loop."
      ],
      "metadata": {
        "id": "hB0yPwYAMK_i"
      }
    },
    {
      "cell_type": "code",
      "source": [
        "n=int(input(\"enter any number: \"))\n",
        "for i in range(n):\n",
        "    for j in range(i):\n",
        "        print ('* ', end=\"\")\n",
        "    print('')\n",
        "\n",
        "for i in range(n,0,-1):\n",
        "    for j in range(i):\n",
        "        print('* ', end=\"\")\n",
        "    print('')"
      ],
      "metadata": {
        "id": "LPvkeMLbMsIC",
        "colab": {
          "base_uri": "https://localhost:8080/"
        },
        "outputId": "4fafd4a4-40ad-4b71-e87a-3f8215dba2ba"
      },
      "execution_count": 10,
      "outputs": [
        {
          "output_type": "stream",
          "name": "stdout",
          "text": [
            "enter any number: 5\n",
            "\n",
            "* \n",
            "* * \n",
            "* * * \n",
            "* * * * \n",
            "* * * * * \n",
            "* * * * \n",
            "* * * \n",
            "* * \n",
            "* \n"
          ]
        }
      ]
    }
  ]
}