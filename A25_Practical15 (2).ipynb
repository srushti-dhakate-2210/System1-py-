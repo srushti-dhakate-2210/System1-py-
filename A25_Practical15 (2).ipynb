{
  "cells": [
    {
      "cell_type": "markdown",
      "metadata": {
        "id": "JtWwZQU5UZK4"
      },
      "source": [
        "## Name: Srushti Dhakate\n",
        "## Section: A\n",
        "## Batch: A2\n",
        "## Roll no.: 25\n",
        "## Subject: Systems Lab\n",
        "## Practical No.: 15\n",
        "\n"
      ]
    },
    {
      "cell_type": "markdown",
      "metadata": {
        "id": "4HEL2vTkU_5O"
      },
      "source": [
        "1)Linear Regression on given dataset with   x as input and y as output.\n",
        "\n",
        "x = [5,7,8,7,2,17,2,9,4,11,12,9,6]\n",
        "\n",
        "y = [99,86,87,88,111,86,103,87,94,78,77,85,86] \n",
        "\n",
        "Print plot and slope, intercept."
      ]
    },
    {
      "cell_type": "code",
      "execution_count": 8,
      "metadata": {
        "colab": {
          "base_uri": "https://localhost:8080/",
          "height": 317
        },
        "id": "Rz2xSuGCTyXp",
        "outputId": "0ca2c116-3cf6-4ae7-c022-02b23253b77b"
      },
      "outputs": [
        {
          "data": {
            "image/png": "[encoded data removed]",
            "text/plain": [
              "<Figure size 432x288 with 1 Axes>"
            ]
          },
          "metadata": {
            "needs_background": "light"
          },
          "output_type": "display_data"
        },
        {
          "name": "stdout",
          "output_type": "stream",
          "text": [
            "The slope is -1.7512877115526118\n",
            "The intercept is 103.10596026490066\n",
            "The standard error is:  0.453536157607742\n"
          ]
        }
      ],
      "source": [
        "import matplotlib.pyplot as plt\n",
        "from scipy import stats\n",
        "x = [5, 7, 8, 7, 2, 17, 2, 9, 4, 11, 12, 9, 6]\n",
        "y = [99, 86, 87, 88, 111, 86, 103, 87, 94, 78, 77, 85, 86]\n",
        "\n",
        "slope, intercept, r, p, std_err = stats.linregress(x, y)\n",
        "\n",
        "def func(x):\n",
        "  return slope * x + intercept\n",
        "\n",
        "graph = list(map(func, x))\n",
        "\n",
        "plt.scatter(x, y, color=\"blue\")\n",
        "plt.plot(x, graph, color=\"orange\")\n",
        "plt.show()\n",
        "print(\"The slope is\",slope)\n",
        "print(\"The intercept is\",intercept)\n",
        "print(\"The standard error is: \", std_err)"
      ]
    },
    {
      "cell_type": "markdown",
      "metadata": {
        "colab": {
          "base_uri": "https://localhost:8080/",
          "height": 300
        },
        "id": "yf--Zr5dYtoy",
        "outputId": "409bbde7-c1a5-4625-a7d6-9bf98674dac5"
      },
      "source": [
        "height=[5.0,5.1,5.2,5.3,5.4,5.5,5.6,5.7,5.8]\n",
        "weight=[53,55,59,61,65,68,70,74,76]\n",
        "\n",
        "slope, intercept, r, p, std_err = stats.linregress(height,weight)\n",
        "\n",
        "def func(height):\n",
        "  return slope * height + intercept\n",
        "\n",
        "graph = list(map(func, height))\n",
        "\n",
        "plt.scatter(height, weight, color=\"blue\")\n",
        "plt.plot(height, graph, color=\"red\")\n",
        "plt.show()\n",
        "print(\"The slope is\",slope)\n",
        "print(\"The intercept is\",intercept)"
      ]
    },
    {
      "cell_type": "markdown",
      "metadata": {
        "id": "iytziHvkfDaQ"
      },
      "source": [
        "3)Solve Given Linear equations.\n",
        "\n",
        "(I)a = np.array([[6,4,9], [4,6,9], [9,9,17]])\n",
        "b = np.array([-1,-1,1])\n",
        "\n",
        "\n",
        "---\n",
        "\n",
        "\n",
        "\n",
        "(II)a = np.array([[6,0], [0,3]])\n",
        "b = np.array([1,1])"
      ]
    },
    {
      "cell_type": "code",
      "execution_count": 10,
      "metadata": {
        "id": "xELLQ__Pd_p6"
      },
      "outputs": [],
      "source": [
        "#1)\n",
        "import numpy as np\n",
        "a = [[6,4,9], [4,6,9], [9,9,17]]\n",
        "b = [-1,-1,1]\n",
        "c = np.linalg.solve(a, b)\n"
      ]
    },
    {
      "cell_type": "code",
      "execution_count": null,
      "metadata": {
        "colab": {
          "base_uri": "https://localhost:8080/"
        },
        "id": "-RrCXQbDgqaj",
        "outputId": "0ced83f5-b2b1-4366-f94d-0b678eebf325"
      },
      "outputs": [
        {
          "data": {
            "text/plain": [
              "array([-3.25, -3.25,  3.5 ])"
            ]
          },
          "execution_count": 27,
          "metadata": {},
          "output_type": "execute_result"
        }
      ],
      "source": [
        "c"
      ]
    },
    {
      "cell_type": "code",
      "execution_count": 11,
      "metadata": {
        "id": "nMbxwjkVgaCp"
      },
      "outputs": [],
      "source": [
        "#2)\n",
        "import numpy as np\n",
        "a = np.array([[6,0], [0,3]])\n",
        "b = np.array([1,1])\n",
        "c = np.linalg.solve(a, b)\n"
      ]
    },
    {
      "cell_type": "code",
      "execution_count": null,
      "metadata": {
        "colab": {
          "base_uri": "https://localhost:8080/"
        },
        "id": "D9kIw7GUg0O-",
        "outputId": "009a8161-82ad-4c88-e85e-513fe8dfc420"
      },
      "outputs": [
        {
          "data": {
            "text/plain": [
              "array([0.16666667, 0.33333333])"
            ]
          },
          "execution_count": 29,
          "metadata": {},
          "output_type": "execute_result"
        }
      ],
      "source": [
        "c"
      ]
    },
    {
      "cell_type": "markdown",
      "metadata": {
        "id": "kDOIM4AKg51N"
      },
      "source": [
        "4)Find determinant of a matrix, Rank of Matrix, Transpose of a Matrix, and Inverse of a matrix."
      ]
    },
    {
      "cell_type": "code",
      "execution_count": 14,
      "metadata": {
        "colab": {
          "base_uri": "https://localhost:8080/"
        },
        "id": "jPVNr_wLg00L",
        "outputId": "16480673-d366-4e83-9828-1e4eda42c4ac"
      },
      "outputs": [
        {
          "name": "stdout",
          "output_type": "stream",
          "text": [
            "Determinant:  1030246.0000000002\n",
            "\n",
            "Rank:  4\n",
            "\n",
            "Transpose:\n",
            "[[71 44 56 70]\n",
            " [53 76 11 78]\n",
            " [29  9 35  7]\n",
            " [12 11  4 81]]\n",
            "\n",
            "Inverse:\n",
            "[[ 0.17368473 -0.09720397 -0.11756998 -0.00672461]\n",
            " [-0.06072919  0.04967454  0.03746484  0.00040088]\n",
            " [-0.25081582  0.13713521  0.19938927  0.00868822]\n",
            " [-0.06994252  0.02431749  0.04829526  0.01702021]]\n",
            "\n"
          ]
        }
      ],
      "source": [
        "import numpy as np\n",
        "arr=np.matrix(\"71,53,29,12;44,76,9,11;56,11,35,4;70,78,7,81\")\n",
        "\n",
        "# Deteminant of the matrix\n",
        "determinant_arr=np.linalg.det(arr)\n",
        "print(\"Determinant: \",determinant_arr)\n",
        "print(\"\")\n",
        "\n",
        "# Rank of the matrix\n",
        "rank_arr=np.linalg.matrix_rank(arr)\n",
        "print(\"Rank: \",rank_arr)\n",
        "print(\"\")\n",
        "\n",
        "# Transpose of the matrix\n",
        "transpose_arr=np.transpose(arr)\n",
        "print(\"Transpose:\")\n",
        "print(transpose_arr)\n",
        "print(\"\")\n",
        "\n",
        "# Inverse of the matrix\n",
        "inverse_arr=np.linalg.inv(arr)\n",
        "print(\"Inverse:\")\n",
        "print(inverse_arr)\n",
        "print(\"\")\n"
      ]
    },
    {
      "cell_type": "markdown",
      "metadata": {
        "id": "MF_oiM8hlr3Y"
      },
      "source": [
        "5) Mass balance\n",
        "• The input flow rates of Gasoline, Kerosene,\n",
        "Diesel and Fuel Oil are given in Kgmol/min\n",
        "• The output flowrates from the two distillation\n",
        "columns have been indicated in percentages by\n",
        "mass for each of the components\n",
        "• The actual output flowrates are need to be\n",
        "determined.\n",
        "\n",
        "Flow system can be represented by a\n",
        "set of equations considering mass\n",
        "flow rate in kgmol/min\n",
        "\n",
        "0.24𝑇1 + 0.15𝐵1 + 0.18𝑇2 + 0.07𝐵2 = 75\n",
        "\n",
        "0.65𝑇1 + 0.10𝐵1 + 0.24𝑇2 + 0.04𝐵2 = 125\n",
        "\n",
        "0.10𝑇1 + 0.54𝐵1 + 0.42𝑇2 + 0.54𝐵2 = 200\n",
        "\n",
        "0.01𝑇1 + 0.21𝐵1 + 0.18𝑇2 + 0.35𝐵2 = 100\n",
        "\n",
        "\n",
        "Find T1,B1,T2 and B2 by solving above equations.\n"
      ]
    },
    {
      "cell_type": "code",
      "execution_count": 13,
      "metadata": {
        "colab": {
          "base_uri": "https://localhost:8080/"
        },
        "id": "X9nJGDnVi7Pf",
        "outputId": "cfd32596-31d6-4a28-be06-2b147db9174a"
      },
      "outputs": [
        {
          "name": "stdout",
          "output_type": "stream",
          "text": [
            "Solution: \n",
            "[[138.70453942]\n",
            " [112.15821609]\n",
            " [ 68.57800195]\n",
            " [179.18768251]]\n",
            "\n",
            "T1= [[138.70453942]] \n",
            "B1= [[112.15821609]] \n",
            "T2= [[68.57800195]] \n",
            "B2= [[179.18768251]]\n"
          ]
        }
      ],
      "source": [
        "import numpy as np\n",
        "A = np.matrix(\"0.24, 0.15, 0.18, 0.07; 0.65, 0.1, 0.24, 0.04; 0.1, 0.54, 0.42, 0.54; 0.01, 0.21, 0.18, 0.35\")\n",
        "B = np.matrix(\"75, 125, 200, 100\").T\n",
        "C = np.linalg.solve(A,B)\n",
        "print(\"Solution: \")\n",
        "#print(\"\")\n",
        "print(C)\n",
        "print(\"\")\n",
        "print(\"T1=\",C[0],\"\\nB1=\",C[1],\"\\nT2=\",C[2],\"\\nB2=\",C[3])"
      ]
    },
    {
      "cell_type": "code",
      "execution_count": null,
      "metadata": {
        "id": "NKCEC6RSnATL"
      },
      "outputs": [],
      "source": []
    }
  ],
  "metadata": {
    "colab": {
      "name": "A25 Practical15.ipynb",
      "provenance": []
    },
    "kernelspec": {
      "display_name": "Python 3",
      "name": "python3"
    },
    "language_info": {
      "name": "python"
    }
  },
  "nbformat": 4,
  "nbformat_minor": 0
}
